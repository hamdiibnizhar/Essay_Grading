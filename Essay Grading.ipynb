{
  "cells": [
    {
      "cell_type": "markdown",
      "metadata": {
        "id": "_hc60EbN3SFC"
      },
      "source": [
        "# Essay Grading\n",
        "Azhari Haris Al Hamdi - 2106782694\n",
        "\n",
        "link notebook : https://colab.research.google.com/drive/1UziqdT23XmptxEX8vBENpD5Fk5TwMHAe?usp=sharing\n",
        "\n",
        "Data Splitting :\n",
        "\n",
        "* 80% data training dengan randomize\n",
        "* 20% data testing dengan randomize\n",
        "\n",
        "Feature Extractor :\n",
        "\n",
        "* Fusion Feature (penggabungan dengan set tanpa mengubah order)\n",
        "* TF-IDF\n",
        "* cosine similarity\n",
        "* word2vec\n",
        "\n",
        "Metode :\n",
        "\n",
        "* Multinomial Naive Bayes\n",
        "* Decission Tree Regressor\n",
        "* XGBoost Regressor\n",
        "* Random Forest Classifier\n",
        "* Simple LSTM Concatenate\n",
        "\n",
        "data :\n",
        "\n",
        "nama file : \"dataset_esay grading.csv\"\n",
        "\n",
        "* feature 1: \"jawaban_mahasiswa\"\n",
        "\n",
        "* feature 2: \"jawaban_dosen\"\n",
        "\n",
        "* label : \"human_rater\"\n",
        "\n",
        "* label2 : \"human_rater_scaled\""
      ]
    },
    {
      "cell_type": "markdown",
      "metadata": {
        "id": "asjs8NI8ijz4"
      },
      "source": [
        "# Diagram Blok Penyelesaian Classifikasi dan Analisis Permasalahan\n",
        "\n",
        "![](https://drive.google.com/uc?export=view&id=1WHR0-TPzz5Eh3Z6HFjPQ96pvqq0R_PAv)"
      ]
    },
    {
      "cell_type": "markdown",
      "metadata": {
        "id": "TLcipVp_JVL8"
      },
      "source": [
        "Dataset yang digunakan memiliki kelas target yang jumlahnya lebih dari dua, sehingga untuk metode classifier ada dua cara yang bisa dilakukan :\n",
        "\n",
        "1. dengan metode multilabel classification yaitu memprediksi kelas yang hasil prediksinya bisa terdapat kelas dominan dengan probabilitas kelas yang dianggap positif adalah > 0.5. pada metode ini digunakan sigmoid dan multilabel binary method.\n",
        "\n",
        "2. dengan metode multiclass classification yaitu memprediksi kelas yang dihasilkan hanya satu yang mungkin paling dominan. jika ada kelas yang probabilitasnya > 0.5 maka kelas yang lain tidak mungkin > 0.5 atau kelas yang paling tinggi scorenya maka itulah yang keluar sebagai kelas prediksi. pada metode ini digunakan softmax.\n",
        "\n",
        "dari 2 metode ini saya memilih metode kedua yaitu dengan multiclass classification dengan softmax. pada data target kelas akan dilakukan label encoding untuk mendapatkan urutannya dan mempermudah prediksi karena menggunakan number sebagai data target bukan kata categorical."
      ]
    },
    {
      "cell_type": "markdown",
      "metadata": {
        "id": "yUScbYGy49v0"
      },
      "source": [
        "# Install, Import dan Download Library Dependency [1] [2]"
      ]
    },
    {
      "cell_type": "code",
      "execution_count": null,
      "metadata": {
        "colab": {
          "base_uri": "https://localhost:8080/"
        },
        "id": "qvJKY44hdnAQ",
        "outputId": "87f613e8-2b3c-4d7a-ac0b-703f3e5c0d7e"
      },
      "outputs": [
        {
          "name": "stdout",
          "output_type": "stream",
          "text": [
            "Looking in indexes: https://pypi.org/simple, https://us-python.pkg.dev/colab-wheels/public/simple/\n",
            "Requirement already satisfied: Sastrawi in /usr/local/lib/python3.7/dist-packages (1.0.1)\n",
            "\u001b[31mERROR: Operation cancelled by user\u001b[0m\n",
            "Looking in indexes: https://pypi.org/simple, https://us-python.pkg.dev/colab-wheels/public/simple/\n",
            "Requirement already satisfied: jupyterlab-widgets in /usr/local/lib/python3.7/dist-packages (1.1.0)\n",
            "usage: jupyter [-h] [--version] [--config-dir] [--data-dir] [--runtime-dir]\n",
            "               [--paths] [--json] [--debug]\n",
            "               [subcommand]\n",
            "\n",
            "Jupyter: Interactive Computing\n",
            "\n",
            "positional arguments:\n",
            "  subcommand     the subcommand to launch\n",
            "\n",
            "optional arguments:\n",
            "  -h, --help     show this help message and exit\n",
            "  --version      show the versions of core jupyter packages and exit\n",
            "  --config-dir   show Jupyter config dir\n",
            "  --data-dir     show Jupyter data dir\n",
            "  --runtime-dir  show Jupyter runtime dir\n",
            "  --paths        show all Jupyter paths. Add --json for machine-readable\n",
            "                 format.\n",
            "  --json         output paths as machine-readable json\n",
            "  --debug        output debug information about paths\n",
            "\n",
            "Available subcommands: bundlerextension console execute kernel kernelspec\n",
            "migrate nbconvert nbextension notebook qtconsole run serverextension\n",
            "troubleshoot trust\n",
            "\n",
            "Jupyter command `jupyter-labextension` not found.\n",
            "Looking in indexes: https://pypi.org/simple, https://us-python.pkg.dev/colab-wheels/public/simple/\n",
            "Requirement already satisfied: parfit in /usr/local/lib/python3.7/dist-packages (0.220)\n",
            "Requirement already satisfied: numpy in /usr/local/lib/python3.7/dist-packages (from parfit) (1.21.6)\n",
            "Requirement already satisfied: matplotlib in /usr/local/lib/python3.7/dist-packages (from parfit) (3.2.2)\n",
            "Requirement already satisfied: sklearn in /usr/local/lib/python3.7/dist-packages (from parfit) (0.0)\n",
            "Requirement already satisfied: joblib in /usr/local/lib/python3.7/dist-packages (from parfit) (1.1.0)\n",
            "Requirement already satisfied: cycler>=0.10 in /usr/local/lib/python3.7/dist-packages (from matplotlib->parfit) (0.11.0)\n",
            "Requirement already satisfied: pyparsing!=2.0.4,!=2.1.2,!=2.1.6,>=2.0.1 in /usr/local/lib/python3.7/dist-packages (from matplotlib->parfit) (3.0.9)\n",
            "Requirement already satisfied: kiwisolver>=1.0.1 in /usr/local/lib/python3.7/dist-packages (from matplotlib->parfit) (1.4.2)\n",
            "Requirement already satisfied: python-dateutil>=2.1 in /usr/local/lib/python3.7/dist-packages (from matplotlib->parfit) (2.8.2)\n",
            "Requirement already satisfied: typing-extensions in /usr/local/lib/python3.7/dist-packages (from kiwisolver>=1.0.1->matplotlib->parfit) (4.2.0)\n",
            "Requirement already satisfied: six>=1.5 in /usr/local/lib/python3.7/dist-packages (from python-dateutil>=2.1->matplotlib->parfit) (1.15.0)\n",
            "Requirement already satisfied: scikit-learn in /usr/local/lib/python3.7/dist-packages (from sklearn->parfit) (1.0.2)\n",
            "Requirement already satisfied: scipy>=1.1.0 in /usr/local/lib/python3.7/dist-packages (from scikit-learn->sklearn->parfit) (1.4.1)\n",
            "Requirement already satisfied: threadpoolctl>=2.0.0 in /usr/local/lib/python3.7/dist-packages (from scikit-learn->sklearn->parfit) (3.1.0)\n"
          ]
        }
      ],
      "source": [
        "!pip install Sastrawi\n",
        "\n",
        "!pip install jupyterlab-widgets\n",
        "!jupyter labextension install @jupyter-widgets/jupyterlab-manager\n",
        "\n",
        "!pip install parfit\n",
        "\n",
        "!pip install fasttext"
      ]
    },
    {
      "cell_type": "code",
      "execution_count": null,
      "metadata": {
        "id": "Uq1TOqw0dyQP"
      },
      "outputs": [],
      "source": [
        "import sys\n",
        "import random\n",
        "import re\n",
        "import io\n",
        "import numpy as np\n",
        "import pandas as pd\n",
        "import nltk\n",
        "from nltk.tokenize import sent_tokenize\n",
        "\n",
        "from Sastrawi.StopWordRemover.StopWordRemoverFactory import StopWordRemoverFactory\n",
        "from Sastrawi.Stemmer.StemmerFactory import StemmerFactory\n",
        "\n",
        "from sklearn.feature_extraction.text import CountVectorizer\n",
        "from sklearn.feature_extraction.text import TfidfVectorizer\n",
        "from sklearn.preprocessing import LabelEncoder\n",
        "from sklearn.multiclass import OneVsRestClassifier\n",
        "from sklearn.pipeline import Pipeline\n",
        "from sklearn.naive_bayes import MultinomialNB\n",
        "from sklearn.linear_model import LogisticRegression\n",
        "from sklearn.model_selection import GridSearchCV\n",
        "from sklearn.metrics import classification_report\n",
        "from sklearn.metrics import confusion_matrix\n",
        "from sklearn.model_selection import cross_val_score\n",
        "from sklearn.model_selection import RepeatedStratifiedKFold\n",
        "\n",
        "from sklearn.model_selection import ParameterGrid\n",
        "from sklearn.linear_model import SGDClassifier\n",
        "from sklearn.metrics import roc_auc_score\n",
        "from sklearn.metrics import roc_curve, auc\n",
        "from sklearn.metrics import accuracy_score\n",
        "from sklearn.metrics import f1_score\n",
        "\n",
        "import parfit.parfit as pf\n",
        "\n",
        "import matplotlib.pyplot as plt\n",
        "import seaborn as sns\n",
        "\n",
        "import fasttext.util\n",
        "import gensim\n",
        "\n",
        "from sklearn.metrics.pairwise import cosine_similarity\n",
        "import xgboost\n",
        "from sklearn.linear_model import LinearRegression\n",
        "from sklearn.linear_model import Ridge\n",
        "from sklearn.linear_model import Lasso\n",
        "from sklearn.linear_model import ElasticNet\n",
        "from sklearn.neighbors import KNeighborsRegressor\n",
        "from sklearn.tree import DecisionTreeRegressor\n",
        "from sklearn.svm import SVR\n",
        "from sklearn.ensemble import RandomForestRegressor\n",
        "from sklearn.ensemble import RandomForestClassifier\n",
        "\n",
        "import scipy.sparse as sp\n",
        "\n",
        "from sklearn.metrics import r2_score\n",
        "from sklearn.model_selection import train_test_split\n",
        "from sklearn.metrics import mean_squared_error\n",
        "from sklearn.metrics import mean_absolute_error\n",
        "from math import sqrt\n",
        "\n",
        "from numpy import array\n",
        "from keras.preprocessing.text import one_hot\n",
        "from keras.preprocessing.sequence import pad_sequences\n",
        "from keras.models import Sequential\n",
        "from keras.layers.core import Activation, Dropout, Dense\n",
        "from keras.layers import Flatten, LSTM\n",
        "from keras.layers import GlobalMaxPooling1D\n",
        "from keras.models import Model\n",
        "from keras.layers.embeddings import Embedding\n",
        "from keras.preprocessing.text import Tokenizer\n",
        "from keras.layers import Input\n",
        "from keras.layers.merge import Concatenate\n",
        "import tensorflow as tf\n",
        "from tensorflow.keras.utils import plot_model\n",
        "from tensorflow.keras.utils import to_categorical\n",
        "\n",
        "import warnings\n",
        "warnings.filterwarnings('ignore')"
      ]
    },
    {
      "cell_type": "code",
      "execution_count": null,
      "metadata": {
        "colab": {
          "base_uri": "https://localhost:8080/"
        },
        "id": "P_HOD2MDdp1b",
        "outputId": "0658e215-f93c-44c2-fc7a-0b6918857fb4"
      },
      "outputs": [
        {
          "name": "stdout",
          "output_type": "stream",
          "text": [
            "[nltk_data] Downloading package punkt to /root/nltk_data...\n",
            "[nltk_data]   Package punkt is already up-to-date!\n"
          ]
        },
        {
          "data": {
            "text/plain": [
              "True"
            ]
          },
          "execution_count": 2,
          "metadata": {},
          "output_type": "execute_result"
        }
      ],
      "source": [
        "nltk.download('punkt')"
      ]
    },
    {
      "cell_type": "code",
      "execution_count": null,
      "metadata": {
        "id": "JM1wsmvixkw6"
      },
      "outputs": [],
      "source": [
        "# fasttext.util.download_model('id', if_exists='ignore')"
      ]
    },
    {
      "cell_type": "markdown",
      "metadata": {
        "id": "7PQvM9jy5Ofe"
      },
      "source": [
        "# Upload File dataset menggunakan dataset dari emas dengan nama \"dataset_esay grading.csv\""
      ]
    },
    {
      "cell_type": "markdown",
      "metadata": {
        "id": "N05KKuOk54Eo"
      },
      "source": [
        "## Uncomment code dibawah ini jika memakai jupyter notebook"
      ]
    },
    {
      "cell_type": "code",
      "execution_count": null,
      "metadata": {
        "id": "9PPVE8pH52l5"
      },
      "outputs": [],
      "source": [
        "# from ipywidgets import FileUpload\n",
        "# from IPython.display import display\n",
        "# upload = FileUpload(accept='.csv', multiple=False)"
      ]
    },
    {
      "cell_type": "markdown",
      "metadata": {
        "id": "h1Nosa_56Hoj"
      },
      "source": [
        "## Run code dibawah ini jika memakai Google Colaboratory notebook"
      ]
    },
    {
      "cell_type": "code",
      "execution_count": null,
      "metadata": {
        "colab": {
          "base_uri": "https://localhost:8080/",
          "height": 73,
          "resources": {
            "http://localhost:8080/nbextensions/google.colab/files.js": {
              "data": "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",
              "headers": [
                [
                  "content-type",
                  "application/javascript"
                ]
              ],
              "ok": true,
              "status": 200,
              "status_text": ""
            }
          }
        },
        "id": "iAwVLJMMUqXB",
        "outputId": "beace264-ee42-4193-f25c-cf2a73bcc7b7"
      },
      "outputs": [
        {
          "data": {
            "text/html": [
              "\n",
              "     <input type=\"file\" id=\"files-f8461695-f426-44b5-bf16-7e0ebd87d0f5\" name=\"files[]\" multiple disabled\n",
              "        style=\"border:none\" />\n",
              "     <output id=\"result-f8461695-f426-44b5-bf16-7e0ebd87d0f5\">\n",
              "      Upload widget is only available when the cell has been executed in the\n",
              "      current browser session. Please rerun this cell to enable.\n",
              "      </output>\n",
              "      <script src=\"/nbextensions/google.colab/files.js\"></script> "
            ],
            "text/plain": [
              "<IPython.core.display.HTML object>"
            ]
          },
          "metadata": {},
          "output_type": "display_data"
        },
        {
          "name": "stdout",
          "output_type": "stream",
          "text": [
            "Saving dataset_esay grading.csv to dataset_esay grading (1).csv\n"
          ]
        }
      ],
      "source": [
        "# It will prompt you to select a file. Click on “Choose Files” then select and upload the file. \n",
        "# Wait for the file to be 100% uploaded.\n",
        "from google.colab import files\n",
        "uploaded = files.upload()"
      ]
    },
    {
      "cell_type": "markdown",
      "metadata": {
        "id": "tU7FiSWP6REp"
      },
      "source": [
        "# Exploratory Data Analysis\n",
        "\n",
        "Import Data, gunakan nama **\"dataset_esay grading.csv\"**\n",
        "\n",
        "tidak ada header pada dataset, jadi disini dibuat headernya(feature dan label) untuk membantu analisis dataframe."
      ]
    },
    {
      "cell_type": "code",
      "execution_count": null,
      "metadata": {
        "colab": {
          "base_uri": "https://localhost:8080/",
          "height": 424
        },
        "id": "kNHg7J58ddBp",
        "outputId": "abf6b120-47fc-43be-8745-a87f4e9acad0"
      },
      "outputs": [
        {
          "data": {
            "text/html": [
              "\n",
              "  <div id=\"df-74fd8e57-f0c5-42f6-b5e3-9853080615a4\">\n",
              "    <div class=\"colab-df-container\">\n",
              "      <div>\n",
              "<style scoped>\n",
              "    .dataframe tbody tr th:only-of-type {\n",
              "        vertical-align: middle;\n",
              "    }\n",
              "\n",
              "    .dataframe tbody tr th {\n",
              "        vertical-align: top;\n",
              "    }\n",
              "\n",
              "    .dataframe thead th {\n",
              "        text-align: right;\n",
              "    }\n",
              "</style>\n",
              "<table border=\"1\" class=\"dataframe\">\n",
              "  <thead>\n",
              "    <tr style=\"text-align: right;\">\n",
              "      <th></th>\n",
              "      <th>jawaban_mahasiswa</th>\n",
              "      <th>jawaban_dosen</th>\n",
              "      <th>human_rater</th>\n",
              "      <th>human_rater_scaled</th>\n",
              "    </tr>\n",
              "  </thead>\n",
              "  <tbody>\n",
              "    <tr>\n",
              "      <th>0</th>\n",
              "      <td>komputer menggunakan layanan tersedia jaringan</td>\n",
              "      <td>client server jaringan komputer model komunika...</td>\n",
              "      <td>20</td>\n",
              "      <td>0.2</td>\n",
              "    </tr>\n",
              "    <tr>\n",
              "      <th>1</th>\n",
              "      <td>fundamental centralized infrastructure</td>\n",
              "      <td>client server jaringan komputer model komunika...</td>\n",
              "      <td>20</td>\n",
              "      <td>0.2</td>\n",
              "    </tr>\n",
              "    <tr>\n",
              "      <th>2</th>\n",
              "      <td>hubungan komponen jaringan berkomunikasi</td>\n",
              "      <td>client server jaringan komputer model komunika...</td>\n",
              "      <td>30</td>\n",
              "      <td>0.3</td>\n",
              "    </tr>\n",
              "    <tr>\n",
              "      <th>3</th>\n",
              "      <td>client server jaringan komunikasi client serve...</td>\n",
              "      <td>client server jaringan komputer model komunika...</td>\n",
              "      <td>40</td>\n",
              "      <td>0.4</td>\n",
              "    </tr>\n",
              "    <tr>\n",
              "      <th>4</th>\n",
              "      <td>client server jaringan 2 buah cliet 1 server s...</td>\n",
              "      <td>client server jaringan komputer model komunika...</td>\n",
              "      <td>40</td>\n",
              "      <td>0.4</td>\n",
              "    </tr>\n",
              "    <tr>\n",
              "      <th>...</th>\n",
              "      <td>...</td>\n",
              "      <td>...</td>\n",
              "      <td>...</td>\n",
              "      <td>...</td>\n",
              "    </tr>\n",
              "    <tr>\n",
              "      <th>215</th>\n",
              "      <td>turbo boost sistem diberikan produsen prosesor...</td>\n",
              "      <td>turbo boost salah satu fitur prosesor masa ber...</td>\n",
              "      <td>70</td>\n",
              "      <td>0.7</td>\n",
              "    </tr>\n",
              "    <tr>\n",
              "      <th>216</th>\n",
              "      <td>turbo boost mempercepat kinerja processor memi...</td>\n",
              "      <td>turbo boost salah satu fitur prosesor masa ber...</td>\n",
              "      <td>80</td>\n",
              "      <td>0.8</td>\n",
              "    </tr>\n",
              "    <tr>\n",
              "      <th>217</th>\n",
              "      <td>turbo boost kondisi dimana terjadi penambahan ...</td>\n",
              "      <td>turbo boost salah satu fitur prosesor masa ber...</td>\n",
              "      <td>60</td>\n",
              "      <td>0.6</td>\n",
              "    </tr>\n",
              "    <tr>\n",
              "      <th>218</th>\n",
              "      <td>turbo boost fitur prosesor untuk meningkatkan ...</td>\n",
              "      <td>turbo boost salah satu fitur prosesor masa ber...</td>\n",
              "      <td>80</td>\n",
              "      <td>0.8</td>\n",
              "    </tr>\n",
              "    <tr>\n",
              "      <th>219</th>\n",
              "      <td>turbo boost peningkatan performa prosesor peni...</td>\n",
              "      <td>turbo boost salah satu fitur prosesor masa ber...</td>\n",
              "      <td>70</td>\n",
              "      <td>0.7</td>\n",
              "    </tr>\n",
              "  </tbody>\n",
              "</table>\n",
              "<p>220 rows × 4 columns</p>\n",
              "</div>\n",
              "      <button class=\"colab-df-convert\" onclick=\"convertToInteractive('df-74fd8e57-f0c5-42f6-b5e3-9853080615a4')\"\n",
              "              title=\"Convert this dataframe to an interactive table.\"\n",
              "              style=\"display:none;\">\n",
              "        \n",
              "  <svg xmlns=\"http://www.w3.org/2000/svg\" height=\"24px\"viewBox=\"0 0 24 24\"\n",
              "       width=\"24px\">\n",
              "    <path d=\"M0 0h24v24H0V0z\" fill=\"none\"/>\n",
              "    <path d=\"M18.56 5.44l.94 2.06.94-2.06 2.06-.94-2.06-.94-.94-2.06-.94 2.06-2.06.94zm-11 1L8.5 8.5l.94-2.06 2.06-.94-2.06-.94L8.5 2.5l-.94 2.06-2.06.94zm10 10l.94 2.06.94-2.06 2.06-.94-2.06-.94-.94-2.06-.94 2.06-2.06.94z\"/><path d=\"M17.41 7.96l-1.37-1.37c-.4-.4-.92-.59-1.43-.59-.52 0-1.04.2-1.43.59L10.3 9.45l-7.72 7.72c-.78.78-.78 2.05 0 2.83L4 21.41c.39.39.9.59 1.41.59.51 0 1.02-.2 1.41-.59l7.78-7.78 2.81-2.81c.8-.78.8-2.07 0-2.86zM5.41 20L4 18.59l7.72-7.72 1.47 1.35L5.41 20z\"/>\n",
              "  </svg>\n",
              "      </button>\n",
              "      \n",
              "  <style>\n",
              "    .colab-df-container {\n",
              "      display:flex;\n",
              "      flex-wrap:wrap;\n",
              "      gap: 12px;\n",
              "    }\n",
              "\n",
              "    .colab-df-convert {\n",
              "      background-color: #E8F0FE;\n",
              "      border: none;\n",
              "      border-radius: 50%;\n",
              "      cursor: pointer;\n",
              "      display: none;\n",
              "      fill: #1967D2;\n",
              "      height: 32px;\n",
              "      padding: 0 0 0 0;\n",
              "      width: 32px;\n",
              "    }\n",
              "\n",
              "    .colab-df-convert:hover {\n",
              "      background-color: #E2EBFA;\n",
              "      box-shadow: 0px 1px 2px rgba(60, 64, 67, 0.3), 0px 1px 3px 1px rgba(60, 64, 67, 0.15);\n",
              "      fill: #174EA6;\n",
              "    }\n",
              "\n",
              "    [theme=dark] .colab-df-convert {\n",
              "      background-color: #3B4455;\n",
              "      fill: #D2E3FC;\n",
              "    }\n",
              "\n",
              "    [theme=dark] .colab-df-convert:hover {\n",
              "      background-color: #434B5C;\n",
              "      box-shadow: 0px 1px 3px 1px rgba(0, 0, 0, 0.15);\n",
              "      filter: drop-shadow(0px 1px 2px rgba(0, 0, 0, 0.3));\n",
              "      fill: #FFFFFF;\n",
              "    }\n",
              "  </style>\n",
              "\n",
              "      <script>\n",
              "        const buttonEl =\n",
              "          document.querySelector('#df-74fd8e57-f0c5-42f6-b5e3-9853080615a4 button.colab-df-convert');\n",
              "        buttonEl.style.display =\n",
              "          google.colab.kernel.accessAllowed ? 'block' : 'none';\n",
              "\n",
              "        async function convertToInteractive(key) {\n",
              "          const element = document.querySelector('#df-74fd8e57-f0c5-42f6-b5e3-9853080615a4');\n",
              "          const dataTable =\n",
              "            await google.colab.kernel.invokeFunction('convertToInteractive',\n",
              "                                                     [key], {});\n",
              "          if (!dataTable) return;\n",
              "\n",
              "          const docLinkHtml = 'Like what you see? Visit the ' +\n",
              "            '<a target=\"_blank\" href=https://colab.research.google.com/notebooks/data_table.ipynb>data table notebook</a>'\n",
              "            + ' to learn more about interactive tables.';\n",
              "          element.innerHTML = '';\n",
              "          dataTable['output_type'] = 'display_data';\n",
              "          await google.colab.output.renderOutput(dataTable, element);\n",
              "          const docLink = document.createElement('div');\n",
              "          docLink.innerHTML = docLinkHtml;\n",
              "          element.appendChild(docLink);\n",
              "        }\n",
              "      </script>\n",
              "    </div>\n",
              "  </div>\n",
              "  "
            ],
            "text/plain": [
              "                                     jawaban_mahasiswa  \\\n",
              "0       komputer menggunakan layanan tersedia jaringan   \n",
              "1               fundamental centralized infrastructure   \n",
              "2             hubungan komponen jaringan berkomunikasi   \n",
              "3    client server jaringan komunikasi client serve...   \n",
              "4    client server jaringan 2 buah cliet 1 server s...   \n",
              "..                                                 ...   \n",
              "215  turbo boost sistem diberikan produsen prosesor...   \n",
              "216  turbo boost mempercepat kinerja processor memi...   \n",
              "217  turbo boost kondisi dimana terjadi penambahan ...   \n",
              "218  turbo boost fitur prosesor untuk meningkatkan ...   \n",
              "219  turbo boost peningkatan performa prosesor peni...   \n",
              "\n",
              "                                         jawaban_dosen  human_rater  \\\n",
              "0    client server jaringan komputer model komunika...           20   \n",
              "1    client server jaringan komputer model komunika...           20   \n",
              "2    client server jaringan komputer model komunika...           30   \n",
              "3    client server jaringan komputer model komunika...           40   \n",
              "4    client server jaringan komputer model komunika...           40   \n",
              "..                                                 ...          ...   \n",
              "215  turbo boost salah satu fitur prosesor masa ber...           70   \n",
              "216  turbo boost salah satu fitur prosesor masa ber...           80   \n",
              "217  turbo boost salah satu fitur prosesor masa ber...           60   \n",
              "218  turbo boost salah satu fitur prosesor masa ber...           80   \n",
              "219  turbo boost salah satu fitur prosesor masa ber...           70   \n",
              "\n",
              "     human_rater_scaled  \n",
              "0                   0.2  \n",
              "1                   0.2  \n",
              "2                   0.3  \n",
              "3                   0.4  \n",
              "4                   0.4  \n",
              "..                  ...  \n",
              "215                 0.7  \n",
              "216                 0.8  \n",
              "217                 0.6  \n",
              "218                 0.8  \n",
              "219                 0.7  \n",
              "\n",
              "[220 rows x 4 columns]"
            ]
          },
          "execution_count": 6,
          "metadata": {},
          "output_type": "execute_result"
        }
      ],
      "source": [
        "# To store dataset in a Pandas Dataframe\n",
        "df = pd.read_csv('dataset_esay grading.csv')\n",
        "temp = df.copy()\n",
        "df"
      ]
    },
    {
      "cell_type": "markdown",
      "metadata": {
        "id": "vVhmIDF5E1lw"
      },
      "source": [
        "dari informasi type tiap kolom sesuai dengan type datanya masing-masing"
      ]
    },
    {
      "cell_type": "code",
      "execution_count": null,
      "metadata": {
        "colab": {
          "base_uri": "https://localhost:8080/"
        },
        "id": "cFgKywbO8Gj2",
        "outputId": "9f5912aa-101b-4e3d-f57f-967788cd1e57"
      },
      "outputs": [
        {
          "name": "stdout",
          "output_type": "stream",
          "text": [
            "<class 'pandas.core.frame.DataFrame'>\n",
            "RangeIndex: 220 entries, 0 to 219\n",
            "Data columns (total 4 columns):\n",
            " #   Column              Non-Null Count  Dtype  \n",
            "---  ------              --------------  -----  \n",
            " 0   jawaban_mahasiswa   220 non-null    object \n",
            " 1   jawaban_dosen       220 non-null    object \n",
            " 2   human_rater         220 non-null    int64  \n",
            " 3   human_rater_scaled  220 non-null    float64\n",
            "dtypes: float64(1), int64(1), object(2)\n",
            "memory usage: 7.0+ KB\n"
          ]
        }
      ],
      "source": [
        "df.info()"
      ]
    },
    {
      "cell_type": "markdown",
      "metadata": {
        "id": "xp22k3CAE-EC"
      },
      "source": [
        "check apakah ada NaN. dari hasil check tidak ada row yang NaN"
      ]
    },
    {
      "cell_type": "code",
      "execution_count": null,
      "metadata": {
        "colab": {
          "base_uri": "https://localhost:8080/"
        },
        "id": "1kypN62p8MBT",
        "outputId": "718d61d8-a02b-4b70-b0f3-07afff70e1cc"
      },
      "outputs": [
        {
          "data": {
            "text/plain": [
              "jawaban_mahasiswa     False\n",
              "jawaban_dosen         False\n",
              "human_rater           False\n",
              "human_rater_scaled    False\n",
              "dtype: bool"
            ]
          },
          "execution_count": 8,
          "metadata": {},
          "output_type": "execute_result"
        }
      ],
      "source": [
        "df.isna().any()"
      ]
    },
    {
      "cell_type": "markdown",
      "metadata": {
        "id": "b9iJOBKkFHH-"
      },
      "source": [
        "count label tiap kelas dan plot dengan barplot"
      ]
    },
    {
      "cell_type": "code",
      "execution_count": null,
      "metadata": {
        "colab": {
          "base_uri": "https://localhost:8080/",
          "height": 523
        },
        "id": "kxoAqOdse-Bh",
        "outputId": "6d5a7829-487d-44e7-9afa-aac57b58ee84"
      },
      "outputs": [
        {
          "data": {
            "text/plain": [
              "100    57\n",
              "80     42\n",
              "90     37\n",
              "60     26\n",
              "70     19\n",
              "40     12\n",
              "50      8\n",
              "20      6\n",
              "30      6\n",
              "10      4\n",
              "0       2\n",
              "79      1\n",
              "Name: human_rater, dtype: int64"
            ]
          },
          "metadata": {},
          "output_type": "display_data"
        },
        {
          "data": {
            "text/plain": [
              "<matplotlib.axes._subplots.AxesSubplot at 0x7fc63606a390>"
            ]
          },
          "execution_count": 9,
          "metadata": {},
          "output_type": "execute_result"
        },
        {
          "data": {
            "image/png": "[encoded data removed]",
            "text/plain": [
              "<Figure size 432x288 with 1 Axes>"
            ]
          },
          "metadata": {
            "needs_background": "light"
          },
          "output_type": "display_data"
        }
      ],
      "source": [
        "display(df['human_rater'].value_counts())\n",
        "sns.countplot(x=df['human_rater'])"
      ]
    },
    {
      "cell_type": "markdown",
      "metadata": {
        "id": "nHv3EtW8FSmH"
      },
      "source": [
        "dari hasil plot sebelum preprocessing data tidak balance, sehingga diperlukan balancing data untuk tiap kelas."
      ]
    },
    {
      "cell_type": "markdown",
      "metadata": {
        "id": "pyVA1XZ9DSgx"
      },
      "source": [
        "# Data Preparation"
      ]
    },
    {
      "cell_type": "markdown",
      "metadata": {
        "id": "Xs7OpBS8DWnm"
      },
      "source": [
        "## Menghilangkan special karakter yang tidak dikenali dalam environtment python seperti “, ”, ‘’. yang mengacu pada tanda kutip dalam kata tidak langsung. "
      ]
    },
    {
      "cell_type": "code",
      "execution_count": null,
      "metadata": {
        "colab": {
          "base_uri": "https://localhost:8080/"
        },
        "id": "QzaDsVaIVglr",
        "outputId": "8734a315-ae55-4600-8b9b-c2b6ed8afb63"
      },
      "outputs": [
        {
          "data": {
            "text/plain": [
              "0      0.2\n",
              "1      0.2\n",
              "2      0.3\n",
              "3      0.4\n",
              "4      0.4\n",
              "      ... \n",
              "215    0.7\n",
              "216    0.8\n",
              "217    0.6\n",
              "218    0.8\n",
              "219    0.7\n",
              "Name: human_rater_scaled, Length: 220, dtype: float64"
            ]
          },
          "execution_count": 10,
          "metadata": {},
          "output_type": "execute_result"
        }
      ],
      "source": [
        "df = temp.copy()\n",
        "# for i, kalimat in enumerate(df[\"feature\"]):\n",
        "for i, dataDF in df.iterrows():\n",
        "  dataDF[\"jawaban_mahasiswa\"] = dataDF[\"jawaban_mahasiswa\"].replace(\"“\", \"\\\"\")\n",
        "  dataDF[\"jawaban_mahasiswa\"] = dataDF[\"jawaban_mahasiswa\"].replace(\"‘’\", \"\\\"\")\n",
        "  dataDF[\"jawaban_mahasiswa\"] = dataDF[\"jawaban_mahasiswa\"].replace(\"”\", \"\\\"\")\n",
        "\n",
        "  dataDF[\"jawaban_dosen\"] = dataDF[\"jawaban_dosen\"].replace(\"“\", \"\\\"\")\n",
        "  dataDF[\"jawaban_dosen\"] = dataDF[\"jawaban_dosen\"].replace(\"‘’\", \"\\\"\")\n",
        "  dataDF[\"jawaban_dosen\"] = dataDF[\"jawaban_dosen\"].replace(\"”\", \"\\\"\")\n",
        "#   df.loc[i,\"feature\"] = kalimat\n",
        "\n",
        "df.pop('human_rater_scaled')"
      ]
    },
    {
      "cell_type": "markdown",
      "metadata": {
        "id": "97hTr36mbZTv"
      },
      "source": [
        "karena kelas 79 cuma ada 1, maka sebaiknya kelas 79 dihapus karena akan mengacaukan proses learning"
      ]
    },
    {
      "cell_type": "code",
      "execution_count": null,
      "metadata": {
        "id": "fEZyrFDhEkct"
      },
      "outputs": [],
      "source": [
        "df.drop(df.index[df['human_rater'] == 79], inplace = True)\n",
        "# df = df[df.human_rater != 79]"
      ]
    },
    {
      "cell_type": "code",
      "execution_count": null,
      "metadata": {
        "colab": {
          "base_uri": "https://localhost:8080/",
          "height": 506
        },
        "id": "8U0cwaxtZAlw",
        "outputId": "2384fb2f-b9fc-4fde-b63b-18c7915a4824"
      },
      "outputs": [
        {
          "data": {
            "text/plain": [
              "100    57\n",
              "80     42\n",
              "90     37\n",
              "60     26\n",
              "70     19\n",
              "40     12\n",
              "50      8\n",
              "20      6\n",
              "30      6\n",
              "10      4\n",
              "0       2\n",
              "Name: human_rater, dtype: int64"
            ]
          },
          "metadata": {},
          "output_type": "display_data"
        },
        {
          "data": {
            "text/plain": [
              "<matplotlib.axes._subplots.AxesSubplot at 0x7fc636a37e90>"
            ]
          },
          "execution_count": 12,
          "metadata": {},
          "output_type": "execute_result"
        },
        {
          "data": {
            "image/png": "[encoded data removed]",
            "text/plain": [
              "<Figure size 432x288 with 1 Axes>"
            ]
          },
          "metadata": {
            "needs_background": "light"
          },
          "output_type": "display_data"
        }
      ],
      "source": [
        "display(df['human_rater'].value_counts())\n",
        "sns.countplot(x=df['human_rater'])"
      ]
    },
    {
      "cell_type": "markdown",
      "metadata": {
        "id": "GQh51V-J8a3o"
      },
      "source": [
        "## transform ke huruf kecil, stopword, stemming, transform kalimat dari satu menjadi banyak kalimat, dan penghilangan tanda baca dan special karakter"
      ]
    },
    {
      "cell_type": "markdown",
      "metadata": {
        "id": "8tJmAkBp_26s"
      },
      "source": [
        "menggunakan metode stopword dan stemming dalam kosa kata bahasa indonesia dengan library sastrawi. stop word diperlukan karena dalam sample kalimat di dataset ada kata yang tidak perlu seperti kata sang, si, adalah dan lain sebagainya, serta membalikkan kata dalam text menjadi kata dasarnya (stemming). [1] [2] \n",
        "\n",
        "pada metode dibawah ini, juga dilakukan transformasi kalimat menjadi beberapa kalimat karena ada banyak baris pada dataset beberapa kalimat yang disusun menjadi satu kalimat. metode ini juga untuk balancing class yang sedikit.\n",
        "\n",
        "selanjutnya dilakukan penghilangan tanda baca atau special character yang lain yang bisa mengganggu corpus, karena ada banyak special character yang menyatu dengan kata. number juga dihilangkan pada proses dibawah ini karena numberik tidak memberikan korelasi dan informasi terhadap kelas data target.\n",
        "\n",
        "dari metode dibawah ini semua proses ditanpung dalam satu list `new_data`"
      ]
    },
    {
      "cell_type": "code",
      "execution_count": null,
      "metadata": {
        "id": "g5l3_B5DrhbT"
      },
      "outputs": [],
      "source": [
        "def preprocessing_text(df):\n",
        "    factory = StopWordRemoverFactory()\n",
        "    stopword = factory.create_stop_word_remover()\n",
        "\n",
        "    factory = StemmerFactory()\n",
        "    stemmer = factory.create_stemmer()\n",
        "\n",
        "    new_data = []\n",
        "    exclude = ['', '\"', '”']\n",
        "\n",
        "    df['jawaban_mahasiswa'] = df['jawaban_mahasiswa'].str.strip().str.lower()\n",
        "    df['jawaban_dosen'] = df['jawaban_dosen'].str.strip().str.lower()\n",
        "\n",
        "    for index, row in df.iterrows():\n",
        "        label = row['human_rater']\n",
        "        sentence_mahasiswa = row['jawaban_mahasiswa']\n",
        "        sentence_dosen = row['jawaban_dosen']\n",
        "        ## === menghilangkan kata yang dianggap tidak mengacu pada inti kalimatnya, seperti kata sang, si, dan, itu, dan lain sebagainya\n",
        "        sentence_mahasiswa = stopword.remove(sentence_mahasiswa)\n",
        "        sentence_dosen = stopword.remove(sentence_dosen)\n",
        "\n",
        "        ## === mentransformasi kata-kata pada text menjadi kata dasarnya\n",
        "        sentence_mahasiswa = stemmer.stem(sentence_mahasiswa)\n",
        "        sentence_dosen = stemmer.stem(sentence_dosen)\n",
        "        # sentence = sentence_stemming if sentence_stopwords == \"\" or sentence_stopwords == \" \" else sentence_stopwords\n",
        "\n",
        "        df.at[index, 'jawaban_mahasiswa']= sentence_mahasiswa\n",
        "        df.at[index, 'jawaban_dosen']= sentence_dosen\n",
        "\n",
        "        # sentence = find_words = re.compile(r'(?<!\\S)[A-Za-z]+(?!\\S)|(?<!\\S)[A-Za-z]+(?=:(?!\\S))').findall\n",
        "        # sentence = re.match(\"^[A-Za-z]*$\", sentence):\n",
        "        tokens_mahasiswa = nltk.tokenize.sent_tokenize(sentence_mahasiswa)\n",
        "        tokens_dosen = nltk.tokenize.sent_tokenize(sentence_dosen)\n",
        "\n",
        "        if len(tokens_mahasiswa) > 1 or len(tokens_dosen)>1:\n",
        "            print(\"here\")\n",
        "            test = []\n",
        "            for i, token in enumerate(tokens):\n",
        "                ## === splitting text menjadi beberapa kalimat berdasarkan tanda ? ! \"\" dengan split regex\n",
        "                test += re.split(r'[!?\"(.*?)\"]+|(?<!\\.)\\.(?!\\.)', token)\n",
        "\n",
        "            ## === menghapus tanda baca dan number pada kalimat yang dihasilkan dengan substract regex\n",
        "            tokens = [re.sub(r'[^\\w]', ' ', i) for i in test if i not in exclude]\n",
        "\n",
        "            ## === menghilangkan angka dengan substract regex\n",
        "            tokens = [re.sub(\"(\\s\\d+)\",\"\",i)  for i in tokens]\n",
        "\n",
        "            for i, token in enumerate(tokens):\n",
        "                if token != '' or token != ' ' or token != \"\\\"\":\n",
        "\n",
        "                    ## === menghilangkan duplicate words\n",
        "                    token = ' '.join(dict.fromkeys(token.split()))\n",
        "\n",
        "                    new_data.append([token, label])\n",
        "    return df.copy()"
      ]
    },
    {
      "cell_type": "markdown",
      "metadata": {
        "id": "TVrGgKGuMbgk"
      },
      "source": [
        "## spliting dataset menjadi 80% training dan 20% testing untuk tiap kelas\n",
        "\n",
        "random state dibuat 1 karena harus terjadi pengacakan pada data training dan data testing pada setiap kali method train_test_split dijalankan\n",
        "\n",
        "![](https://drive.google.com/uc?export=view&id=1mqjNvGkYxaCrQrKO-LW8AqAywaQP3nlm)"
      ]
    },
    {
      "cell_type": "code",
      "execution_count": null,
      "metadata": {
        "id": "nO1s8rQyMkSW"
      },
      "outputs": [],
      "source": [
        "from sklearn.model_selection import train_test_split\n",
        "\n",
        "# for data in list_df:\n",
        "train_df, test_df = train_test_split(df, test_size=0.2, random_state=44, shuffle=True)"
      ]
    },
    {
      "cell_type": "markdown",
      "metadata": {
        "id": "f6vfL70PHC4n"
      },
      "source": [
        "## preprocessing data training\n",
        "\n",
        "preprocessing data training dengan fungsi yang sudah didefinisikan sebelumnya"
      ]
    },
    {
      "cell_type": "code",
      "execution_count": null,
      "metadata": {
        "colab": {
          "base_uri": "https://localhost:8080/",
          "height": 912
        },
        "id": "KC-wak3KP2u0",
        "outputId": "cba86a20-919b-4fc1-bcf4-2db0be230212"
      },
      "outputs": [
        {
          "data": {
            "text/html": [
              "\n",
              "  <div id=\"df-088adc97-49ef-4d4b-bb72-e62b07840767\">\n",
              "    <div class=\"colab-df-container\">\n",
              "      <div>\n",
              "<style scoped>\n",
              "    .dataframe tbody tr th:only-of-type {\n",
              "        vertical-align: middle;\n",
              "    }\n",
              "\n",
              "    .dataframe tbody tr th {\n",
              "        vertical-align: top;\n",
              "    }\n",
              "\n",
              "    .dataframe thead th {\n",
              "        text-align: right;\n",
              "    }\n",
              "</style>\n",
              "<table border=\"1\" class=\"dataframe\">\n",
              "  <thead>\n",
              "    <tr style=\"text-align: right;\">\n",
              "      <th></th>\n",
              "      <th>jawaban_mahasiswa</th>\n",
              "      <th>jawaban_dosen</th>\n",
              "      <th>human_rater</th>\n",
              "    </tr>\n",
              "  </thead>\n",
              "  <tbody>\n",
              "    <tr>\n",
              "      <th>28</th>\n",
              "      <td>client server salah satu model jaring device t...</td>\n",
              "      <td>client server jaring komputer model komunikasi...</td>\n",
              "      <td>80</td>\n",
              "    </tr>\n",
              "    <tr>\n",
              "      <th>13</th>\n",
              "      <td>client host beri request server jaring compute...</td>\n",
              "      <td>client server jaring komputer model komunikasi...</td>\n",
              "      <td>60</td>\n",
              "    </tr>\n",
              "    <tr>\n",
              "      <th>195</th>\n",
              "      <td>turbo boost overload jadi komputer laptop</td>\n",
              "      <td>turbo boost salah satu fitur prosesor masa tuj...</td>\n",
              "      <td>0</td>\n",
              "    </tr>\n",
              "    <tr>\n",
              "      <th>185</th>\n",
              "      <td>turbo boost aplikasi tuju optimal mem boost ke...</td>\n",
              "      <td>turbo boost salah satu fitur prosesor masa tuj...</td>\n",
              "      <td>100</td>\n",
              "    </tr>\n",
              "    <tr>\n",
              "      <th>208</th>\n",
              "      <td>teknologi cepat</td>\n",
              "      <td>turbo boost salah satu fitur prosesor masa tuj...</td>\n",
              "      <td>10</td>\n",
              "    </tr>\n",
              "    <tr>\n",
              "      <th>...</th>\n",
              "      <td>...</td>\n",
              "      <td>...</td>\n",
              "      <td>...</td>\n",
              "    </tr>\n",
              "    <tr>\n",
              "      <th>132</th>\n",
              "      <td>von neumann gambar komputer empat bagi utama u...</td>\n",
              "      <td>komputer model von neumann model arsitektur de...</td>\n",
              "      <td>90</td>\n",
              "    </tr>\n",
              "    <tr>\n",
              "      <th>60</th>\n",
              "      <td>hibernate salah satu proses komputer mati mati...</td>\n",
              "      <td>hibernate pc fitur mati pc waktu sleep fitur g...</td>\n",
              "      <td>100</td>\n",
              "    </tr>\n",
              "    <tr>\n",
              "      <th>174</th>\n",
              "      <td>turbo boost proses boot cepat cold boot tahap ...</td>\n",
              "      <td>turbo boost salah satu fitur prosesor masa tuj...</td>\n",
              "      <td>60</td>\n",
              "    </tr>\n",
              "    <tr>\n",
              "      <th>164</th>\n",
              "      <td>komputer von neumann komputer pertama buat joh...</td>\n",
              "      <td>komputer model von neumann model arsitektur de...</td>\n",
              "      <td>90</td>\n",
              "    </tr>\n",
              "    <tr>\n",
              "      <th>20</th>\n",
              "      <td>client server metode pentransferan konten bagi...</td>\n",
              "      <td>client server jaring komputer model komunikasi...</td>\n",
              "      <td>70</td>\n",
              "    </tr>\n",
              "  </tbody>\n",
              "</table>\n",
              "<p>175 rows × 3 columns</p>\n",
              "</div>\n",
              "      <button class=\"colab-df-convert\" onclick=\"convertToInteractive('df-088adc97-49ef-4d4b-bb72-e62b07840767')\"\n",
              "              title=\"Convert this dataframe to an interactive table.\"\n",
              "              style=\"display:none;\">\n",
              "        \n",
              "  <svg xmlns=\"http://www.w3.org/2000/svg\" height=\"24px\"viewBox=\"0 0 24 24\"\n",
              "       width=\"24px\">\n",
              "    <path d=\"M0 0h24v24H0V0z\" fill=\"none\"/>\n",
              "    <path d=\"M18.56 5.44l.94 2.06.94-2.06 2.06-.94-2.06-.94-.94-2.06-.94 2.06-2.06.94zm-11 1L8.5 8.5l.94-2.06 2.06-.94-2.06-.94L8.5 2.5l-.94 2.06-2.06.94zm10 10l.94 2.06.94-2.06 2.06-.94-2.06-.94-.94-2.06-.94 2.06-2.06.94z\"/><path d=\"M17.41 7.96l-1.37-1.37c-.4-.4-.92-.59-1.43-.59-.52 0-1.04.2-1.43.59L10.3 9.45l-7.72 7.72c-.78.78-.78 2.05 0 2.83L4 21.41c.39.39.9.59 1.41.59.51 0 1.02-.2 1.41-.59l7.78-7.78 2.81-2.81c.8-.78.8-2.07 0-2.86zM5.41 20L4 18.59l7.72-7.72 1.47 1.35L5.41 20z\"/>\n",
              "  </svg>\n",
              "      </button>\n",
              "      \n",
              "  <style>\n",
              "    .colab-df-container {\n",
              "      display:flex;\n",
              "      flex-wrap:wrap;\n",
              "      gap: 12px;\n",
              "    }\n",
              "\n",
              "    .colab-df-convert {\n",
              "      background-color: #E8F0FE;\n",
              "      border: none;\n",
              "      border-radius: 50%;\n",
              "      cursor: pointer;\n",
              "      display: none;\n",
              "      fill: #1967D2;\n",
              "      height: 32px;\n",
              "      padding: 0 0 0 0;\n",
              "      width: 32px;\n",
              "    }\n",
              "\n",
              "    .colab-df-convert:hover {\n",
              "      background-color: #E2EBFA;\n",
              "      box-shadow: 0px 1px 2px rgba(60, 64, 67, 0.3), 0px 1px 3px 1px rgba(60, 64, 67, 0.15);\n",
              "      fill: #174EA6;\n",
              "    }\n",
              "\n",
              "    [theme=dark] .colab-df-convert {\n",
              "      background-color: #3B4455;\n",
              "      fill: #D2E3FC;\n",
              "    }\n",
              "\n",
              "    [theme=dark] .colab-df-convert:hover {\n",
              "      background-color: #434B5C;\n",
              "      box-shadow: 0px 1px 3px 1px rgba(0, 0, 0, 0.15);\n",
              "      filter: drop-shadow(0px 1px 2px rgba(0, 0, 0, 0.3));\n",
              "      fill: #FFFFFF;\n",
              "    }\n",
              "  </style>\n",
              "\n",
              "      <script>\n",
              "        const buttonEl =\n",
              "          document.querySelector('#df-088adc97-49ef-4d4b-bb72-e62b07840767 button.colab-df-convert');\n",
              "        buttonEl.style.display =\n",
              "          google.colab.kernel.accessAllowed ? 'block' : 'none';\n",
              "\n",
              "        async function convertToInteractive(key) {\n",
              "          const element = document.querySelector('#df-088adc97-49ef-4d4b-bb72-e62b07840767');\n",
              "          const dataTable =\n",
              "            await google.colab.kernel.invokeFunction('convertToInteractive',\n",
              "                                                     [key], {});\n",
              "          if (!dataTable) return;\n",
              "\n",
              "          const docLinkHtml = 'Like what you see? Visit the ' +\n",
              "            '<a target=\"_blank\" href=https://colab.research.google.com/notebooks/data_table.ipynb>data table notebook</a>'\n",
              "            + ' to learn more about interactive tables.';\n",
              "          element.innerHTML = '';\n",
              "          dataTable['output_type'] = 'display_data';\n",
              "          await google.colab.output.renderOutput(dataTable, element);\n",
              "          const docLink = document.createElement('div');\n",
              "          docLink.innerHTML = docLinkHtml;\n",
              "          element.appendChild(docLink);\n",
              "        }\n",
              "      </script>\n",
              "    </div>\n",
              "  </div>\n",
              "  "
            ],
            "text/plain": [
              "                                     jawaban_mahasiswa  \\\n",
              "28   client server salah satu model jaring device t...   \n",
              "13   client host beri request server jaring compute...   \n",
              "195          turbo boost overload jadi komputer laptop   \n",
              "185  turbo boost aplikasi tuju optimal mem boost ke...   \n",
              "208                                    teknologi cepat   \n",
              "..                                                 ...   \n",
              "132  von neumann gambar komputer empat bagi utama u...   \n",
              "60   hibernate salah satu proses komputer mati mati...   \n",
              "174  turbo boost proses boot cepat cold boot tahap ...   \n",
              "164  komputer von neumann komputer pertama buat joh...   \n",
              "20   client server metode pentransferan konten bagi...   \n",
              "\n",
              "                                         jawaban_dosen  human_rater  \n",
              "28   client server jaring komputer model komunikasi...           80  \n",
              "13   client server jaring komputer model komunikasi...           60  \n",
              "195  turbo boost salah satu fitur prosesor masa tuj...            0  \n",
              "185  turbo boost salah satu fitur prosesor masa tuj...          100  \n",
              "208  turbo boost salah satu fitur prosesor masa tuj...           10  \n",
              "..                                                 ...          ...  \n",
              "132  komputer model von neumann model arsitektur de...           90  \n",
              "60   hibernate pc fitur mati pc waktu sleep fitur g...          100  \n",
              "174  turbo boost salah satu fitur prosesor masa tuj...           60  \n",
              "164  komputer model von neumann model arsitektur de...           90  \n",
              "20   client server jaring komputer model komunikasi...           70  \n",
              "\n",
              "[175 rows x 3 columns]"
            ]
          },
          "metadata": {},
          "output_type": "display_data"
        },
        {
          "data": {
            "text/plain": [
              "100    44\n",
              "80     33\n",
              "90     28\n",
              "60     23\n",
              "70     18\n",
              "40      9\n",
              "50      7\n",
              "20      5\n",
              "30      4\n",
              "10      3\n",
              "0       1\n",
              "Name: human_rater, dtype: int64"
            ]
          },
          "metadata": {},
          "output_type": "display_data"
        },
        {
          "data": {
            "text/plain": [
              "<matplotlib.axes._subplots.AxesSubplot at 0x7fc63578d3d0>"
            ]
          },
          "execution_count": 15,
          "metadata": {},
          "output_type": "execute_result"
        },
        {
          "data": {
            "image/png": "[encoded data removed]",
            "text/plain": [
              "<Figure size 432x288 with 1 Axes>"
            ]
          },
          "metadata": {
            "needs_background": "light"
          },
          "output_type": "display_data"
        }
      ],
      "source": [
        "data_train = preprocessing_text(train_df)\n",
        "dataset = preprocessing_text(df)\n",
        "\n",
        "# data_train['human_rater'] = data_train['human_rater']/10\n",
        "display(data_train)\n",
        "display(data_train['human_rater'].value_counts())\n",
        "sns.countplot(data_train['human_rater'])"
      ]
    },
    {
      "cell_type": "markdown",
      "metadata": {
        "id": "Iz-CsjZJHvM7"
      },
      "source": [
        "## balancing class : oversampling dengan augmentasi [3][4]\n",
        "\n",
        "pada tahap ini dilakukan balancing class dengan menggunakan teknik oversampling dengan merujuk pada kelas yang paling banyak yaitu kelas \"senang\". oversampling yang dilakukan disini dengan menggunakan Easy Data Augmentation Techniques(EDA) [3] pada text. ada empat cara melakukan Easy Data Augmentation pada text [3]:\n",
        "\n",
        "1.   SR: synonym replacement\n",
        "2.   RD: random deletion\n",
        "3.   RS: random swap\n",
        "4.   RI: random insertion\n",
        "\n",
        "![](https://drive.google.com/uc?export=view&id=1gjONCCjRxrDl09Y6M052WBiqkttfq7eO)\n",
        "\n",
        "\n",
        "\n",
        "\n"
      ]
    },
    {
      "cell_type": "markdown",
      "metadata": {
        "id": "d_UlvRJqaf0L"
      },
      "source": [
        "pada project ini tidak digunakan augmentasi dengan metode pengacakan karena dianggap urutan kata penting dan mempengaruhi hasil "
      ]
    },
    {
      "cell_type": "code",
      "execution_count": null,
      "metadata": {
        "id": "SkI-GhOKZzmm"
      },
      "outputs": [],
      "source": [
        "use_augmentation = False"
      ]
    },
    {
      "cell_type": "code",
      "execution_count": null,
      "metadata": {
        "colab": {
          "base_uri": "https://localhost:8080/"
        },
        "id": "3x7twwFFJ0Tg",
        "outputId": "8e3bcbbf-7be5-4cb5-c95d-5db2f637c60d"
      },
      "outputs": [
        {
          "name": "stdout",
          "output_type": "stream",
          "text": [
            "kelas yang paling banyak berjumlah: 57\n"
          ]
        }
      ],
      "source": [
        "label_attr = dataset['human_rater'].value_counts().to_dict()\n",
        "label_class = dataset['human_rater'].value_counts().index.to_list()\n",
        "major_class = max(label_attr, key=label_attr.get)\n",
        "major_class_num = label_attr[major_class]\n",
        "print(\"kelas yang paling banyak berjumlah:\", major_class_num)"
      ]
    },
    {
      "cell_type": "markdown",
      "metadata": {
        "id": "j8pSThOvJEMl"
      },
      "source": [
        "### berikut metode yang diambil dari [4]\n",
        "\n"
      ]
    },
    {
      "cell_type": "code",
      "execution_count": null,
      "metadata": {
        "id": "2V7wpwtMcAjj"
      },
      "outputs": [],
      "source": [
        "def swap_word(new_words):\n",
        "    \n",
        "    random_idx_1 = random.randint(0, len(new_words)-1)\n",
        "    random_idx_2 = random_idx_1\n",
        "    counter = 0\n",
        "    \n",
        "    while random_idx_2 == random_idx_1:\n",
        "        random_idx_2 = random.randint(0, len(new_words)-1)\n",
        "        counter += 1\n",
        "        \n",
        "        if counter > 3:\n",
        "            return new_words\n",
        "    \n",
        "    new_words[random_idx_1], new_words[random_idx_2] = new_words[random_idx_2], new_words[random_idx_1] \n",
        "    return new_words\n",
        "\n",
        "def random_swap(words, n):\n",
        "    \n",
        "    words = words.split()\n",
        "    new_words = words.copy()\n",
        "    \n",
        "    for _ in range(n):\n",
        "        new_words = swap_word(new_words)\n",
        "        \n",
        "    sentence = ' '.join(new_words)\n",
        "    \n",
        "    return sentence"
      ]
    },
    {
      "cell_type": "markdown",
      "metadata": {
        "id": "xBIvekOYJQfY"
      },
      "source": [
        "pemisahan data tiap kelas sehingga tiap kelas memiliki data frame masing-masing untuk memudahkan analisis dan augmentasi."
      ]
    },
    {
      "cell_type": "code",
      "execution_count": null,
      "metadata": {
        "id": "b9hUstk4bn52"
      },
      "outputs": [],
      "source": [
        "list_df = []\n",
        "if use_augmentation:\n",
        "    for label in label_class:\n",
        "        df_temp = data_train[data_train['human_rater'] == label]\n",
        "        df_temp.reset_index(drop=True, inplace=True)\n",
        "        list_df.append(df_temp)"
      ]
    },
    {
      "cell_type": "markdown",
      "metadata": {
        "id": "W6v-wib_L3kJ"
      },
      "source": [
        "penggabungan hasil augmentasi pada data frame menjadi dataset baru \n",
        "\n",
        "```\n",
        "list_df\n",
        "```\n",
        "kemudian divisualisasikan class yang telah diaugmentasi tadi. hasilnya semua kelas sudah balance.\n"
      ]
    },
    {
      "cell_type": "code",
      "execution_count": null,
      "metadata": {
        "id": "aBsBpbukd2Ji"
      },
      "outputs": [],
      "source": [
        "if use_augmentation:\n",
        "    for i, data_class in enumerate(list_df):\n",
        "        first_data = len(data_class)\n",
        "        diff = major_class_num - len(list_df[i])\n",
        "        label = data_class['human_rater'][0]\n",
        "        add_df = []\n",
        "        if diff > 0:\n",
        "            iter = major_class_num // len(data_class)\n",
        "            for j in range(iter):\n",
        "                feature_ref = data_class['jawaban_dosen'][j]\n",
        "                diff = major_class_num - len(list_df[i])\n",
        "                n_random = diff if diff < first_data else first_data\n",
        "                feature2aug = random.sample(data_class['jawaban_mahasiswa'].to_list(), n_random)\n",
        "                for featureaug in feature2aug:\n",
        "                    feature_rand = random_swap(featureaug, j)\n",
        "                    # add_df.append([feature_rand, label])\n",
        "                    list_df[i].loc[len(list_df[i])] = [feature_rand, feature_ref, label]\n",
        "                rest = major_class_num - len(data_class)\n",
        "                if rest <= 0:\n",
        "                    break"
      ]
    },
    {
      "cell_type": "markdown",
      "metadata": {
        "id": "xUks1-RjJ1QM"
      },
      "source": [
        "augmentasi kalimat dilakukan dengan cara random swap. pengambilan kalimat dari data frame yang telah dipisahkan sebelumnya dilakukan dengan acak. random swap dilakukan pada suatu kelas hingga jumlah kelas tersebut sama seperti kelas mayor.\n",
        "\n",
        "alasan penggunaan random swap adalah karena feature extraction pada langkah selanjutnya digunakan bag of words yang diasumsikan bahwa \n",
        "\n",
        "1.   Posisi features (words) tidak penting.\n",
        "2.   Feature Probabilities P(Xi|Cj) adalah independen pada tiap kelas (C).\n",
        "\n"
      ]
    },
    {
      "cell_type": "code",
      "execution_count": null,
      "metadata": {
        "id": "LHjnOLktNkpG"
      },
      "outputs": [],
      "source": [
        "if use_augmentation:\n",
        "    data_train = pd.concat(list_df)\n",
        "    display(data_train)\n",
        "    display(data_train['human_rater'].value_counts())\n",
        "    sns.countplot(data_train['human_rater'])"
      ]
    },
    {
      "cell_type": "markdown",
      "metadata": {
        "id": "dlNJIeHR4jI0"
      },
      "source": [
        "## Label Encoding\n",
        "\n",
        "agar proses learning terhadap data target merujuk pada number bukan pada data ordinal"
      ]
    },
    {
      "cell_type": "code",
      "execution_count": null,
      "metadata": {
        "id": "ileoLV8h4ioH"
      },
      "outputs": [],
      "source": [
        "## === Label Encoding\n",
        "labelencode = LabelEncoder()\n",
        "\n",
        "y = dataset['human_rater']\n",
        "y_train = data_train['human_rater']\n",
        "\n",
        "labelencode.fit(y)\n",
        "\n",
        "y_train = labelencode.transform(y_train)"
      ]
    },
    {
      "cell_type": "code",
      "execution_count": null,
      "metadata": {
        "colab": {
          "base_uri": "https://localhost:8080/"
        },
        "id": "LatPlTfLqZ3k",
        "outputId": "6514a3eb-1f61-4b03-d072-6d2b69ea935b"
      },
      "outputs": [
        {
          "data": {
            "text/plain": [
              "array([ 8,  6,  0, 10,  1,  4,  6,  5,  9, 10, 10, 10, 10,  6,  7, 10, 10,\n",
              "        8, 10,  1,  8,  4,  2,  9,  9,  8,  9,  7,  8,  3,  5,  4,  7, 10,\n",
              "        4,  1, 10,  8,  8,  9,  9, 10,  7, 10,  8,  8,  9, 10,  8, 10,  2,\n",
              "        5,  9, 10,  8,  6,  7,  4,  9,  8,  9, 10,  6,  8,  3,  7,  2, 10,\n",
              "       10, 10, 10, 10, 10,  8,  3, 10,  4, 10,  9,  8, 10,  6,  6,  3,  6,\n",
              "        9,  9,  4,  9,  5,  9,  6,  4,  6,  7, 10,  9,  7, 10,  9,  9,  6,\n",
              "       10,  8,  8,  5,  7, 10,  7,  9,  7,  9,  8,  9,  8, 10,  7, 10,  6,\n",
              "        6,  6,  6,  8,  4,  5, 10,  8,  8, 10,  9, 10,  7,  8,  6,  6, 10,\n",
              "       10,  8, 10,  7,  8,  8,  9,  6, 10,  2,  8, 10, 10,  8,  5,  7, 10,\n",
              "        9,  6,  6,  2,  8,  8,  9, 10,  6, 10,  8,  8,  6,  9,  7,  7,  8,\n",
              "        9, 10,  6,  9,  7])"
            ]
          },
          "execution_count": 23,
          "metadata": {},
          "output_type": "execute_result"
        }
      ],
      "source": [
        "y_train"
      ]
    },
    {
      "cell_type": "markdown",
      "metadata": {
        "id": "MOj8CEp3Eedr"
      },
      "source": [
        "# Feature Extraction"
      ]
    },
    {
      "cell_type": "markdown",
      "metadata": {
        "id": "W4G8vYhLTYBx"
      },
      "source": [
        "## Merge \"jawaban_dosen\" dengan \"jawaban_mahasiswa\""
      ]
    },
    {
      "cell_type": "markdown",
      "metadata": {
        "id": "ls00_2jwTfyM"
      },
      "source": [
        "dengan jawaban dosen sebagai referensi. penggabungan dilakukan dengan union tanpa mengubah urutan text \"jawaban_dosen\" dan \"jawaban_mahasiswa\". kemudian dilakukan pengambilan kata unique sehingga kata yang sama terhapus"
      ]
    },
    {
      "cell_type": "code",
      "execution_count": null,
      "metadata": {
        "id": "-FGRp4_rUiho"
      },
      "outputs": [],
      "source": [
        "def unique(sequence):\n",
        "    seen = set()\n",
        "    return [x for x in sequence if not (x in seen or seen.add(x))]"
      ]
    },
    {
      "cell_type": "code",
      "execution_count": null,
      "metadata": {
        "id": "zdVELYP0UaCY"
      },
      "outputs": [],
      "source": [
        "def fuse2text(data_df):\n",
        "    unique_list = []\n",
        "    for index, row in data_df.iterrows():\n",
        "        label = row['human_rater']\n",
        "        sentence_mahasiswa = row['jawaban_mahasiswa'].split(' ')\n",
        "        sentence_dosen = row['jawaban_dosen'].split(' ')\n",
        "\n",
        "        sequence = sentence_dosen + sentence_mahasiswa\n",
        "        # uniqueWords = list(set(sentence_dosen).union(set(sentence_mahasiswa)))\n",
        "        uniqueWords = unique(sequence)\n",
        "        uniqueWords = ' '.join(uniqueWords)\n",
        "        unique_list.append(uniqueWords)\n",
        "    # df\n",
        "    temp = data_df.copy()\n",
        "    temp['unique_corpus']=unique_list\n",
        "    return temp"
      ]
    },
    {
      "cell_type": "markdown",
      "metadata": {
        "id": "x52wuoWFNH9V"
      },
      "source": [
        "## TF-IDF\n",
        "\n",
        "![](https://drive.google.com/uc?export=view&id=1-bC7gwMKeaO6aI6lVTLEwEVhgQJ9z3LA)\n",
        "\n",
        "![](https://drive.google.com/uc?export=view&id=1LkCoXniCetdDJ4kW-_GgLN1jjHwd7pDM)"
      ]
    },
    {
      "cell_type": "markdown",
      "metadata": {
        "id": "Syny_hKzTp-z"
      },
      "source": [
        "generate tf-idf vector dengan TfidfVectorizer() [5]. TF-IDF (term frequency-inverse document frequency) menggenerate vector berdasarkan jumlah vocab dari data yang digunakan berdasarkan seberapa sering muncul kata tersebut. kemudian dilakukan invers sehingga kata yang paling sering muncul ialah kata dengan ranking yang lebih rendah. hal ini menandakan kata yang tidak sering muncul memiliki informasi yang lebih berarti daripada kata yang sering muncul. "
      ]
    },
    {
      "cell_type": "code",
      "execution_count": null,
      "metadata": {
        "id": "Wbx4ot_zD16Q"
      },
      "outputs": [],
      "source": [
        "## == TF-IDF Vectorization\n",
        "\n",
        "# vec_fuse = CountVectorizer()\n",
        "vec_fuse = TfidfVectorizer()\n",
        "\n",
        "train_df.reset_index(drop=True, inplace=True)\n",
        "\n",
        "data_train = fuse2text(data_train)\n",
        "dataset = fuse2text(dataset)\n",
        "\n",
        "x_train_fuse = data_train['unique_corpus']\n",
        "x_fuse = dataset['unique_corpus']\n",
        "\n",
        "vec_fuse.fit(x_fuse)\n",
        "x_train_fuse = vec_fuse.transform(x_train_fuse).toarray()"
      ]
    },
    {
      "cell_type": "markdown",
      "metadata": {
        "id": "ko0ZWkbM19jM"
      },
      "source": [
        "Menampilkan hasil vectorisasi TF-IDF dengan frequensi katanya"
      ]
    },
    {
      "cell_type": "code",
      "execution_count": null,
      "metadata": {
        "colab": {
          "base_uri": "https://localhost:8080/"
        },
        "id": "r7dpiVW81lw-",
        "outputId": "4ef9aa0c-90cf-4c43-c1f6-61ffd157055a"
      },
      "outputs": [
        {
          "name": "stdout",
          "output_type": "stream",
          "text": [
            "{'10': 0.0, '1903': 0.22682689656828148, '1940': 0.25951939872267715, '1945': 5.651929567691077, '1950': 0.25951939872267715, '1957': 0.22682689656828148, '3210m': 0.1747621580652836, '60': 0.2662852418699836, '9850h': 0.2662852418699836, 'ac': 0.0, 'access': 0.8546105280800855, 'ack': 0.28705368026968564, 'acknowledgement': 0.2850055080096286, 'ada': 3.554594713762153, 'address': 0.4003279963008876, 'admin': 0.0, 'adress': 0.2840861913291517, 'airmatika': 0.2237488165720771, 'ajar': 0.2788180514165562, 'aju': 0.3453616184232821, 'akan': 0.2944845473827986, 'akhir': 0.8446701766439743, 'akibat': 0.4395293718165699, 'akses': 2.320662753602261, 'aktif': 0.8677595137914147, 'aktivitas': 0.27242084375806924, 'akumulator': 0.0, 'alamat': 0.33129645297966787, 'alami': 5.2117207338996945, 'alan': 0.20067312707629223, 'alat': 1.6808641427661537, 'algorithm': 0.2600117945497882, 'alih': 0.2735383812391052, 'alir': 0.19654218635697582, 'aljabar': 0.20914031375377554, 'alokasi': 0.2421997090201662, 'alu': 5.651929567691077, 'aman': 0.504531034900846, 'amat': 0.5517312779441528, 'ambil': 0.4013449484397229, 'an': 0.25951939872267715, 'and': 0.4087534487205327, 'antarbagian': 0.0, 'apa': 0.0, 'aplikasi': 3.086186421773758, 'application': 0.5153499048896395, 'arah': 0.4434657607725136, 'architecture': 0.46931946679628544, 'are': 0.20532392861582677, 'arithmatic': 1.1726325571709018, 'arithmetic': 0.0, 'arithmetical': 0.49522993256822834, 'aritmathic': 0.3641569973599801, 'aritmatik': 0.4667512655994408, 'aritmatika': 1.6494539224942693, 'aritmetic': 0.33434104457958075, 'aritmetika': 0.4983360734957745, 'arsitektur': 5.609689233691785, 'arsitektural': 0.29693614079145186, 'arti': 1.3365029544291693, 'arus': 0.24342345435825025, 'asli': 0.2187418205048441, 'atas': 6.383336720251262, 'atur': 1.5382176497223574, 'awal': 5.39287464007551, 'baca': 5.2117207338996945, 'background': 0.23188091539201625, 'bagai': 0.42243120425466985, 'bagi': 3.887091425311621, 'bahasa': 0.22326871447738, 'baik': 2.0774177984168123, 'bakar': 0.25760104595716415, 'balas': 0.8229819876226431, 'banding': 0.6363057372430829, 'bangun': 0.18356055779077868, 'bantu': 0.5908030720555919, 'banyak': 0.28308933090599975, 'base': 6.1441454458331055, 'based': 0.20532392861582677, 'basis': 5.651929567691077, 'batas': 6.225977047936584, 'baterai': 0.6879174381488674, 'bawah': 0.30981321725939226, 'beban': 6.1441454458331055, 'beda': 8.557771699453605, 'bekeja': 0.2530396051031313, 'belah': 6.73416557327778, 'benar': 0.7959615255255699, 'bentuk': 0.18356055779077868, 'berat': 0.9326939430178034, 'beri': 2.469540347508496, 'berisitirahat': 0.2530396051031313, 'berkas': 0.1829637491016335, 'berkat': 0.28044955453087905, 'bersih': 0.2778929613527149, 'besar': 6.052355003731296, 'bilang': 0.20067312707629223, 'biner': 0.4244813635786038, 'bios': 0.24417100046635845, 'blok': 0.18356055779077868, 'board': 0.2187418205048441, 'boolean': 0.20914031375377554, 'boost': 6.1441454458331055, 'boot': 0.9121387614509147, 'booting': 0.8459104613370716, 'boros': 0.24342345435825025, 'brainware': 0.3279003981764557, 'browser': 0.0, 'browsing': 0.2530396051031313, 'buah': 0.6770707734515542, 'buat': 6.664275359183601, 'buka': 2.006427806053624, 'buruk': 0.23835127703818895, 'bus': 1.53982834354141, 'butuh': 5.818797713639589, 'by': 0.2617872691146121, 'cabut': 0.4689383825245859, 'cache': 0.31687295867828386, 'capable': 0.2187418205048441, 'capai': 0.5851516407185993, 'cara': 6.419422197653362, 'card': 0.24417100046635845, 'cari': 0.0, 'central': 0.37472026195961455, 'centralized': 0.41185889371527784, 'cepat': 8.130884238741382, 'chip': 6.1441454458331055, 'cipta': 1.5365090702572393, 'clien': 0.3328690466854296, 'client': 6.73416557327778, 'clientnya': 0.0, 'cliet': 0.4584424564457188, 'clock': 6.1441454458331055, 'clocking': 0.3422952897239629, 'clocknya': 0.31687295867828386, 'clockrate': 0.3314216326807279, 'clocks': 0.1747621580652836, 'clockspeed': 0.451429937974683, 'close': 0.2993128911209142, 'cold': 0.8071485543842577, 'command': 0.0, 'computer': 1.4094967560417049, 'computers': 0.20532392861582677, 'concept': 0.20532392861582677, 'consumption': 0.25606646814283707, 'contoh': 2.1960183467342285, 'control': 2.8683062394325294, 'cool': 0.0, 'copy': 0.2307031426682366, 'core': 0.1623316341855112, 'counter': 5.651929567691077, 'cpu': 2.4130573082514712, 'cu': 1.3426188210794519, 'cukup': 5.366720772383279, 'daftar': 0.0, 'dalam': 1.4597590503754705, 'dalm': 0.2617872691146121, 'dampak': 0.23835127703818895, 'dapat': 3.5239223945009686, 'dasar': 1.5634257877397515, 'data': 9.575054845693483, 'database': 0.2453481991393177, 'datang': 0.0, 'daya': 2.450411352221493, 'default': 0.17840412909723125, 'dekat': 6.1441454458331055, 'demant': 0.0, 'desain': 0.1747621580652836, 'design': 0.20532392861582677, 'deskripsi': 5.651929567691077, 'desktop': 0.2993128911209142, 'deteksi': 0.0, 'device': 2.8524062948212516, 'devices': 0.41156446116215906, 'dianamakan': 0.0, 'digaspol': 0.28044955453087905, 'digunkakan': 0.0, 'digunnakan': 0.3514883617132827, 'dingin': 0.5245288790632233, 'diprocess': 0.2421997090201662, 'diproleh': 0.2320177594981147, 'diri': 0.0, 'disimpa': 0.33833565882429395, 'disk': 2.7342203566195344, 'distribusi': 0.44446185698280044, 'diupload': 0.2453481991393177, 'divais': 0.24612945701490394, 'dns': 0.25439086511662784, 'dokumen': 0.5793473523934101, 'domain': 0.0, 'dongkrak': 0.31123596898846506, 'down': 0.9302696822550707, 'download': 0.5188827401412607, 'draft': 5.651929567691077, 'drive': 0.9753233718196544, 'dua': 6.766583998785112, 'dual': 0.0, 'dukung': 0.5834202139037195, 'dunia': 0.40255054439546445, 'ecek': 0.24417100046635845, 'edvac': 5.651929567691077, 'efektif': 0.4445265271411234, 'efisien': 0.7221164265514369, 'eksekusi': 0.5626595786271972, 'eksternal': 5.651929567691077, 'elektronika': 0.22326871447738, 'empat': 2.2794715487150157, 'end': 1.0257359001297566, 'energi': 0.7117564907315267, 'energy': 0.0, 'engan': 0.19457368487891918, 'eniac': 0.1969741745110238, 'entitas': 0.46165390750435814, 'erti': 0.18356055779077868, 'excel': 0.3224830212980875, 'fasilitas': 0.2601492278052296, 'feature': 0.22580194996876665, 'feedback': 0.3185805049545773, 'file': 2.3575390249469392, 'files': 0.2711384247242647, 'first': 5.651929567691077, 'fit': 0.1747621580652836, 'fitur': 8.09049445777671, 'fixed': 0.3097468704800918, 'flash': 0.2187418205048441, 'flashdisk': 0.4474432905476587, 'fokus': 0.28308933090599975, 'frekuensi': 6.1441454458331055, 'fsb': 0.2937214636134089, 'fundamental': 0.41185889371527784, 'fungsi': 3.0846810759983887, 'gabung': 0.5231492822096944, 'gambar': 1.8756343075622621, 'game': 0.7876607211685909, 'gaming': 0.1747621580652836, 'gantung': 6.1441454458331055, 'garis': 0.20914031375377554, 'generasi': 0.5655663088793903, 'ghz': 1.5972838423739344, 'giat': 0.3346543458953586, 'giga': 0.26582158223804664, 'grafik': 0.2987520440311301, 'graphic': 0.24417100046635845, 'gui': 0.0, 'guna': 9.306997244161064, 'hadir': 0.1969741745110238, 'hafal': 0.0, 'hak': 0.5803618367863111, 'hal': 0.3508559313632706, 'halaman': 0.0, 'handle': 0.20914031375377554, 'hapus': 0.0, 'harap': 0.2601492278052296, 'hard': 2.5114967309507485, 'harddisk': 0.6959839536545878, 'hardisk': 0.6246949455723152, 'hardware': 6.938170453617864, 'hasil': 1.6460786481826022, 'haya': 0.28308933090599975, 'hdd': 0.331101050055498, 'headroom': 6.1441454458331055, 'hemat': 1.1125939442354926, 'henti': 0.533798273008384, 'hertz': 0.26582158223804664, 'hibernate': 5.2117207338996945, 'hidup': 5.2117207338996945, 'hierarki': 0.30981321725939226, 'hilang': 5.328325948793214, 'hinggu': 0.0, 'hitung': 1.0890710882085994, 'host': 1.2759710875868147, 'hostname': 0.0, 'http': 0.5567829179095302, 'hubung': 2.360255650728802, 'huruf': 0.0, 'i3': 0.1747621580652836, 'i5': 0.5205690086970058, 'i7': 0.40967647674628443, 'id': 0.0, 'ikut': 0.5263278178988481, 'ilmu': 0.20067312707629223, 'ilmuwan': 0.20067312707629223, 'in': 0.20532392861582677, 'informasi': 2.621671518999929, 'infrastructure': 0.41185889371527784, 'ingat': 0.0, 'inggris': 0.20067312707629223, 'ingin': 0.7116584499118039, 'input': 5.688886836236369, 'instruction': 5.651929567691077, 'instruksi': 8.388270549248052, 'intel': 0.9815474820901223, 'intensitas': 0.2987520440311301, 'interaksi': 0.4274140591936616, 'internal': 0.0, 'internet': 0.7065788232291751, 'interpretasi': 0.4244813635786038, 'inti': 0.2530396051031313, 'io': 0.33133412262184037, 'ip': 0.0, 'is': 0.20532392861582677, 'isi': 5.710857840522655, 'istilah': 0.3385640927109204, 'istirahat': 0.7522544721721216, 'izin': 0.0, 'jadi': 9.148942467725755, 'jaga': 8.09049445777671, 'jajar': 0.1747621580652836, 'jalan': 6.067732718933317, 'jalin': 0.5450568309118087, 'jalur': 0.2704749238604637, 'jaman': 0.2902683345129952, 'jangka': 0.0, 'jaring': 6.73416557327778, 'jauh': 6.1441454458331055, 'jawab': 0.9650544870685602, 'jeda': 0.3848657734987978, 'jelajah': 0.24484160690707882, 'jenis': 0.5112673324973791, 'jerman': 0.20067312707629223, 'john': 5.651929567691077, 'jumlah': 5.387024374352435, 'jumpa': 0.0, 'kait': 0.3328690466854296, 'kali': 0.4006932369782282, 'kalor': 0.22326871447738, 'kapasitans': 0.22326871447738, 'kapasitas': 0.778753696752502, 'karna': 0.20914031375377554, 'kata': 0.4683119335692799, 'kategori': 0.0, 'kawat': 0.4227392014421063, 'kece': 0.0, 'keluar': 1.8386785135752022, 'kembali': 0.4714263912221741, 'kembang': 0.494166512923102, 'kena': 0.5286495394695758, 'kenal': 0.5414091687284528, 'kencang': 0.28044955453087905, 'kendali': 0.7032765105099326, 'keras': 0.4717668707132664, 'kerja': 6.877069699818611, 'ketka': 0.3328690466854296, 'keyboard': 0.20380567112727827, 'keyborad': 0.19457368487891918, 'khusus': 0.1747621580652836, 'kirim': 3.2598256910886914, 'klien': 0.3097468704800918, 'kode': 0.20067312707629223, 'kolektif': 0.6312602705882482, 'komponen': 1.787822346715354, 'komputasi': 0.20067312707629223, 'komputer': 9.83374567076267, 'komunikasi': 6.73416557327778, 'kondisi': 7.0959078779005305, 'kondisis': 0.33833565882429395, 'koneksi': 0.7707427694687317, 'konfigurasi': 0.0, 'konsep': 0.5111725074396625, 'konsumen': 0.372301808805357, 'konsumsi': 0.0, 'konten': 0.28308933090599975, 'kontribusi': 0.2453481991393177, 'kontrol': 5.759985443684624, 'konvensional': 0.19206540219486304, 'kualitas': 0.2910559324475669, 'kuat': 0.2910559324475669, 'kurang': 5.260388482258235, 'kuras': 0.3120027055429274, 'lak': 0.19457368487891918, 'laku': 3.6588869436697564, 'lambat': 0.388264475625675, 'langsung': 1.6833544933765843, 'lanjut': 5.347736526286381, 'laptop': 1.383673862249527, 'layan': 6.73416557327778, 'layar': 0.2629180834428304, 'lebih': 0.0, 'lelah': 0.24022261915288526, 'lepas': 0.0, 'letak': 0.23785291217456234, 'level': 0.3521651276521954, 'lewat': 0.22680354812057557, 'line': 0.0, 'lingkung': 0.1969741745110238, 'lintas': 0.3097468704800918, 'liput': 0.24821845463579986, 'listrik': 1.3641804997288265, 'load': 6.374492472113856, 'loading': 0.24022261915288526, 'logic': 1.2698410326242011, 'logical': 1.2059674944052907, 'logika': 0.2704749238604637, 'logis': 1.6794647383070183, 'low': 0.7559052779112521, 'luar': 0.4135268631195983, 'luas': 0.6485009704663427, 'lumayan': 0.2421997090201662, 'maaf': 0.0, 'mail': 0.2997408069312202, 'main': 0.7280744010282206, 'makan': 0.8940617035043508, 'maksimal': 6.1441454458331055, 'maksimum': 0.19206540219486304, 'maksud': 2.1717263246578495, 'mampu': 1.449241821503383, 'manfaat': 0.372301808805357, 'manusia': 0.4395103872959466, 'masa': 6.23470077217846, 'masalah': 0.0, 'masuk': 2.067496001276333, 'matematika': 0.18356055779077868, 'matematis': 0.2320177594981147, 'materi': 0.2788180514165562, 'mati': 5.5009076620373145, 'mauskan': 0.2237488165720771, 'me': 1.0179690249136504, 'media': 0.5568209418941009, 'megakses': 0.0, 'mekanisme': 5.651929567691077, 'mem': 0.3197274777245058, 'memberitahukan': 0.2647335692077689, 'meminimalisir': 0.2932814346137773, 'memngirimkan': 0.0, 'memori': 6.007047899870151, 'memory': 6.67688049082031, 'mempatkan': 0.30989383782183316, 'men': 0.7920181339638017, 'mendownload': 0.2453481991393177, 'meng': 1.1464646074810037, 'mengankap': 0.18356055779077868, 'menghibernate': 0.30035443510334686, 'mengirmkan': 0.0, 'mengoptimisasi': 0.2778929613527149, 'mensetting': 0.0, 'menu': 0.25312734900369593, 'menympan': 0.35566389371003787, 'merequest': 0.8073099031020502, 'mesin': 6.814319947389018, 'mesti': 0.2906394405813529, 'metode': 0.8858412461431227, 'meumann': 0.19457368487891918, 'milik': 7.136324057791244, 'minta': 6.73416557327778, 'mirip': 0.2971958963922991, 'misal': 1.1251314523078246, 'mobil': 0.28044955453087905, 'mobile': 0.1623316341855112, 'mode': 0.9312435784531102, 'model': 8.807837943727439, 'modern': 0.8459816823778812, 'monitor': 0.18073400206063303, 'most': 0.20532392861582677, 'mother': 0.2187418205048441, 'motherboard': 0.0, 'mouse': 0.396248747794777, 'muat': 0.24484160690707882, 'mudah': 0.4439464922846526, 'mulai': 0.8852872132100442, 'multi': 0.24406328756777643, 'multitasking': 0.24342345435825025, 'muncul': 0.23279847011152224, 'mungkin': 1.0567010791711202, 'naik': 6.1441454458331055, 'nali': 0.0, 'nama': 0.8067835347502392, 'name': 0.0, 'network': 0.8508038358207644, 'neumaan': 0.19457368487891918, 'neuman': 0.8678175497148961, 'neumann': 5.651929567691077, 'neumman': 0.33434104457958075, 'no': 0.27894244225279297, 'non': 0.37391462691617405, 'normal': 0.6626103752937782, 'ntel': 0.22580194996876665, 'nya': 6.388220232780377, 'nyala': 5.253366473147936, 'of': 5.651929567691077, 'off': 0.7116382250781024, 'olah': 1.9672900086376375, 'ole': 0.0, 'oleh': 0.5381413281671847, 'olek': 0.0, 'on': 5.721390710311054, 'only': 0.9094514961164883, 'operasi': 1.701863690098374, 'optimal': 0.7922146285335471, 'os': 0.49821440024694985, 'otak': 0.3671336037595456, 'otomatis': 1.3830723961398181, 'otomotif': 0.25760104595716415, 'ouput': 0.3722414749632458, 'outlet': 0.2307031426682366, 'output': 5.651929567691077, 'overclock': 0.19206540219486304, 'overclocking': 0.39980190044633007, 'overload': 0.34650129839289273, 'pacu': 0.2937214636134089, 'pada': 0.3180237511406825, 'page': 0.0, 'pakai': 1.3709989827705062, 'paket': 0.4491493887345927, 'paksa': 0.48984322335175134, 'panas': 0.24342345435825025, 'panjang': 0.0, 'pasang': 0.42998664897242345, 'pasu': 0.3783381773913621, 'pasuk': 0.3044282693186806, 'pc': 5.325618613062777, 'pecah': 0.20067312707629223, 'pedoman': 0.29993361561388343, 'peed': 0.1747621580652836, 'peer': 0.29626009982257523, 'peggunaan': 0.347412394541988, 'peintah': 0.24022261915288526, 'pemberitahuan': 0.0, 'pemograman': 0.22326871447738, 'pemroses': 0.2237488165720771, 'pemrosesan': 5.609689233691785, 'pengaruh': 0.28308933090599975, 'penting': 0.0, 'pentransferan': 0.28308933090599975, 'penuh': 6.1441454458331055, 'per': 0.33133412262184037, 'peran': 0.7097124105356196, 'perang': 0.1863996016989126, 'perangkat': 2.990593867785578, 'performa': 2.1812646452909594, 'performance': 0.2910559324475669, 'pergi': 0.24484160690707882, 'periksa': 0.0, 'perintah': 1.413569350556796, 'perlu': 1.1462359910199433, 'persis': 0.0, 'pertama': 1.1522640706312512, 'pesan': 0.28705368026968564, 'peta': 0.9146927501336981, 'pihak': 6.73416557327778, 'pilih': 0.4791499225502164, 'pindah': 0.6752776491018081, 'port': 0.2320177594981147, 'posisi': 0.2745778343553387, 'power': 2.6345676394132154, 'powered': 0.0, 'powernya': 0.27089190004915414, 'prinsip': 0.0, 'printer': 0.396248747794777, 'prioritas': 0.45703290745530417, 'processing': 1.466730740516083, 'processor': 3.2450779828661305, 'produced': 0.20532392861582677, 'produsen': 0.3180237511406825, 'program': 6.441089115070612, 'proses': 8.355620731771815, 'prosesor': 8.388270549248052, 'protocol': 0.8452418721424417, 'punya': 0.5046719341946491, 'pusat': 0.5808128824003003, 'putus': 0.3346543458953586, 'quad': 0.0, 'ragam': 0.2902683345129952, 'rahasia': 0.20067312707629223, 'raih': 6.1441454458331055, 'ram': 5.636071445769863, 'rancang': 0.4234137594177004, 'random': 0.8546105280800855, 'rangkai': 0.0, 'rata': 0.34168325632204183, 'rate': 0.7741239775668354, 'read': 0.9094514961164883, 'register': 5.651929567691077, 'rekam': 0.24484160690707882, 'rekomendasi': 6.1441454458331055, 'relasi': 0.6815850376161384, 'relatif': 0.22326871447738, 'rendah': 0.7819590455919065, 'rentang': 0.0, 'reply': 0.2720833480778535, 'report': 5.651929567691077, 'request': 2.2140480143784544, 'resiko': 0.19206540219486304, 'resource': 0.21538763510780734, 'respon': 0.3185805049545773, 'restart': 0.48218695129153777, 'rom': 1.5778176234181438, 'ruang': 6.1441454458331055, 'rugi': 0.22610917364785424, 'rumit': 0.24514343309845205, 'rupa': 0.2788180514165562, 'rusa': 0.19206540219486304, 'rusak': 0.19206540219486304, 'salah': 6.6292820513246085, 'sama': 0.32335636582394095, 'sambung': 0.0, 'same': 0.20532392861582677, 'sana': 0.28705368026968564, 'sangkut': 0.2615313225493031, 'satu': 9.214680035708453, 'save': 0.25606646814283707, 'scele': 0.0, 'sebab': 0.6059440641077214, 'sebuh': 0.2649767883332272, 'sebut': 9.166968175805202, 'secondary': 5.2117207338996945, 'sederhana': 0.17840412909723125, 'sedia': 6.824914883094853, 'sejarah': 0.20067312707629223, 'semetara': 0.0, 'sepenuh': 1.1901023774504427, 'seringkali': 0.23188091539201625, 'server': 6.73416557327778, 'servernya': 0.40011063117313594, 'service': 0.5873262188252194, 'sesi': 0.0, 'sesuai': 6.215313838029073, 'seta': 0.18356055779077868, 'seuah': 0.2627524022280771, 'sever': 0.0, 'shut': 0.6975494709711092, 'shutdown': 1.5316024933689474, 'si': 0.0, 'siap': 0.2965813867742624, 'sifat': 0.4885144563855225, 'signal': 0.18356055779077868, 'signifikan': 0.23835127703818895, 'siklus': 0.25760104595716415, 'simpan': 7.970163747416892, 'simulasi': 0.24514343309845205, 'singgung': 0.0, 'singkat': 0.8317603428450482, 'single': 0.4869923486993466, 'sinyal': 0.2850055080096286, 'sisi': 0.0, 'sistem': 7.347388446532607, 'skip': 0.0, 'sleep': 5.2117207338996945, 'slot': 0.0, 'smartphone': 0.27842077232218926, 'software': 1.0808180993645145, 'sound': 0.24417100046635845, 'source': 0.24821845463579986, 'space': 0.2778929613527149, 'speaker': 0.396248747794777, 'speed': 0.43187157504684814, 'spesifikasi': 0.2627524022280771, 'ssd': 5.2117207338996945, 'stabilitas': 6.1441454458331055, 'stand': 0.2617872691146121, 'standar': 0.39737297874651945, 'standard': 0.26582158223804664, 'standby': 0.2307031426682366, 'state': 1.4302677707131068, 'status': 0.25312734900369593, 'steker': 0.25312734900369593, 'still': 0.20532392861582677, 'storage': 5.311929930431691, 'stored': 0.20532392861582677, 'struktur': 0.5697263728149994, 'suara': 0.2649767883332272, 'sub': 0.0, 'subjek': 0.2850055080096286, 'suhu': 0.464326832480669, 'suka': 0.28044955453087905, 'sukses': 0.2850055080096286, 'sumber': 1.0359524709771435, 'super': 0.24514343309845205, 'suplai': 0.24342345435825025, 'supplier': 0.0, 'supply': 0.6957016820928281, 'support': 0.24022261915288526, 'susun': 0.2788180514165562, 'syarat': 6.21659221993523, 'system': 0.49916037742889485, 'tab': 0.24484160690707882, 'tablet': 0.0, 'tahan': 0.2307031426682366, 'tahap': 0.24417100046635845, 'tahu': 0.3949894716994199, 'tahun': 5.651929567691077, 'tambah': 1.3843219958772768, 'tampil': 1.3617962861135944, 'tanam': 0.2600117945497882, 'tanggap': 0.3709335688260041, 'tanggung': 0.22580194996876665, 'task': 0.23188091539201625, 'tegang': 0.27282957427152815, 'tekan': 0.25760104595716415, 'teknis': 0.1969741745110238, 'teknologi': 0.9701022332520202, 'tempat': 1.0860622348572668, 'temperatur': 6.1441454458331055, 'temporarily': 0.2711384247242647, 'temu': 0.3120341826195325, 'tenaga': 5.288881234029823, 'terap': 0.2758155971352172, 'terima': 2.445044470826514, 'terinstal': 0.0, 'terus': 0.457728658670932, 'tesebut': 0.2901799269505569, 'tetap': 5.395982170176245, 'the': 5.651929567691077, 'thermal': 6.1441454458331055, 'this': 0.20532392861582677, 'threading': 0.4869923486993466, 'tiba': 0.0, 'tiga': 0.46690905572421726, 'tindak': 1.9379400482717983, 'tinggal': 0.22580194996876665, 'tinggi': 6.1441454458331055, 'tingkat': 6.290887404267718, 'to': 0.48492869753421297, 'today': 0.20532392861582677, 'total': 0.9138976257401553, 'transfer': 1.0597385179209966, 'transmisi': 0.2964431000071988, 'tsb': 0.2453481991393177, 'tube': 0.22326871447738, 'tugas': 1.2345222236346072, 'tuju': 6.0776145068415, 'tulis': 0.6832522580791635, 'tunggal': 0.6888710658559662, 'tunggu': 0.2650239277008756, 'tunjuk': 0.2649767883332272, 'turbo': 6.1441454458331055, 'turing': 0.20067312707629223, 'turn': 0.27089190004915414, 'tutup': 1.2919765322929568, 'ubah': 0.7069554639752723, 'udara': 0.25760104595716415, 'ui': 0.0, 'ukur': 0.22326871447738, 'ulang': 5.2117207338996945, 'umum': 6.864540970041314, 'umur': 5.339266849484731, 'unit': 5.710372426119271, 'unsur': 0.3279003981764557, 'untuk': 0.1829637491016335, 'untung': 0.8379131981567555, 'up': 0.22580194996876665, 'upa': 1.2733389458712747, 'upload': 0.5188827401412607, 'used': 0.20532392861582677, 'user': 2.498603050210782, 'utama': 3.034186755836627, 'utility': 0.2778929613527149, 'utuh': 0.2421997090201662, 'vacuum': 0.22326871447738, 'van': 0.4656468826368132, 'varian': 0.1747621580652836, 'virtual': 0.7117383238303103, 'visual': 0.1747621580652836, 'volatile': 0.5616123746742253, 'voltase': 0.19206540219486304, 'von': 5.651929567691077, 'vram': 0.2187418205048441, 'waktu': 5.292923736518906, 'warm': 0.43074420534756225, 'web': 0.25156070530264824, 'webpage': 0.30981321725939226, 'website': 0.4676647278082947, 'websitenya': 0.2453481991393177, 'where': 0.20532392861582677, 'windows': 0.22234845020467595, 'with': 0.22580194996876665, 'word': 0.3224830212980875, 'yg': 0.3444100084791928}\n"
          ]
        }
      ],
      "source": [
        "word_list = vec_fuse.get_feature_names()\n",
        "count_list = x_train_fuse.sum(axis=0)\n",
        "print(dict(zip(word_list,count_list)))"
      ]
    },
    {
      "cell_type": "markdown",
      "metadata": {
        "id": "G0rA1xvnIbll"
      },
      "source": [
        "## ***Extraksi Similarity \"jawaban_mahasiswa\" dan \"jawaban_dosen\" [9]***"
      ]
    },
    {
      "cell_type": "markdown",
      "metadata": {
        "id": "pVSxJ4WpOU7E"
      },
      "source": [
        "Extraksi Similarity \"jawaban_mahasiswa\" dan \"jawaban_dosen\" dengan menggunakan cosine similarity. nilai similarity diambil karena infrmasi kemiripan antar dokumen dianggap penting"
      ]
    },
    {
      "cell_type": "code",
      "execution_count": null,
      "metadata": {
        "id": "Y2WBefQGevHV"
      },
      "outputs": [],
      "source": [
        "similarity = []\n",
        "\n",
        "# vec_train_sim = CountVectorizer()\n",
        "vec_train_sim = TfidfVectorizer()\n",
        "\n",
        "for index, row in data_train.iterrows():\n",
        "    corpus = [row['jawaban_mahasiswa'], row['jawaban_dosen']]\n",
        "    sparse_matrix = vec_train_sim.fit_transform(corpus)\n",
        "    doc_term_matrix = sparse_matrix.todense()\n",
        "    sim = cosine_similarity(sparse_matrix[0], sparse_matrix[1]).reshape(-1, 1)\n",
        "    similarity.append(sim[0][0])\n",
        "\n",
        "data_train[\"similarity\"] = similarity\n",
        "\n",
        "x_train_sim = data_train['similarity'].to_numpy()\n",
        "y_train_sim = data_train['human_rater'].to_numpy()"
      ]
    },
    {
      "cell_type": "markdown",
      "metadata": {
        "id": "lheBQEGFI2wo"
      },
      "source": [
        "## ***Extraksi fitur Word2Vec pada \"jawaban_mahasiswa\" dan \"jawaban_dosen\" [15]***"
      ]
    },
    {
      "cell_type": "markdown",
      "metadata": {
        "id": "HtT9VUpQZIKS"
      },
      "source": [
        "ekstraksi word2vec diperlukan untuk melihal seberapa related hubungan antara kata terhadap corpus pada dokumen training. nilai ini dianggap bisa mendapatkan nilai yang baik pada hubungan antara kata dan urutan kata yang mungkin. vektor yang didapat diharapkan mampu memprediksi target dengan baik."
      ]
    },
    {
      "cell_type": "code",
      "execution_count": null,
      "metadata": {
        "id": "AoIcCC_KJ6Mf"
      },
      "outputs": [],
      "source": [
        "# X_mhs_test = data_test['jawaban_mahasiswa']\n",
        "\n",
        "X_mhs_train = data_train['jawaban_mahasiswa']\n",
        "X_mhs = dataset['jawaban_mahasiswa']"
      ]
    },
    {
      "cell_type": "markdown",
      "metadata": {
        "id": "hWAaqRYgaDtw"
      },
      "source": [
        "generate word2vec dilakukan library gensim[16]. generate word2vec dilakukan pada kolom \"jawaban_mahasiswa\", \"jawaban_dosen\", dan \"unique_corpus\""
      ]
    },
    {
      "cell_type": "code",
      "execution_count": null,
      "metadata": {
        "id": "GeLZn_IZI2Qk"
      },
      "outputs": [],
      "source": [
        "## Mahasiswa\n",
        "\n",
        "w2v_model_mhs = gensim.models.Word2Vec(data_train['jawaban_mahasiswa'],\n",
        "                                   size=100,\n",
        "                                   window=5,\n",
        "                                   min_count=2)\n",
        "\n",
        "words_mhs = set(w2v_model_mhs.wv.index2word)\n",
        "X_train_vect_mhs = np.array([np.array([w2v_model_mhs.wv[i] for i in ls if i in words_mhs])\n",
        "                         for ls in data_train['jawaban_mahasiswa']])\n",
        "\n",
        "X_train_vect_avg_mhs = []\n",
        "for v in X_train_vect_mhs:\n",
        "    if v.size:\n",
        "        X_train_vect_avg_mhs.append(v.mean(axis=0))\n",
        "    else:\n",
        "        X_train_vect_avg_mhs.append(np.zeros(100, dtype=float))\n",
        "\n",
        "data_train[\"word2vec_mahasiswa\"] = X_train_vect_avg_mhs\n",
        "\n",
        "## Dosen\n",
        "\n",
        "w2v_model_dsn = gensim.models.Word2Vec(data_train['jawaban_dosen'],\n",
        "                                   size=100,\n",
        "                                   window=5,\n",
        "                                   min_count=2)\n",
        "\n",
        "words_dsn = set(w2v_model_dsn.wv.index2word)\n",
        "X_train_vect_dsn = np.array([np.array([w2v_model_dsn.wv[i] for i in ls if i in words_dsn])\n",
        "                         for ls in data_train['jawaban_dosen']])\n",
        "\n",
        "X_train_vect_avg_dsn = []\n",
        "for v in X_train_vect_dsn:\n",
        "    if v.size:\n",
        "        X_train_vect_avg_dsn.append(v.mean(axis=0))\n",
        "    else:\n",
        "        X_train_vect_avg_dsn.append(np.zeros(100, dtype=float))\n",
        "\n",
        "data_train[\"word2vec_dosen\"] = X_train_vect_avg_dsn\n",
        "\n",
        "## Unique Corpus -> gabungan jawaban dose dengan jawaban mahasiswa dengan irisan tanpa mempengaruhi urutan\n",
        "\n",
        "w2v_model_fuse = gensim.models.Word2Vec(data_train['unique_corpus'],\n",
        "                                   size=100,\n",
        "                                   window=5,\n",
        "                                   min_count=2)\n",
        "\n",
        "words_fuse = set(w2v_model_fuse.wv.index2word)\n",
        "X_train_vect_fuse = np.array([np.array([w2v_model_fuse.wv[i] for i in ls if i in words_fuse])\n",
        "                         for ls in data_train['unique_corpus']])\n",
        "\n",
        "X_train_vect_avg_fuse = []\n",
        "for v in X_train_vect_fuse:\n",
        "    if v.size:\n",
        "        X_train_vect_avg_fuse.append(v.mean(axis=0))\n",
        "    else:\n",
        "        X_train_vect_avg_fuse.append(np.zeros(100, dtype=float))\n",
        "\n",
        "data_train[\"word2vec_unique\"] = X_train_vect_avg_fuse"
      ]
    },
    {
      "cell_type": "code",
      "execution_count": null,
      "metadata": {
        "colab": {
          "base_uri": "https://localhost:8080/",
          "height": 676
        },
        "id": "oAlh-rnUpIIa",
        "outputId": "cde0f5d0-f971-4eb6-b84e-cab5cc7ec7a1"
      },
      "outputs": [
        {
          "data": {
            "text/html": [
              "\n",
              "  <div id=\"df-9d91610c-d5c6-433d-b05f-859ecbaefb35\">\n",
              "    <div class=\"colab-df-container\">\n",
              "      <div>\n",
              "<style scoped>\n",
              "    .dataframe tbody tr th:only-of-type {\n",
              "        vertical-align: middle;\n",
              "    }\n",
              "\n",
              "    .dataframe tbody tr th {\n",
              "        vertical-align: top;\n",
              "    }\n",
              "\n",
              "    .dataframe thead th {\n",
              "        text-align: right;\n",
              "    }\n",
              "</style>\n",
              "<table border=\"1\" class=\"dataframe\">\n",
              "  <thead>\n",
              "    <tr style=\"text-align: right;\">\n",
              "      <th></th>\n",
              "      <th>jawaban_mahasiswa</th>\n",
              "      <th>jawaban_dosen</th>\n",
              "      <th>human_rater</th>\n",
              "      <th>unique_corpus</th>\n",
              "      <th>similarity</th>\n",
              "      <th>word2vec_mahasiswa</th>\n",
              "      <th>word2vec_dosen</th>\n",
              "      <th>word2vec_unique</th>\n",
              "    </tr>\n",
              "  </thead>\n",
              "  <tbody>\n",
              "    <tr>\n",
              "      <th>28</th>\n",
              "      <td>client server salah satu model jaring device t...</td>\n",
              "      <td>client server jaring komputer model komunikasi...</td>\n",
              "      <td>80</td>\n",
              "      <td>client server jaring komputer model komunikasi...</td>\n",
              "      <td>0.239437</td>\n",
              "      <td>[0.1718748, 0.05314775, -0.2056655, 0.00389290...</td>\n",
              "      <td>[0.12471636, -0.008884163, -0.06988157, 0.0531...</td>\n",
              "      <td>[0.15136693, 0.013977049, -0.1465013, 0.125178...</td>\n",
              "    </tr>\n",
              "    <tr>\n",
              "      <th>13</th>\n",
              "      <td>client host beri request server jaring compute...</td>\n",
              "      <td>client server jaring komputer model komunikasi...</td>\n",
              "      <td>60</td>\n",
              "      <td>client server jaring komputer model komunikasi...</td>\n",
              "      <td>0.147015</td>\n",
              "      <td>[0.171781, 0.053494096, -0.20604298, 0.0044455...</td>\n",
              "      <td>[0.12471636, -0.008884163, -0.06988157, 0.0531...</td>\n",
              "      <td>[0.15158494, 0.014591474, -0.1485367, 0.124536...</td>\n",
              "    </tr>\n",
              "    <tr>\n",
              "      <th>195</th>\n",
              "      <td>turbo boost overload jadi komputer laptop</td>\n",
              "      <td>turbo boost salah satu fitur prosesor masa tuj...</td>\n",
              "      <td>0</td>\n",
              "      <td>turbo boost salah satu fitur prosesor masa tuj...</td>\n",
              "      <td>0.070616</td>\n",
              "      <td>[0.16939604, 0.052385226, -0.20414022, 0.00540...</td>\n",
              "      <td>[0.12968582, -0.003922017, -0.07866789, 0.0529...</td>\n",
              "      <td>[0.15122044, 0.014663451, -0.14932106, 0.12377...</td>\n",
              "    </tr>\n",
              "    <tr>\n",
              "      <th>185</th>\n",
              "      <td>turbo boost aplikasi tuju optimal mem boost ke...</td>\n",
              "      <td>turbo boost salah satu fitur prosesor masa tuj...</td>\n",
              "      <td>100</td>\n",
              "      <td>turbo boost salah satu fitur prosesor masa tuj...</td>\n",
              "      <td>0.269437</td>\n",
              "      <td>[0.17055349, 0.052563004, -0.20453711, 0.00543...</td>\n",
              "      <td>[0.12968582, -0.003922017, -0.07866789, 0.0529...</td>\n",
              "      <td>[0.15134631, 0.0145031335, -0.14865267, 0.1241...</td>\n",
              "    </tr>\n",
              "    <tr>\n",
              "      <th>208</th>\n",
              "      <td>teknologi cepat</td>\n",
              "      <td>turbo boost salah satu fitur prosesor masa tuj...</td>\n",
              "      <td>10</td>\n",
              "      <td>turbo boost salah satu fitur prosesor masa tuj...</td>\n",
              "      <td>0.064026</td>\n",
              "      <td>[0.1707483, 0.053401127, -0.20459889, 0.004663...</td>\n",
              "      <td>[0.12968582, -0.003922017, -0.07866789, 0.0529...</td>\n",
              "      <td>[0.15120964, 0.014586348, -0.1486631, 0.123966...</td>\n",
              "    </tr>\n",
              "    <tr>\n",
              "      <th>...</th>\n",
              "      <td>...</td>\n",
              "      <td>...</td>\n",
              "      <td>...</td>\n",
              "      <td>...</td>\n",
              "      <td>...</td>\n",
              "      <td>...</td>\n",
              "      <td>...</td>\n",
              "      <td>...</td>\n",
              "    </tr>\n",
              "    <tr>\n",
              "      <th>132</th>\n",
              "      <td>von neumann gambar komputer empat bagi utama u...</td>\n",
              "      <td>komputer model von neumann model arsitektur de...</td>\n",
              "      <td>90</td>\n",
              "      <td>komputer model von neumann arsitektur deskrips...</td>\n",
              "      <td>0.214476</td>\n",
              "      <td>[0.17019439, 0.05250575, -0.20338745, 0.004974...</td>\n",
              "      <td>[0.13300255, -0.003686872, -0.08360655, 0.0531...</td>\n",
              "      <td>[0.15267393, 0.015892724, -0.15636903, 0.12304...</td>\n",
              "    </tr>\n",
              "    <tr>\n",
              "      <th>60</th>\n",
              "      <td>hibernate salah satu proses komputer mati mati...</td>\n",
              "      <td>hibernate pc fitur mati pc waktu sleep fitur g...</td>\n",
              "      <td>100</td>\n",
              "      <td>hibernate pc fitur mati waktu sleep guna tenag...</td>\n",
              "      <td>0.289743</td>\n",
              "      <td>[0.17023729, 0.052834675, -0.20350368, 0.00491...</td>\n",
              "      <td>[0.1254824, -0.0073053217, -0.07071895, 0.0530...</td>\n",
              "      <td>[0.15196744, 0.014008712, -0.14527313, 0.12719...</td>\n",
              "    </tr>\n",
              "    <tr>\n",
              "      <th>174</th>\n",
              "      <td>turbo boost proses boot cepat cold boot tahap ...</td>\n",
              "      <td>turbo boost salah satu fitur prosesor masa tuj...</td>\n",
              "      <td>60</td>\n",
              "      <td>turbo boost salah satu fitur prosesor masa tuj...</td>\n",
              "      <td>0.056620</td>\n",
              "      <td>[0.17117949, 0.05318662, -0.20596975, 0.005100...</td>\n",
              "      <td>[0.12968582, -0.003922017, -0.07866789, 0.0529...</td>\n",
              "      <td>[0.15130164, 0.014681937, -0.14912382, 0.12411...</td>\n",
              "    </tr>\n",
              "    <tr>\n",
              "      <th>164</th>\n",
              "      <td>komputer von neumann komputer pertama buat joh...</td>\n",
              "      <td>komputer model von neumann model arsitektur de...</td>\n",
              "      <td>90</td>\n",
              "      <td>komputer model von neumann arsitektur deskrips...</td>\n",
              "      <td>0.345523</td>\n",
              "      <td>[0.17111295, 0.053204264, -0.20601185, 0.00529...</td>\n",
              "      <td>[0.13300255, -0.003686872, -0.08360655, 0.0531...</td>\n",
              "      <td>[0.15283668, 0.016685134, -0.16055618, 0.12157...</td>\n",
              "    </tr>\n",
              "    <tr>\n",
              "      <th>20</th>\n",
              "      <td>client server metode pentransferan konten bagi...</td>\n",
              "      <td>client server jaring komputer model komunikasi...</td>\n",
              "      <td>70</td>\n",
              "      <td>client server jaring komputer model komunikasi...</td>\n",
              "      <td>0.178906</td>\n",
              "      <td>[0.1722993, 0.053926956, -0.20717281, 0.004429...</td>\n",
              "      <td>[0.12471636, -0.008884163, -0.06988157, 0.0531...</td>\n",
              "      <td>[0.15185863, 0.015018074, -0.15054308, 0.12399...</td>\n",
              "    </tr>\n",
              "  </tbody>\n",
              "</table>\n",
              "<p>175 rows × 8 columns</p>\n",
              "</div>\n",
              "      <button class=\"colab-df-convert\" onclick=\"convertToInteractive('df-9d91610c-d5c6-433d-b05f-859ecbaefb35')\"\n",
              "              title=\"Convert this dataframe to an interactive table.\"\n",
              "              style=\"display:none;\">\n",
              "        \n",
              "  <svg xmlns=\"http://www.w3.org/2000/svg\" height=\"24px\"viewBox=\"0 0 24 24\"\n",
              "       width=\"24px\">\n",
              "    <path d=\"M0 0h24v24H0V0z\" fill=\"none\"/>\n",
              "    <path d=\"M18.56 5.44l.94 2.06.94-2.06 2.06-.94-2.06-.94-.94-2.06-.94 2.06-2.06.94zm-11 1L8.5 8.5l.94-2.06 2.06-.94-2.06-.94L8.5 2.5l-.94 2.06-2.06.94zm10 10l.94 2.06.94-2.06 2.06-.94-2.06-.94-.94-2.06-.94 2.06-2.06.94z\"/><path d=\"M17.41 7.96l-1.37-1.37c-.4-.4-.92-.59-1.43-.59-.52 0-1.04.2-1.43.59L10.3 9.45l-7.72 7.72c-.78.78-.78 2.05 0 2.83L4 21.41c.39.39.9.59 1.41.59.51 0 1.02-.2 1.41-.59l7.78-7.78 2.81-2.81c.8-.78.8-2.07 0-2.86zM5.41 20L4 18.59l7.72-7.72 1.47 1.35L5.41 20z\"/>\n",
              "  </svg>\n",
              "      </button>\n",
              "      \n",
              "  <style>\n",
              "    .colab-df-container {\n",
              "      display:flex;\n",
              "      flex-wrap:wrap;\n",
              "      gap: 12px;\n",
              "    }\n",
              "\n",
              "    .colab-df-convert {\n",
              "      background-color: #E8F0FE;\n",
              "      border: none;\n",
              "      border-radius: 50%;\n",
              "      cursor: pointer;\n",
              "      display: none;\n",
              "      fill: #1967D2;\n",
              "      height: 32px;\n",
              "      padding: 0 0 0 0;\n",
              "      width: 32px;\n",
              "    }\n",
              "\n",
              "    .colab-df-convert:hover {\n",
              "      background-color: #E2EBFA;\n",
              "      box-shadow: 0px 1px 2px rgba(60, 64, 67, 0.3), 0px 1px 3px 1px rgba(60, 64, 67, 0.15);\n",
              "      fill: #174EA6;\n",
              "    }\n",
              "\n",
              "    [theme=dark] .colab-df-convert {\n",
              "      background-color: #3B4455;\n",
              "      fill: #D2E3FC;\n",
              "    }\n",
              "\n",
              "    [theme=dark] .colab-df-convert:hover {\n",
              "      background-color: #434B5C;\n",
              "      box-shadow: 0px 1px 3px 1px rgba(0, 0, 0, 0.15);\n",
              "      filter: drop-shadow(0px 1px 2px rgba(0, 0, 0, 0.3));\n",
              "      fill: #FFFFFF;\n",
              "    }\n",
              "  </style>\n",
              "\n",
              "      <script>\n",
              "        const buttonEl =\n",
              "          document.querySelector('#df-9d91610c-d5c6-433d-b05f-859ecbaefb35 button.colab-df-convert');\n",
              "        buttonEl.style.display =\n",
              "          google.colab.kernel.accessAllowed ? 'block' : 'none';\n",
              "\n",
              "        async function convertToInteractive(key) {\n",
              "          const element = document.querySelector('#df-9d91610c-d5c6-433d-b05f-859ecbaefb35');\n",
              "          const dataTable =\n",
              "            await google.colab.kernel.invokeFunction('convertToInteractive',\n",
              "                                                     [key], {});\n",
              "          if (!dataTable) return;\n",
              "\n",
              "          const docLinkHtml = 'Like what you see? Visit the ' +\n",
              "            '<a target=\"_blank\" href=https://colab.research.google.com/notebooks/data_table.ipynb>data table notebook</a>'\n",
              "            + ' to learn more about interactive tables.';\n",
              "          element.innerHTML = '';\n",
              "          dataTable['output_type'] = 'display_data';\n",
              "          await google.colab.output.renderOutput(dataTable, element);\n",
              "          const docLink = document.createElement('div');\n",
              "          docLink.innerHTML = docLinkHtml;\n",
              "          element.appendChild(docLink);\n",
              "        }\n",
              "      </script>\n",
              "    </div>\n",
              "  </div>\n",
              "  "
            ],
            "text/plain": [
              "                                     jawaban_mahasiswa  \\\n",
              "28   client server salah satu model jaring device t...   \n",
              "13   client host beri request server jaring compute...   \n",
              "195          turbo boost overload jadi komputer laptop   \n",
              "185  turbo boost aplikasi tuju optimal mem boost ke...   \n",
              "208                                    teknologi cepat   \n",
              "..                                                 ...   \n",
              "132  von neumann gambar komputer empat bagi utama u...   \n",
              "60   hibernate salah satu proses komputer mati mati...   \n",
              "174  turbo boost proses boot cepat cold boot tahap ...   \n",
              "164  komputer von neumann komputer pertama buat joh...   \n",
              "20   client server metode pentransferan konten bagi...   \n",
              "\n",
              "                                         jawaban_dosen  human_rater  \\\n",
              "28   client server jaring komputer model komunikasi...           80   \n",
              "13   client server jaring komputer model komunikasi...           60   \n",
              "195  turbo boost salah satu fitur prosesor masa tuj...            0   \n",
              "185  turbo boost salah satu fitur prosesor masa tuj...          100   \n",
              "208  turbo boost salah satu fitur prosesor masa tuj...           10   \n",
              "..                                                 ...          ...   \n",
              "132  komputer model von neumann model arsitektur de...           90   \n",
              "60   hibernate pc fitur mati pc waktu sleep fitur g...          100   \n",
              "174  turbo boost salah satu fitur prosesor masa tuj...           60   \n",
              "164  komputer model von neumann model arsitektur de...           90   \n",
              "20   client server jaring komputer model komunikasi...           70   \n",
              "\n",
              "                                         unique_corpus  similarity  \\\n",
              "28   client server jaring komputer model komunikasi...    0.239437   \n",
              "13   client server jaring komputer model komunikasi...    0.147015   \n",
              "195  turbo boost salah satu fitur prosesor masa tuj...    0.070616   \n",
              "185  turbo boost salah satu fitur prosesor masa tuj...    0.269437   \n",
              "208  turbo boost salah satu fitur prosesor masa tuj...    0.064026   \n",
              "..                                                 ...         ...   \n",
              "132  komputer model von neumann arsitektur deskrips...    0.214476   \n",
              "60   hibernate pc fitur mati waktu sleep guna tenag...    0.289743   \n",
              "174  turbo boost salah satu fitur prosesor masa tuj...    0.056620   \n",
              "164  komputer model von neumann arsitektur deskrips...    0.345523   \n",
              "20   client server jaring komputer model komunikasi...    0.178906   \n",
              "\n",
              "                                    word2vec_mahasiswa  \\\n",
              "28   [0.1718748, 0.05314775, -0.2056655, 0.00389290...   \n",
              "13   [0.171781, 0.053494096, -0.20604298, 0.0044455...   \n",
              "195  [0.16939604, 0.052385226, -0.20414022, 0.00540...   \n",
              "185  [0.17055349, 0.052563004, -0.20453711, 0.00543...   \n",
              "208  [0.1707483, 0.053401127, -0.20459889, 0.004663...   \n",
              "..                                                 ...   \n",
              "132  [0.17019439, 0.05250575, -0.20338745, 0.004974...   \n",
              "60   [0.17023729, 0.052834675, -0.20350368, 0.00491...   \n",
              "174  [0.17117949, 0.05318662, -0.20596975, 0.005100...   \n",
              "164  [0.17111295, 0.053204264, -0.20601185, 0.00529...   \n",
              "20   [0.1722993, 0.053926956, -0.20717281, 0.004429...   \n",
              "\n",
              "                                        word2vec_dosen  \\\n",
              "28   [0.12471636, -0.008884163, -0.06988157, 0.0531...   \n",
              "13   [0.12471636, -0.008884163, -0.06988157, 0.0531...   \n",
              "195  [0.12968582, -0.003922017, -0.07866789, 0.0529...   \n",
              "185  [0.12968582, -0.003922017, -0.07866789, 0.0529...   \n",
              "208  [0.12968582, -0.003922017, -0.07866789, 0.0529...   \n",
              "..                                                 ...   \n",
              "132  [0.13300255, -0.003686872, -0.08360655, 0.0531...   \n",
              "60   [0.1254824, -0.0073053217, -0.07071895, 0.0530...   \n",
              "174  [0.12968582, -0.003922017, -0.07866789, 0.0529...   \n",
              "164  [0.13300255, -0.003686872, -0.08360655, 0.0531...   \n",
              "20   [0.12471636, -0.008884163, -0.06988157, 0.0531...   \n",
              "\n",
              "                                       word2vec_unique  \n",
              "28   [0.15136693, 0.013977049, -0.1465013, 0.125178...  \n",
              "13   [0.15158494, 0.014591474, -0.1485367, 0.124536...  \n",
              "195  [0.15122044, 0.014663451, -0.14932106, 0.12377...  \n",
              "185  [0.15134631, 0.0145031335, -0.14865267, 0.1241...  \n",
              "208  [0.15120964, 0.014586348, -0.1486631, 0.123966...  \n",
              "..                                                 ...  \n",
              "132  [0.15267393, 0.015892724, -0.15636903, 0.12304...  \n",
              "60   [0.15196744, 0.014008712, -0.14527313, 0.12719...  \n",
              "174  [0.15130164, 0.014681937, -0.14912382, 0.12411...  \n",
              "164  [0.15283668, 0.016685134, -0.16055618, 0.12157...  \n",
              "20   [0.15185863, 0.015018074, -0.15054308, 0.12399...  \n",
              "\n",
              "[175 rows x 8 columns]"
            ]
          },
          "execution_count": 31,
          "metadata": {},
          "output_type": "execute_result"
        }
      ],
      "source": [
        "data_train"
      ]
    },
    {
      "cell_type": "markdown",
      "metadata": {
        "id": "fhewB70rSSaI"
      },
      "source": [
        "# ***Data Test Preparation***\n",
        "\n",
        "persiapan data testing dengan perlaukuan sesuai dengan data training"
      ]
    },
    {
      "cell_type": "markdown",
      "metadata": {
        "id": "3uIqcdIAVA5j"
      },
      "source": [
        "proprocessing data test"
      ]
    },
    {
      "cell_type": "code",
      "execution_count": null,
      "metadata": {
        "id": "rfudtyLr10Y6"
      },
      "outputs": [],
      "source": [
        "data_test = preprocessing_text(test_df)\n",
        "data_test.reset_index(drop=True, inplace=True)"
      ]
    },
    {
      "cell_type": "markdown",
      "metadata": {
        "id": "ixj-p6o6q6j1"
      },
      "source": [
        "label encoding y test"
      ]
    },
    {
      "cell_type": "code",
      "execution_count": null,
      "metadata": {
        "id": "ml8k_ilAquHV"
      },
      "outputs": [],
      "source": [
        "y_test = data_test['human_rater']\n",
        "\n",
        "y_test = labelencode.transform(y_test)"
      ]
    },
    {
      "cell_type": "markdown",
      "metadata": {
        "id": "qNxYsvGzVW_4"
      },
      "source": [
        "fuse \"jawaban_dosen\" dengan \"jawaban_mahasiswa\" pada data test"
      ]
    },
    {
      "cell_type": "code",
      "execution_count": null,
      "metadata": {
        "id": "g_ZFZsUmVMOI"
      },
      "outputs": [],
      "source": [
        "data_test = fuse2text(data_test)\n",
        "\n",
        "x_test_fuse = data_test['unique_corpus']\n",
        "\n",
        "x_test_fuse = vec_fuse.transform(x_test_fuse).toarray()"
      ]
    },
    {
      "cell_type": "markdown",
      "metadata": {
        "id": "FKTX3M0vVgx3"
      },
      "source": [
        "cosine similarity pada data test"
      ]
    },
    {
      "cell_type": "code",
      "execution_count": null,
      "metadata": {
        "id": "hKeomPfjwttV"
      },
      "outputs": [],
      "source": [
        "# vec_test_sim = CountVectorizer()\n",
        "vec_test_sim = TfidfVectorizer()\n",
        "\n",
        "similarity_test = []\n",
        "\n",
        "for index, row in data_test.iterrows():\n",
        "    corpus = [row['jawaban_mahasiswa'], row['jawaban_dosen']]\n",
        "    sparse_matrix = vec_test_sim.fit_transform(corpus)\n",
        "    doc_term_matrix = sparse_matrix.todense()\n",
        "    sim = cosine_similarity(sparse_matrix[0], sparse_matrix[1]).reshape(-1, 1)\n",
        "    similarity_test.append(sim[0][0])\n",
        "\n",
        "data_test[\"similarity\"] = similarity_test\n",
        "\n",
        "# x_test_sim = data_test['similarity'].to_numpy()\n",
        "# y_test_sim = data_test['human_rater'].to_numpy()"
      ]
    },
    {
      "cell_type": "markdown",
      "metadata": {
        "id": "eUu47hgjM4fN"
      },
      "source": [
        "Woed2Vec pada Data test"
      ]
    },
    {
      "cell_type": "code",
      "execution_count": null,
      "metadata": {
        "id": "pEZNPABXNwq5"
      },
      "outputs": [],
      "source": [
        "## Mahasiswa\n",
        "\n",
        "w2v_model_mhs = gensim.models.Word2Vec(data_test['jawaban_mahasiswa'],\n",
        "                                   size=100,\n",
        "                                   window=5,\n",
        "                                   min_count=2)\n",
        "\n",
        "words_mhs = set(w2v_model_mhs.wv.index2word)\n",
        "X_test_vect_mhs = np.array([np.array([w2v_model_mhs.wv[i] for i in ls if i in words_mhs])\n",
        "                         for ls in data_test['jawaban_mahasiswa']])\n",
        "\n",
        "X_test_vect_avg_mhs = []\n",
        "for v in X_test_vect_mhs:\n",
        "    if v.size:\n",
        "        X_test_vect_avg_mhs.append(v.mean(axis=0))\n",
        "    else:\n",
        "        X_test_vect_avg_mhs.append(np.zeros(100, dtype=float))\n",
        "\n",
        "data_test[\"word2vec_mahasiswa\"] = X_test_vect_avg_mhs\n",
        "\n",
        "## Dosen\n",
        "\n",
        "w2v_model_dsn = gensim.models.Word2Vec(data_test['jawaban_dosen'],\n",
        "                                   size=100,\n",
        "                                   window=5,\n",
        "                                   min_count=2)\n",
        "\n",
        "words_dsn = set(w2v_model_dsn.wv.index2word)\n",
        "X_test_vect_dsn = np.array([np.array([w2v_model_dsn.wv[i] for i in ls if i in words_dsn])\n",
        "                         for ls in data_test['jawaban_dosen']])\n",
        "\n",
        "X_test_vect_avg_dsn = []\n",
        "for v in X_test_vect_dsn:\n",
        "    if v.size:\n",
        "        X_test_vect_avg_dsn.append(v.mean(axis=0))\n",
        "    else:\n",
        "        X_test_vect_avg_dsn.append(np.zeros(100, dtype=float))\n",
        "\n",
        "data_test[\"word2vec_dosen\"] = X_test_vect_avg_dsn\n",
        "\n",
        "## Unique Corpus -> gabungan jawaban dose dengan jawaban mahasiswa dengan irisan tanpa mempengaruhi urutan\n",
        "\n",
        "w2v_model_fuse = gensim.models.Word2Vec(data_test['unique_corpus'],\n",
        "                                   size=100,\n",
        "                                   window=5,\n",
        "                                   min_count=2)\n",
        "\n",
        "words_fuse = set(w2v_model_fuse.wv.index2word)\n",
        "X_test_vect_fuse = np.array([np.array([w2v_model_fuse.wv[i] for i in ls if i in words_fuse])\n",
        "                         for ls in data_test['unique_corpus']])\n",
        "\n",
        "X_test_vect_avg_fuse = []\n",
        "for v in X_test_vect_fuse:\n",
        "    if v.size:\n",
        "        X_test_vect_avg_fuse.append(v.mean(axis=0))\n",
        "    else:\n",
        "        X_test_vect_avg_fuse.append(np.zeros(100, dtype=float))\n",
        "\n",
        "data_test[\"word2vec_unique\"] = X_test_vect_avg_fuse"
      ]
    },
    {
      "cell_type": "code",
      "execution_count": null,
      "metadata": {
        "colab": {
          "base_uri": "https://localhost:8080/",
          "height": 1000
        },
        "id": "5b1gfoWrp9VH",
        "outputId": "c78d9e1c-09d0-4ba2-e2f6-05497be774dc"
      },
      "outputs": [
        {
          "data": {
            "text/html": [
              "\n",
              "  <div id=\"df-8ad51058-a86d-4e54-80ee-6eaaef458524\">\n",
              "    <div class=\"colab-df-container\">\n",
              "      <div>\n",
              "<style scoped>\n",
              "    .dataframe tbody tr th:only-of-type {\n",
              "        vertical-align: middle;\n",
              "    }\n",
              "\n",
              "    .dataframe tbody tr th {\n",
              "        vertical-align: top;\n",
              "    }\n",
              "\n",
              "    .dataframe thead th {\n",
              "        text-align: right;\n",
              "    }\n",
              "</style>\n",
              "<table border=\"1\" class=\"dataframe\">\n",
              "  <thead>\n",
              "    <tr style=\"text-align: right;\">\n",
              "      <th></th>\n",
              "      <th>jawaban_mahasiswa</th>\n",
              "      <th>jawaban_dosen</th>\n",
              "      <th>human_rater</th>\n",
              "      <th>unique_corpus</th>\n",
              "      <th>similarity</th>\n",
              "      <th>word2vec_mahasiswa</th>\n",
              "      <th>word2vec_dosen</th>\n",
              "      <th>word2vec_unique</th>\n",
              "    </tr>\n",
              "  </thead>\n",
              "  <tbody>\n",
              "    <tr>\n",
              "      <th>0</th>\n",
              "      <td>komputer model von neumann komputer milik arsi...</td>\n",
              "      <td>komputer model von neumann model arsitektur de...</td>\n",
              "      <td>90</td>\n",
              "      <td>komputer model von neumann arsitektur deskrips...</td>\n",
              "      <td>0.280871</td>\n",
              "      <td>[0.1802827, 0.03181845, -0.26937115, 0.1060958...</td>\n",
              "      <td>[0.1406437, 0.059035134, -0.25825602, 0.078928...</td>\n",
              "      <td>[0.14541845, 0.14433952, -0.2628474, 0.0949863...</td>\n",
              "    </tr>\n",
              "    <tr>\n",
              "      <th>1</th>\n",
              "      <td>mati komputer simpan kondisi akhir</td>\n",
              "      <td>hibernate pc fitur mati pc waktu sleep fitur g...</td>\n",
              "      <td>40</td>\n",
              "      <td>hibernate pc fitur mati waktu sleep guna tenag...</td>\n",
              "      <td>0.205523</td>\n",
              "      <td>[0.1800874, 0.031097258, -0.2678463, 0.1057570...</td>\n",
              "      <td>[0.14062996, 0.059194397, -0.25772485, 0.07889...</td>\n",
              "      <td>[0.14474851, 0.14375794, -0.26114187, 0.094403...</td>\n",
              "    </tr>\n",
              "    <tr>\n",
              "      <th>2</th>\n",
              "      <td>arsitektur komputer pertama buat digunkakan hi...</td>\n",
              "      <td>komputer model von neumann model arsitektur de...</td>\n",
              "      <td>30</td>\n",
              "      <td>komputer model von neumann arsitektur deskrips...</td>\n",
              "      <td>0.113014</td>\n",
              "      <td>[0.18145587, 0.031606287, -0.26947266, 0.10546...</td>\n",
              "      <td>[0.1406437, 0.059035134, -0.25825602, 0.078928...</td>\n",
              "      <td>[0.1458073, 0.1446048, -0.2633788, 0.09505808,...</td>\n",
              "    </tr>\n",
              "    <tr>\n",
              "      <th>3</th>\n",
              "      <td>hibernate ada komputer mati mesin ram rom nyal...</td>\n",
              "      <td>hibernate pc fitur mati pc waktu sleep fitur g...</td>\n",
              "      <td>20</td>\n",
              "      <td>hibernate pc fitur mati waktu sleep guna tenag...</td>\n",
              "      <td>0.240563</td>\n",
              "      <td>[0.17903604, 0.031684667, -0.267176, 0.1053541...</td>\n",
              "      <td>[0.14062996, 0.059194397, -0.25772485, 0.07889...</td>\n",
              "      <td>[0.14447325, 0.14362164, -0.26079622, 0.09426,...</td>\n",
              "    </tr>\n",
              "    <tr>\n",
              "      <th>4</th>\n",
              "      <td>hibernate mati komputer total tetap simpan apl...</td>\n",
              "      <td>hibernate pc fitur mati pc waktu sleep fitur g...</td>\n",
              "      <td>80</td>\n",
              "      <td>hibernate pc fitur mati waktu sleep guna tenag...</td>\n",
              "      <td>0.377486</td>\n",
              "      <td>[0.18059292, 0.03180016, -0.2691703, 0.1062313...</td>\n",
              "      <td>[0.14062996, 0.059194397, -0.25772485, 0.07889...</td>\n",
              "      <td>[0.14452372, 0.143514, -0.26078853, 0.09437076...</td>\n",
              "    </tr>\n",
              "    <tr>\n",
              "      <th>5</th>\n",
              "      <td>jaring computer kenal 2 istilah client server ...</td>\n",
              "      <td>client server jaring komputer model komunikasi...</td>\n",
              "      <td>90</td>\n",
              "      <td>client server jaring komputer model komunikasi...</td>\n",
              "      <td>0.172493</td>\n",
              "      <td>[0.18097028, 0.032011893, -0.2702325, 0.106341...</td>\n",
              "      <td>[0.14118998, 0.05887977, -0.2585953, 0.0790464...</td>\n",
              "      <td>[0.1443788, 0.14305338, -0.26065725, 0.0943268...</td>\n",
              "    </tr>\n",
              "    <tr>\n",
              "      <th>6</th>\n",
              "      <td>hibernate salah satu mode power off windows tu...</td>\n",
              "      <td>hibernate pc fitur mati pc waktu sleep fitur g...</td>\n",
              "      <td>50</td>\n",
              "      <td>hibernate pc fitur mati waktu sleep guna tenag...</td>\n",
              "      <td>0.197020</td>\n",
              "      <td>[0.18001573, 0.031789966, -0.26873562, 0.10602...</td>\n",
              "      <td>[0.14062996, 0.059194397, -0.25772485, 0.07889...</td>\n",
              "      <td>[0.14485314, 0.14391343, -0.26140672, 0.094551...</td>\n",
              "    </tr>\n",
              "    <tr>\n",
              "      <th>7</th>\n",
              "      <td>client server interaksi jaring client user kir...</td>\n",
              "      <td>client server jaring komputer model komunikasi...</td>\n",
              "      <td>90</td>\n",
              "      <td>client server jaring komputer model komunikasi...</td>\n",
              "      <td>0.382776</td>\n",
              "      <td>[0.18087222, 0.032112546, -0.26999784, 0.10606...</td>\n",
              "      <td>[0.14118998, 0.05887977, -0.2585953, 0.0790464...</td>\n",
              "      <td>[0.14524496, 0.14362551, -0.26194215, 0.094523...</td>\n",
              "    </tr>\n",
              "    <tr>\n",
              "      <th>8</th>\n",
              "      <td>hibernate kondisi mirip sleep komputer nyala e...</td>\n",
              "      <td>hibernate pc fitur mati pc waktu sleep fitur g...</td>\n",
              "      <td>90</td>\n",
              "      <td>hibernate pc fitur mati waktu sleep guna tenag...</td>\n",
              "      <td>0.439544</td>\n",
              "      <td>[0.17959715, 0.031623613, -0.26857036, 0.10595...</td>\n",
              "      <td>[0.14062996, 0.059194397, -0.25772485, 0.07889...</td>\n",
              "      <td>[0.1447341, 0.14378907, -0.26139507, 0.0945219...</td>\n",
              "    </tr>\n",
              "    <tr>\n",
              "      <th>9</th>\n",
              "      <td>client server server host jadi tempat simpan d...</td>\n",
              "      <td>client server jaring komputer model komunikasi...</td>\n",
              "      <td>100</td>\n",
              "      <td>client server jaring komputer model komunikasi...</td>\n",
              "      <td>0.308027</td>\n",
              "      <td>[0.1806265, 0.03189378, -0.26923984, 0.1059866...</td>\n",
              "      <td>[0.14118998, 0.05887977, -0.2585953, 0.0790464...</td>\n",
              "      <td>[0.14526984, 0.14369552, -0.2618245, 0.0946407...</td>\n",
              "    </tr>\n",
              "    <tr>\n",
              "      <th>10</th>\n",
              "      <td>maaf kurang tahu</td>\n",
              "      <td>turbo boost salah satu fitur prosesor masa tuj...</td>\n",
              "      <td>0</td>\n",
              "      <td>turbo boost salah satu fitur prosesor masa tuj...</td>\n",
              "      <td>0.000000</td>\n",
              "      <td>[0.18034412, 0.031179266, -0.26705855, 0.10442...</td>\n",
              "      <td>[0.14046656, 0.05899095, -0.25705475, 0.078448...</td>\n",
              "      <td>[0.1454608, 0.1439828, -0.26190078, 0.09457393...</td>\n",
              "    </tr>\n",
              "    <tr>\n",
              "      <th>11</th>\n",
              "      <td>arsitektur komputer komputer milik empat bagi ...</td>\n",
              "      <td>komputer model von neumann model arsitektur de...</td>\n",
              "      <td>100</td>\n",
              "      <td>komputer model von neumann arsitektur deskrips...</td>\n",
              "      <td>0.194638</td>\n",
              "      <td>[0.17982206, 0.031864576, -0.26826015, 0.10579...</td>\n",
              "      <td>[0.1406437, 0.059035134, -0.25825602, 0.078928...</td>\n",
              "      <td>[0.14537899, 0.14437984, -0.26280743, 0.094993...</td>\n",
              "    </tr>\n",
              "    <tr>\n",
              "      <th>12</th>\n",
              "      <td>hibernate salah satu mode aktif komputer kondi...</td>\n",
              "      <td>hibernate pc fitur mati pc waktu sleep fitur g...</td>\n",
              "      <td>100</td>\n",
              "      <td>hibernate pc fitur mati waktu sleep guna tenag...</td>\n",
              "      <td>0.255802</td>\n",
              "      <td>[0.18033579, 0.03169852, -0.26940978, 0.106079...</td>\n",
              "      <td>[0.14062996, 0.059194397, -0.25772485, 0.07889...</td>\n",
              "      <td>[0.14487895, 0.14393485, -0.26159424, 0.094601...</td>\n",
              "    </tr>\n",
              "    <tr>\n",
              "      <th>13</th>\n",
              "      <td>hibernate pc fungsi simpan data program konfig...</td>\n",
              "      <td>hibernate pc fitur mati pc waktu sleep fitur g...</td>\n",
              "      <td>100</td>\n",
              "      <td>hibernate pc fitur mati waktu sleep guna tenag...</td>\n",
              "      <td>0.467533</td>\n",
              "      <td>[0.18050873, 0.031852722, -0.26934093, 0.10614...</td>\n",
              "      <td>[0.14062996, 0.059194397, -0.25772485, 0.07889...</td>\n",
              "      <td>[0.1449477, 0.14386438, -0.2615598, 0.09446375...</td>\n",
              "    </tr>\n",
              "    <tr>\n",
              "      <th>14</th>\n",
              "      <td>server pusat simpan sedia data informasi jarin...</td>\n",
              "      <td>client server jaring komputer model komunikasi...</td>\n",
              "      <td>100</td>\n",
              "      <td>client server jaring komputer model komunikasi...</td>\n",
              "      <td>0.311970</td>\n",
              "      <td>[0.18031275, 0.03182458, -0.26942497, 0.105894...</td>\n",
              "      <td>[0.14118998, 0.05887977, -0.2585953, 0.0790464...</td>\n",
              "      <td>[0.14448993, 0.1430934, -0.26096582, 0.0943334...</td>\n",
              "    </tr>\n",
              "    <tr>\n",
              "      <th>15</th>\n",
              "      <td>client kenal host guna jaring computer client ...</td>\n",
              "      <td>client server jaring komputer model komunikasi...</td>\n",
              "      <td>90</td>\n",
              "      <td>client server jaring komputer model komunikasi...</td>\n",
              "      <td>0.326198</td>\n",
              "      <td>[0.1799928, 0.032013647, -0.26858324, 0.105550...</td>\n",
              "      <td>[0.14118998, 0.05887977, -0.2585953, 0.0790464...</td>\n",
              "      <td>[0.14447086, 0.14299996, -0.2608001, 0.0941997...</td>\n",
              "    </tr>\n",
              "    <tr>\n",
              "      <th>16</th>\n",
              "      <td>server sedia simpan data beri data data client...</td>\n",
              "      <td>client server jaring komputer model komunikasi...</td>\n",
              "      <td>80</td>\n",
              "      <td>client server jaring komputer model komunikasi...</td>\n",
              "      <td>0.283915</td>\n",
              "      <td>[0.18178236, 0.03213857, -0.27120066, 0.106303...</td>\n",
              "      <td>[0.14118998, 0.05887977, -0.2585953, 0.0790464...</td>\n",
              "      <td>[0.14473033, 0.1433457, -0.26124662, 0.0943533...</td>\n",
              "    </tr>\n",
              "    <tr>\n",
              "      <th>17</th>\n",
              "      <td>hibernate pc ada henti kerja komputer data dat...</td>\n",
              "      <td>hibernate pc fitur mati pc waktu sleep fitur g...</td>\n",
              "      <td>80</td>\n",
              "      <td>hibernate pc fitur mati waktu sleep guna tenag...</td>\n",
              "      <td>0.164785</td>\n",
              "      <td>[0.17982452, 0.031927306, -0.26848269, 0.10569...</td>\n",
              "      <td>[0.14062996, 0.059194397, -0.25772485, 0.07889...</td>\n",
              "      <td>[0.14476287, 0.1438369, -0.2613539, 0.09448199...</td>\n",
              "    </tr>\n",
              "    <tr>\n",
              "      <th>18</th>\n",
              "      <td>hibernate simpan data hard disk data hilang ad...</td>\n",
              "      <td>hibernate pc fitur mati pc waktu sleep fitur g...</td>\n",
              "      <td>100</td>\n",
              "      <td>hibernate pc fitur mati waktu sleep guna tenag...</td>\n",
              "      <td>0.346156</td>\n",
              "      <td>[0.18039429, 0.031818446, -0.26912802, 0.10594...</td>\n",
              "      <td>[0.14062996, 0.059194397, -0.25772485, 0.07889...</td>\n",
              "      <td>[0.14448793, 0.14357662, -0.26084945, 0.094278...</td>\n",
              "    </tr>\n",
              "    <tr>\n",
              "      <th>19</th>\n",
              "      <td>client server host me request data host fungsi...</td>\n",
              "      <td>client server jaring komputer model komunikasi...</td>\n",
              "      <td>60</td>\n",
              "      <td>client server jaring komputer model komunikasi...</td>\n",
              "      <td>0.207738</td>\n",
              "      <td>[0.18016116, 0.031913765, -0.2688744, 0.105633...</td>\n",
              "      <td>[0.14118998, 0.05887977, -0.2585953, 0.0790464...</td>\n",
              "      <td>[0.14489147, 0.14335364, -0.26133022, 0.094322...</td>\n",
              "    </tr>\n",
              "    <tr>\n",
              "      <th>20</th>\n",
              "      <td>client server model jaring komputer server sed...</td>\n",
              "      <td>client server jaring komputer model komunikasi...</td>\n",
              "      <td>70</td>\n",
              "      <td>client server jaring komputer model komunikasi...</td>\n",
              "      <td>0.264997</td>\n",
              "      <td>[0.18170105, 0.032315437, -0.271663, 0.1064237...</td>\n",
              "      <td>[0.14118998, 0.05887977, -0.2585953, 0.0790464...</td>\n",
              "      <td>[0.14447118, 0.14295736, -0.26063925, 0.094093...</td>\n",
              "    </tr>\n",
              "    <tr>\n",
              "      <th>21</th>\n",
              "      <td>model komputer von neumann terap bagi arithmat...</td>\n",
              "      <td>komputer model von neumann model arsitektur de...</td>\n",
              "      <td>100</td>\n",
              "      <td>komputer model von neumann arsitektur deskrips...</td>\n",
              "      <td>0.313428</td>\n",
              "      <td>[0.17978513, 0.03199117, -0.26847377, 0.105825...</td>\n",
              "      <td>[0.1406437, 0.059035134, -0.25825602, 0.078928...</td>\n",
              "      <td>[0.14577034, 0.14460495, -0.2632236, 0.0950559...</td>\n",
              "    </tr>\n",
              "    <tr>\n",
              "      <th>22</th>\n",
              "      <td>von neumann komputer bagi jadi 4 bagi utama al...</td>\n",
              "      <td>komputer model von neumann model arsitektur de...</td>\n",
              "      <td>90</td>\n",
              "      <td>komputer model von neumann arsitektur deskrips...</td>\n",
              "      <td>0.190720</td>\n",
              "      <td>[0.17939939, 0.03166128, -0.26764292, 0.105535...</td>\n",
              "      <td>[0.1406437, 0.059035134, -0.25825602, 0.078928...</td>\n",
              "      <td>[0.1457981, 0.14459185, -0.2633051, 0.09514009...</td>\n",
              "    </tr>\n",
              "    <tr>\n",
              "      <th>23</th>\n",
              "      <td>turbo boost lebih milik processor quad core mu...</td>\n",
              "      <td>turbo boost salah satu fitur prosesor masa tuj...</td>\n",
              "      <td>100</td>\n",
              "      <td>turbo boost salah satu fitur prosesor masa tuj...</td>\n",
              "      <td>0.269974</td>\n",
              "      <td>[0.17967924, 0.03200446, -0.2686993, 0.1059993...</td>\n",
              "      <td>[0.14046656, 0.05899095, -0.25705475, 0.078448...</td>\n",
              "      <td>[0.14506803, 0.14367878, -0.2615073, 0.0944647...</td>\n",
              "    </tr>\n",
              "    <tr>\n",
              "      <th>24</th>\n",
              "      <td>client komputer me request data informasi jari...</td>\n",
              "      <td>client server jaring komputer model komunikasi...</td>\n",
              "      <td>80</td>\n",
              "      <td>client server jaring komputer model komunikasi...</td>\n",
              "      <td>0.321199</td>\n",
              "      <td>[0.1799001, 0.032007415, -0.26871595, 0.105577...</td>\n",
              "      <td>[0.14118998, 0.05887977, -0.2585953, 0.0790464...</td>\n",
              "      <td>[0.14478451, 0.14344637, -0.26143292, 0.094440...</td>\n",
              "    </tr>\n",
              "    <tr>\n",
              "      <th>25</th>\n",
              "      <td>client guna server pusat punya sistem</td>\n",
              "      <td>client server jaring komputer model komunikasi...</td>\n",
              "      <td>40</td>\n",
              "      <td>client server jaring komputer model komunikasi...</td>\n",
              "      <td>0.228084</td>\n",
              "      <td>[0.18146296, 0.032363262, -0.27072194, 0.10641...</td>\n",
              "      <td>[0.14118998, 0.05887977, -0.2585953, 0.0790464...</td>\n",
              "      <td>[0.14455599, 0.14319861, -0.2608493, 0.0942020...</td>\n",
              "    </tr>\n",
              "    <tr>\n",
              "      <th>26</th>\n",
              "      <td>hibernate pc salah satu cara mati shut down ko...</td>\n",
              "      <td>hibernate pc fitur mati pc waktu sleep fitur g...</td>\n",
              "      <td>100</td>\n",
              "      <td>hibernate pc fitur mati waktu sleep guna tenag...</td>\n",
              "      <td>0.241871</td>\n",
              "      <td>[0.18022248, 0.031660464, -0.26904926, 0.10607...</td>\n",
              "      <td>[0.14062996, 0.059194397, -0.25772485, 0.07889...</td>\n",
              "      <td>[0.14452606, 0.14353317, -0.26100338, 0.094366...</td>\n",
              "    </tr>\n",
              "    <tr>\n",
              "      <th>27</th>\n",
              "      <td>client server jaring komunikasi client server ...</td>\n",
              "      <td>client server jaring komputer model komunikasi...</td>\n",
              "      <td>40</td>\n",
              "      <td>client server jaring komputer model komunikasi...</td>\n",
              "      <td>0.319323</td>\n",
              "      <td>[0.180453, 0.031865653, -0.26936153, 0.1058958...</td>\n",
              "      <td>[0.14118998, 0.05887977, -0.2585953, 0.0790464...</td>\n",
              "      <td>[0.14479408, 0.14330629, -0.26122507, 0.094390...</td>\n",
              "    </tr>\n",
              "    <tr>\n",
              "      <th>28</th>\n",
              "      <td>komputer model pertama temu akhir perang dunia 2</td>\n",
              "      <td>komputer model von neumann model arsitektur de...</td>\n",
              "      <td>30</td>\n",
              "      <td>komputer model von neumann arsitektur deskrips...</td>\n",
              "      <td>0.131546</td>\n",
              "      <td>[0.17850906, 0.031573217, -0.2664951, 0.104746...</td>\n",
              "      <td>[0.1406437, 0.059035134, -0.25825602, 0.078928...</td>\n",
              "      <td>[0.14553261, 0.14443377, -0.2630123, 0.0949816...</td>\n",
              "    </tr>\n",
              "    <tr>\n",
              "      <th>29</th>\n",
              "      <td>hibernate pc salah satu mode istirahat kompute...</td>\n",
              "      <td>hibernate pc fitur mati pc waktu sleep fitur g...</td>\n",
              "      <td>80</td>\n",
              "      <td>hibernate pc fitur mati waktu sleep guna tenag...</td>\n",
              "      <td>0.285883</td>\n",
              "      <td>[0.18104379, 0.031939805, -0.26970118, 0.10629...</td>\n",
              "      <td>[0.14062996, 0.059194397, -0.25772485, 0.07889...</td>\n",
              "      <td>[0.14470187, 0.14364326, -0.26095006, 0.094293...</td>\n",
              "    </tr>\n",
              "    <tr>\n",
              "      <th>30</th>\n",
              "      <td>turbo boost booting cepat lewat proses kece pr...</td>\n",
              "      <td>turbo boost salah satu fitur prosesor masa tuj...</td>\n",
              "      <td>60</td>\n",
              "      <td>turbo boost salah satu fitur prosesor masa tuj...</td>\n",
              "      <td>0.062305</td>\n",
              "      <td>[0.17942102, 0.032049, -0.2684521, 0.105874695...</td>\n",
              "      <td>[0.14046656, 0.05899095, -0.25705475, 0.078448...</td>\n",
              "      <td>[0.14475694, 0.14352688, -0.26115912, 0.094351...</td>\n",
              "    </tr>\n",
              "    <tr>\n",
              "      <th>31</th>\n",
              "      <td>jaring client server salah arsitektur jaring k...</td>\n",
              "      <td>client server jaring komputer model komunikasi...</td>\n",
              "      <td>100</td>\n",
              "      <td>client server jaring komputer model komunikasi...</td>\n",
              "      <td>0.201025</td>\n",
              "      <td>[0.18092091, 0.032074697, -0.2695894, 0.106124...</td>\n",
              "      <td>[0.14118998, 0.05887977, -0.2585953, 0.0790464...</td>\n",
              "      <td>[0.14499734, 0.14357121, -0.261533, 0.09447750...</td>\n",
              "    </tr>\n",
              "    <tr>\n",
              "      <th>32</th>\n",
              "      <td>komputer generasi awal</td>\n",
              "      <td>komputer model von neumann model arsitektur de...</td>\n",
              "      <td>10</td>\n",
              "      <td>komputer model von neumann arsitektur deskrips...</td>\n",
              "      <td>0.078709</td>\n",
              "      <td>[0.18268575, 0.032299295, -0.27228764, 0.10670...</td>\n",
              "      <td>[0.1406437, 0.059035134, -0.25825602, 0.078928...</td>\n",
              "      <td>[0.1457706, 0.14467381, -0.26347363, 0.0951529...</td>\n",
              "    </tr>\n",
              "    <tr>\n",
              "      <th>33</th>\n",
              "      <td>model von neumann gambar komputer empat bagi u...</td>\n",
              "      <td>komputer model von neumann model arsitektur de...</td>\n",
              "      <td>100</td>\n",
              "      <td>komputer model von neumann arsitektur deskrips...</td>\n",
              "      <td>0.257590</td>\n",
              "      <td>[0.17993325, 0.031914584, -0.26842636, 0.10574...</td>\n",
              "      <td>[0.1406437, 0.059035134, -0.25825602, 0.078928...</td>\n",
              "      <td>[0.14555304, 0.14438562, -0.26285625, 0.094914...</td>\n",
              "    </tr>\n",
              "    <tr>\n",
              "      <th>34</th>\n",
              "      <td>hibernate proses buat pc ada shut down hidup l...</td>\n",
              "      <td>hibernate pc fitur mati pc waktu sleep fitur g...</td>\n",
              "      <td>90</td>\n",
              "      <td>hibernate pc fitur mati waktu sleep guna tenag...</td>\n",
              "      <td>0.215868</td>\n",
              "      <td>[0.1806553, 0.03206327, -0.26981223, 0.1063056...</td>\n",
              "      <td>[0.14062996, 0.059194397, -0.25772485, 0.07889...</td>\n",
              "      <td>[0.14478046, 0.14388445, -0.2613824, 0.0944885...</td>\n",
              "    </tr>\n",
              "    <tr>\n",
              "      <th>35</th>\n",
              "      <td>turbo boost proses tambah kapasitas memori ram...</td>\n",
              "      <td>turbo boost salah satu fitur prosesor masa tuj...</td>\n",
              "      <td>60</td>\n",
              "      <td>turbo boost salah satu fitur prosesor masa tuj...</td>\n",
              "      <td>0.033041</td>\n",
              "      <td>[0.1793916, 0.03158766, -0.26767066, 0.1053378...</td>\n",
              "      <td>[0.14046656, 0.05899095, -0.25705475, 0.078448...</td>\n",
              "      <td>[0.14513102, 0.1435988, -0.26135588, 0.0943926...</td>\n",
              "    </tr>\n",
              "    <tr>\n",
              "      <th>36</th>\n",
              "      <td>client pihak perlu akses sumber daya web page ...</td>\n",
              "      <td>client server jaring komputer model komunikasi...</td>\n",
              "      <td>90</td>\n",
              "      <td>client server jaring komputer model komunikasi...</td>\n",
              "      <td>0.200221</td>\n",
              "      <td>[0.17951356, 0.031801693, -0.26801446, 0.10538...</td>\n",
              "      <td>[0.14118998, 0.05887977, -0.2585953, 0.0790464...</td>\n",
              "      <td>[0.14475034, 0.14341593, -0.26128414, 0.094303...</td>\n",
              "    </tr>\n",
              "    <tr>\n",
              "      <th>37</th>\n",
              "      <td>hibernate cara mati komputer jangka waktu panj...</td>\n",
              "      <td>hibernate pc fitur mati pc waktu sleep fitur g...</td>\n",
              "      <td>80</td>\n",
              "      <td>hibernate pc fitur mati waktu sleep guna tenag...</td>\n",
              "      <td>0.346888</td>\n",
              "      <td>[0.17946503, 0.03177784, -0.2673913, 0.1053410...</td>\n",
              "      <td>[0.14062996, 0.059194397, -0.25772485, 0.07889...</td>\n",
              "      <td>[0.14465024, 0.14369726, -0.26088995, 0.094324...</td>\n",
              "    </tr>\n",
              "    <tr>\n",
              "      <th>38</th>\n",
              "      <td>hibernate kondisi pc guna aplikasi tetap jalan...</td>\n",
              "      <td>hibernate pc fitur mati pc waktu sleep fitur g...</td>\n",
              "      <td>80</td>\n",
              "      <td>hibernate pc fitur mati waktu sleep guna tenag...</td>\n",
              "      <td>0.241353</td>\n",
              "      <td>[0.1804707, 0.03185354, -0.2688365, 0.10615438...</td>\n",
              "      <td>[0.14062996, 0.059194397, -0.25772485, 0.07889...</td>\n",
              "      <td>[0.14472015, 0.14360072, -0.26098037, 0.094476...</td>\n",
              "    </tr>\n",
              "    <tr>\n",
              "      <th>39</th>\n",
              "      <td>von neumann arsitektur komputer jumpa milik 3 ...</td>\n",
              "      <td>komputer model von neumann model arsitektur de...</td>\n",
              "      <td>100</td>\n",
              "      <td>komputer model von neumann arsitektur deskrips...</td>\n",
              "      <td>0.184516</td>\n",
              "      <td>[0.18026173, 0.03202951, -0.2691051, 0.1061319...</td>\n",
              "      <td>[0.1406437, 0.059035134, -0.25825602, 0.078928...</td>\n",
              "      <td>[0.1453335, 0.14422806, -0.26251578, 0.0949183...</td>\n",
              "    </tr>\n",
              "    <tr>\n",
              "      <th>40</th>\n",
              "      <td>model arsitektur cipta gambar komputer empat b...</td>\n",
              "      <td>komputer model von neumann model arsitektur de...</td>\n",
              "      <td>90</td>\n",
              "      <td>komputer model von neumann arsitektur deskrips...</td>\n",
              "      <td>0.271832</td>\n",
              "      <td>[0.18105355, 0.031919245, -0.2696506, 0.106277...</td>\n",
              "      <td>[0.1406437, 0.059035134, -0.25825602, 0.078928...</td>\n",
              "      <td>[0.14548248, 0.14426586, -0.26266184, 0.094859...</td>\n",
              "    </tr>\n",
              "    <tr>\n",
              "      <th>41</th>\n",
              "      <td>turbo boost fitur prosesor tingkat kerja prose...</td>\n",
              "      <td>turbo boost salah satu fitur prosesor masa tuj...</td>\n",
              "      <td>80</td>\n",
              "      <td>turbo boost salah satu fitur prosesor masa tuj...</td>\n",
              "      <td>0.662978</td>\n",
              "      <td>[0.1817054, 0.032404833, -0.27109945, 0.106693...</td>\n",
              "      <td>[0.14046656, 0.05899095, -0.25705475, 0.078448...</td>\n",
              "      <td>[0.14525996, 0.14377242, -0.2615865, 0.0945281...</td>\n",
              "    </tr>\n",
              "    <tr>\n",
              "      <th>42</th>\n",
              "      <td>client server metode jaring server tindak admi...</td>\n",
              "      <td>client server jaring komputer model komunikasi...</td>\n",
              "      <td>80</td>\n",
              "      <td>client server jaring komputer model komunikasi...</td>\n",
              "      <td>0.312556</td>\n",
              "      <td>[0.178227, 0.031471618, -0.26612023, 0.1046824...</td>\n",
              "      <td>[0.14118998, 0.05887977, -0.2585953, 0.0790464...</td>\n",
              "      <td>[0.14456154, 0.14314689, -0.26105684, 0.094461...</td>\n",
              "    </tr>\n",
              "    <tr>\n",
              "      <th>43</th>\n",
              "      <td>hibernate sebab komputer simpan data guna hard...</td>\n",
              "      <td>hibernate pc fitur mati pc waktu sleep fitur g...</td>\n",
              "      <td>100</td>\n",
              "      <td>hibernate pc fitur mati waktu sleep guna tenag...</td>\n",
              "      <td>0.295795</td>\n",
              "      <td>[0.18067746, 0.031641446, -0.26930514, 0.10613...</td>\n",
              "      <td>[0.14062996, 0.059194397, -0.25772485, 0.07889...</td>\n",
              "      <td>[0.14454944, 0.1435038, -0.26077905, 0.0943211...</td>\n",
              "    </tr>\n",
              "  </tbody>\n",
              "</table>\n",
              "</div>\n",
              "      <button class=\"colab-df-convert\" onclick=\"convertToInteractive('df-8ad51058-a86d-4e54-80ee-6eaaef458524')\"\n",
              "              title=\"Convert this dataframe to an interactive table.\"\n",
              "              style=\"display:none;\">\n",
              "        \n",
              "  <svg xmlns=\"http://www.w3.org/2000/svg\" height=\"24px\"viewBox=\"0 0 24 24\"\n",
              "       width=\"24px\">\n",
              "    <path d=\"M0 0h24v24H0V0z\" fill=\"none\"/>\n",
              "    <path d=\"M18.56 5.44l.94 2.06.94-2.06 2.06-.94-2.06-.94-.94-2.06-.94 2.06-2.06.94zm-11 1L8.5 8.5l.94-2.06 2.06-.94-2.06-.94L8.5 2.5l-.94 2.06-2.06.94zm10 10l.94 2.06.94-2.06 2.06-.94-2.06-.94-.94-2.06-.94 2.06-2.06.94z\"/><path d=\"M17.41 7.96l-1.37-1.37c-.4-.4-.92-.59-1.43-.59-.52 0-1.04.2-1.43.59L10.3 9.45l-7.72 7.72c-.78.78-.78 2.05 0 2.83L4 21.41c.39.39.9.59 1.41.59.51 0 1.02-.2 1.41-.59l7.78-7.78 2.81-2.81c.8-.78.8-2.07 0-2.86zM5.41 20L4 18.59l7.72-7.72 1.47 1.35L5.41 20z\"/>\n",
              "  </svg>\n",
              "      </button>\n",
              "      \n",
              "  <style>\n",
              "    .colab-df-container {\n",
              "      display:flex;\n",
              "      flex-wrap:wrap;\n",
              "      gap: 12px;\n",
              "    }\n",
              "\n",
              "    .colab-df-convert {\n",
              "      background-color: #E8F0FE;\n",
              "      border: none;\n",
              "      border-radius: 50%;\n",
              "      cursor: pointer;\n",
              "      display: none;\n",
              "      fill: #1967D2;\n",
              "      height: 32px;\n",
              "      padding: 0 0 0 0;\n",
              "      width: 32px;\n",
              "    }\n",
              "\n",
              "    .colab-df-convert:hover {\n",
              "      background-color: #E2EBFA;\n",
              "      box-shadow: 0px 1px 2px rgba(60, 64, 67, 0.3), 0px 1px 3px 1px rgba(60, 64, 67, 0.15);\n",
              "      fill: #174EA6;\n",
              "    }\n",
              "\n",
              "    [theme=dark] .colab-df-convert {\n",
              "      background-color: #3B4455;\n",
              "      fill: #D2E3FC;\n",
              "    }\n",
              "\n",
              "    [theme=dark] .colab-df-convert:hover {\n",
              "      background-color: #434B5C;\n",
              "      box-shadow: 0px 1px 3px 1px rgba(0, 0, 0, 0.15);\n",
              "      filter: drop-shadow(0px 1px 2px rgba(0, 0, 0, 0.3));\n",
              "      fill: #FFFFFF;\n",
              "    }\n",
              "  </style>\n",
              "\n",
              "      <script>\n",
              "        const buttonEl =\n",
              "          document.querySelector('#df-8ad51058-a86d-4e54-80ee-6eaaef458524 button.colab-df-convert');\n",
              "        buttonEl.style.display =\n",
              "          google.colab.kernel.accessAllowed ? 'block' : 'none';\n",
              "\n",
              "        async function convertToInteractive(key) {\n",
              "          const element = document.querySelector('#df-8ad51058-a86d-4e54-80ee-6eaaef458524');\n",
              "          const dataTable =\n",
              "            await google.colab.kernel.invokeFunction('convertToInteractive',\n",
              "                                                     [key], {});\n",
              "          if (!dataTable) return;\n",
              "\n",
              "          const docLinkHtml = 'Like what you see? Visit the ' +\n",
              "            '<a target=\"_blank\" href=https://colab.research.google.com/notebooks/data_table.ipynb>data table notebook</a>'\n",
              "            + ' to learn more about interactive tables.';\n",
              "          element.innerHTML = '';\n",
              "          dataTable['output_type'] = 'display_data';\n",
              "          await google.colab.output.renderOutput(dataTable, element);\n",
              "          const docLink = document.createElement('div');\n",
              "          docLink.innerHTML = docLinkHtml;\n",
              "          element.appendChild(docLink);\n",
              "        }\n",
              "      </script>\n",
              "    </div>\n",
              "  </div>\n",
              "  "
            ],
            "text/plain": [
              "                                    jawaban_mahasiswa  \\\n",
              "0   komputer model von neumann komputer milik arsi...   \n",
              "1                  mati komputer simpan kondisi akhir   \n",
              "2   arsitektur komputer pertama buat digunkakan hi...   \n",
              "3   hibernate ada komputer mati mesin ram rom nyal...   \n",
              "4   hibernate mati komputer total tetap simpan apl...   \n",
              "5   jaring computer kenal 2 istilah client server ...   \n",
              "6   hibernate salah satu mode power off windows tu...   \n",
              "7   client server interaksi jaring client user kir...   \n",
              "8   hibernate kondisi mirip sleep komputer nyala e...   \n",
              "9   client server server host jadi tempat simpan d...   \n",
              "10                                   maaf kurang tahu   \n",
              "11  arsitektur komputer komputer milik empat bagi ...   \n",
              "12  hibernate salah satu mode aktif komputer kondi...   \n",
              "13  hibernate pc fungsi simpan data program konfig...   \n",
              "14  server pusat simpan sedia data informasi jarin...   \n",
              "15  client kenal host guna jaring computer client ...   \n",
              "16  server sedia simpan data beri data data client...   \n",
              "17  hibernate pc ada henti kerja komputer data dat...   \n",
              "18  hibernate simpan data hard disk data hilang ad...   \n",
              "19  client server host me request data host fungsi...   \n",
              "20  client server model jaring komputer server sed...   \n",
              "21  model komputer von neumann terap bagi arithmat...   \n",
              "22  von neumann komputer bagi jadi 4 bagi utama al...   \n",
              "23  turbo boost lebih milik processor quad core mu...   \n",
              "24  client komputer me request data informasi jari...   \n",
              "25              client guna server pusat punya sistem   \n",
              "26  hibernate pc salah satu cara mati shut down ko...   \n",
              "27  client server jaring komunikasi client server ...   \n",
              "28   komputer model pertama temu akhir perang dunia 2   \n",
              "29  hibernate pc salah satu mode istirahat kompute...   \n",
              "30  turbo boost booting cepat lewat proses kece pr...   \n",
              "31  jaring client server salah arsitektur jaring k...   \n",
              "32                             komputer generasi awal   \n",
              "33  model von neumann gambar komputer empat bagi u...   \n",
              "34  hibernate proses buat pc ada shut down hidup l...   \n",
              "35  turbo boost proses tambah kapasitas memori ram...   \n",
              "36  client pihak perlu akses sumber daya web page ...   \n",
              "37  hibernate cara mati komputer jangka waktu panj...   \n",
              "38  hibernate kondisi pc guna aplikasi tetap jalan...   \n",
              "39  von neumann arsitektur komputer jumpa milik 3 ...   \n",
              "40  model arsitektur cipta gambar komputer empat b...   \n",
              "41  turbo boost fitur prosesor tingkat kerja prose...   \n",
              "42  client server metode jaring server tindak admi...   \n",
              "43  hibernate sebab komputer simpan data guna hard...   \n",
              "\n",
              "                                        jawaban_dosen  human_rater  \\\n",
              "0   komputer model von neumann model arsitektur de...           90   \n",
              "1   hibernate pc fitur mati pc waktu sleep fitur g...           40   \n",
              "2   komputer model von neumann model arsitektur de...           30   \n",
              "3   hibernate pc fitur mati pc waktu sleep fitur g...           20   \n",
              "4   hibernate pc fitur mati pc waktu sleep fitur g...           80   \n",
              "5   client server jaring komputer model komunikasi...           90   \n",
              "6   hibernate pc fitur mati pc waktu sleep fitur g...           50   \n",
              "7   client server jaring komputer model komunikasi...           90   \n",
              "8   hibernate pc fitur mati pc waktu sleep fitur g...           90   \n",
              "9   client server jaring komputer model komunikasi...          100   \n",
              "10  turbo boost salah satu fitur prosesor masa tuj...            0   \n",
              "11  komputer model von neumann model arsitektur de...          100   \n",
              "12  hibernate pc fitur mati pc waktu sleep fitur g...          100   \n",
              "13  hibernate pc fitur mati pc waktu sleep fitur g...          100   \n",
              "14  client server jaring komputer model komunikasi...          100   \n",
              "15  client server jaring komputer model komunikasi...           90   \n",
              "16  client server jaring komputer model komunikasi...           80   \n",
              "17  hibernate pc fitur mati pc waktu sleep fitur g...           80   \n",
              "18  hibernate pc fitur mati pc waktu sleep fitur g...          100   \n",
              "19  client server jaring komputer model komunikasi...           60   \n",
              "20  client server jaring komputer model komunikasi...           70   \n",
              "21  komputer model von neumann model arsitektur de...          100   \n",
              "22  komputer model von neumann model arsitektur de...           90   \n",
              "23  turbo boost salah satu fitur prosesor masa tuj...          100   \n",
              "24  client server jaring komputer model komunikasi...           80   \n",
              "25  client server jaring komputer model komunikasi...           40   \n",
              "26  hibernate pc fitur mati pc waktu sleep fitur g...          100   \n",
              "27  client server jaring komputer model komunikasi...           40   \n",
              "28  komputer model von neumann model arsitektur de...           30   \n",
              "29  hibernate pc fitur mati pc waktu sleep fitur g...           80   \n",
              "30  turbo boost salah satu fitur prosesor masa tuj...           60   \n",
              "31  client server jaring komputer model komunikasi...          100   \n",
              "32  komputer model von neumann model arsitektur de...           10   \n",
              "33  komputer model von neumann model arsitektur de...          100   \n",
              "34  hibernate pc fitur mati pc waktu sleep fitur g...           90   \n",
              "35  turbo boost salah satu fitur prosesor masa tuj...           60   \n",
              "36  client server jaring komputer model komunikasi...           90   \n",
              "37  hibernate pc fitur mati pc waktu sleep fitur g...           80   \n",
              "38  hibernate pc fitur mati pc waktu sleep fitur g...           80   \n",
              "39  komputer model von neumann model arsitektur de...          100   \n",
              "40  komputer model von neumann model arsitektur de...           90   \n",
              "41  turbo boost salah satu fitur prosesor masa tuj...           80   \n",
              "42  client server jaring komputer model komunikasi...           80   \n",
              "43  hibernate pc fitur mati pc waktu sleep fitur g...          100   \n",
              "\n",
              "                                        unique_corpus  similarity  \\\n",
              "0   komputer model von neumann arsitektur deskrips...    0.280871   \n",
              "1   hibernate pc fitur mati waktu sleep guna tenag...    0.205523   \n",
              "2   komputer model von neumann arsitektur deskrips...    0.113014   \n",
              "3   hibernate pc fitur mati waktu sleep guna tenag...    0.240563   \n",
              "4   hibernate pc fitur mati waktu sleep guna tenag...    0.377486   \n",
              "5   client server jaring komputer model komunikasi...    0.172493   \n",
              "6   hibernate pc fitur mati waktu sleep guna tenag...    0.197020   \n",
              "7   client server jaring komputer model komunikasi...    0.382776   \n",
              "8   hibernate pc fitur mati waktu sleep guna tenag...    0.439544   \n",
              "9   client server jaring komputer model komunikasi...    0.308027   \n",
              "10  turbo boost salah satu fitur prosesor masa tuj...    0.000000   \n",
              "11  komputer model von neumann arsitektur deskrips...    0.194638   \n",
              "12  hibernate pc fitur mati waktu sleep guna tenag...    0.255802   \n",
              "13  hibernate pc fitur mati waktu sleep guna tenag...    0.467533   \n",
              "14  client server jaring komputer model komunikasi...    0.311970   \n",
              "15  client server jaring komputer model komunikasi...    0.326198   \n",
              "16  client server jaring komputer model komunikasi...    0.283915   \n",
              "17  hibernate pc fitur mati waktu sleep guna tenag...    0.164785   \n",
              "18  hibernate pc fitur mati waktu sleep guna tenag...    0.346156   \n",
              "19  client server jaring komputer model komunikasi...    0.207738   \n",
              "20  client server jaring komputer model komunikasi...    0.264997   \n",
              "21  komputer model von neumann arsitektur deskrips...    0.313428   \n",
              "22  komputer model von neumann arsitektur deskrips...    0.190720   \n",
              "23  turbo boost salah satu fitur prosesor masa tuj...    0.269974   \n",
              "24  client server jaring komputer model komunikasi...    0.321199   \n",
              "25  client server jaring komputer model komunikasi...    0.228084   \n",
              "26  hibernate pc fitur mati waktu sleep guna tenag...    0.241871   \n",
              "27  client server jaring komputer model komunikasi...    0.319323   \n",
              "28  komputer model von neumann arsitektur deskrips...    0.131546   \n",
              "29  hibernate pc fitur mati waktu sleep guna tenag...    0.285883   \n",
              "30  turbo boost salah satu fitur prosesor masa tuj...    0.062305   \n",
              "31  client server jaring komputer model komunikasi...    0.201025   \n",
              "32  komputer model von neumann arsitektur deskrips...    0.078709   \n",
              "33  komputer model von neumann arsitektur deskrips...    0.257590   \n",
              "34  hibernate pc fitur mati waktu sleep guna tenag...    0.215868   \n",
              "35  turbo boost salah satu fitur prosesor masa tuj...    0.033041   \n",
              "36  client server jaring komputer model komunikasi...    0.200221   \n",
              "37  hibernate pc fitur mati waktu sleep guna tenag...    0.346888   \n",
              "38  hibernate pc fitur mati waktu sleep guna tenag...    0.241353   \n",
              "39  komputer model von neumann arsitektur deskrips...    0.184516   \n",
              "40  komputer model von neumann arsitektur deskrips...    0.271832   \n",
              "41  turbo boost salah satu fitur prosesor masa tuj...    0.662978   \n",
              "42  client server jaring komputer model komunikasi...    0.312556   \n",
              "43  hibernate pc fitur mati waktu sleep guna tenag...    0.295795   \n",
              "\n",
              "                                   word2vec_mahasiswa  \\\n",
              "0   [0.1802827, 0.03181845, -0.26937115, 0.1060958...   \n",
              "1   [0.1800874, 0.031097258, -0.2678463, 0.1057570...   \n",
              "2   [0.18145587, 0.031606287, -0.26947266, 0.10546...   \n",
              "3   [0.17903604, 0.031684667, -0.267176, 0.1053541...   \n",
              "4   [0.18059292, 0.03180016, -0.2691703, 0.1062313...   \n",
              "5   [0.18097028, 0.032011893, -0.2702325, 0.106341...   \n",
              "6   [0.18001573, 0.031789966, -0.26873562, 0.10602...   \n",
              "7   [0.18087222, 0.032112546, -0.26999784, 0.10606...   \n",
              "8   [0.17959715, 0.031623613, -0.26857036, 0.10595...   \n",
              "9   [0.1806265, 0.03189378, -0.26923984, 0.1059866...   \n",
              "10  [0.18034412, 0.031179266, -0.26705855, 0.10442...   \n",
              "11  [0.17982206, 0.031864576, -0.26826015, 0.10579...   \n",
              "12  [0.18033579, 0.03169852, -0.26940978, 0.106079...   \n",
              "13  [0.18050873, 0.031852722, -0.26934093, 0.10614...   \n",
              "14  [0.18031275, 0.03182458, -0.26942497, 0.105894...   \n",
              "15  [0.1799928, 0.032013647, -0.26858324, 0.105550...   \n",
              "16  [0.18178236, 0.03213857, -0.27120066, 0.106303...   \n",
              "17  [0.17982452, 0.031927306, -0.26848269, 0.10569...   \n",
              "18  [0.18039429, 0.031818446, -0.26912802, 0.10594...   \n",
              "19  [0.18016116, 0.031913765, -0.2688744, 0.105633...   \n",
              "20  [0.18170105, 0.032315437, -0.271663, 0.1064237...   \n",
              "21  [0.17978513, 0.03199117, -0.26847377, 0.105825...   \n",
              "22  [0.17939939, 0.03166128, -0.26764292, 0.105535...   \n",
              "23  [0.17967924, 0.03200446, -0.2686993, 0.1059993...   \n",
              "24  [0.1799001, 0.032007415, -0.26871595, 0.105577...   \n",
              "25  [0.18146296, 0.032363262, -0.27072194, 0.10641...   \n",
              "26  [0.18022248, 0.031660464, -0.26904926, 0.10607...   \n",
              "27  [0.180453, 0.031865653, -0.26936153, 0.1058958...   \n",
              "28  [0.17850906, 0.031573217, -0.2664951, 0.104746...   \n",
              "29  [0.18104379, 0.031939805, -0.26970118, 0.10629...   \n",
              "30  [0.17942102, 0.032049, -0.2684521, 0.105874695...   \n",
              "31  [0.18092091, 0.032074697, -0.2695894, 0.106124...   \n",
              "32  [0.18268575, 0.032299295, -0.27228764, 0.10670...   \n",
              "33  [0.17993325, 0.031914584, -0.26842636, 0.10574...   \n",
              "34  [0.1806553, 0.03206327, -0.26981223, 0.1063056...   \n",
              "35  [0.1793916, 0.03158766, -0.26767066, 0.1053378...   \n",
              "36  [0.17951356, 0.031801693, -0.26801446, 0.10538...   \n",
              "37  [0.17946503, 0.03177784, -0.2673913, 0.1053410...   \n",
              "38  [0.1804707, 0.03185354, -0.2688365, 0.10615438...   \n",
              "39  [0.18026173, 0.03202951, -0.2691051, 0.1061319...   \n",
              "40  [0.18105355, 0.031919245, -0.2696506, 0.106277...   \n",
              "41  [0.1817054, 0.032404833, -0.27109945, 0.106693...   \n",
              "42  [0.178227, 0.031471618, -0.26612023, 0.1046824...   \n",
              "43  [0.18067746, 0.031641446, -0.26930514, 0.10613...   \n",
              "\n",
              "                                       word2vec_dosen  \\\n",
              "0   [0.1406437, 0.059035134, -0.25825602, 0.078928...   \n",
              "1   [0.14062996, 0.059194397, -0.25772485, 0.07889...   \n",
              "2   [0.1406437, 0.059035134, -0.25825602, 0.078928...   \n",
              "3   [0.14062996, 0.059194397, -0.25772485, 0.07889...   \n",
              "4   [0.14062996, 0.059194397, -0.25772485, 0.07889...   \n",
              "5   [0.14118998, 0.05887977, -0.2585953, 0.0790464...   \n",
              "6   [0.14062996, 0.059194397, -0.25772485, 0.07889...   \n",
              "7   [0.14118998, 0.05887977, -0.2585953, 0.0790464...   \n",
              "8   [0.14062996, 0.059194397, -0.25772485, 0.07889...   \n",
              "9   [0.14118998, 0.05887977, -0.2585953, 0.0790464...   \n",
              "10  [0.14046656, 0.05899095, -0.25705475, 0.078448...   \n",
              "11  [0.1406437, 0.059035134, -0.25825602, 0.078928...   \n",
              "12  [0.14062996, 0.059194397, -0.25772485, 0.07889...   \n",
              "13  [0.14062996, 0.059194397, -0.25772485, 0.07889...   \n",
              "14  [0.14118998, 0.05887977, -0.2585953, 0.0790464...   \n",
              "15  [0.14118998, 0.05887977, -0.2585953, 0.0790464...   \n",
              "16  [0.14118998, 0.05887977, -0.2585953, 0.0790464...   \n",
              "17  [0.14062996, 0.059194397, -0.25772485, 0.07889...   \n",
              "18  [0.14062996, 0.059194397, -0.25772485, 0.07889...   \n",
              "19  [0.14118998, 0.05887977, -0.2585953, 0.0790464...   \n",
              "20  [0.14118998, 0.05887977, -0.2585953, 0.0790464...   \n",
              "21  [0.1406437, 0.059035134, -0.25825602, 0.078928...   \n",
              "22  [0.1406437, 0.059035134, -0.25825602, 0.078928...   \n",
              "23  [0.14046656, 0.05899095, -0.25705475, 0.078448...   \n",
              "24  [0.14118998, 0.05887977, -0.2585953, 0.0790464...   \n",
              "25  [0.14118998, 0.05887977, -0.2585953, 0.0790464...   \n",
              "26  [0.14062996, 0.059194397, -0.25772485, 0.07889...   \n",
              "27  [0.14118998, 0.05887977, -0.2585953, 0.0790464...   \n",
              "28  [0.1406437, 0.059035134, -0.25825602, 0.078928...   \n",
              "29  [0.14062996, 0.059194397, -0.25772485, 0.07889...   \n",
              "30  [0.14046656, 0.05899095, -0.25705475, 0.078448...   \n",
              "31  [0.14118998, 0.05887977, -0.2585953, 0.0790464...   \n",
              "32  [0.1406437, 0.059035134, -0.25825602, 0.078928...   \n",
              "33  [0.1406437, 0.059035134, -0.25825602, 0.078928...   \n",
              "34  [0.14062996, 0.059194397, -0.25772485, 0.07889...   \n",
              "35  [0.14046656, 0.05899095, -0.25705475, 0.078448...   \n",
              "36  [0.14118998, 0.05887977, -0.2585953, 0.0790464...   \n",
              "37  [0.14062996, 0.059194397, -0.25772485, 0.07889...   \n",
              "38  [0.14062996, 0.059194397, -0.25772485, 0.07889...   \n",
              "39  [0.1406437, 0.059035134, -0.25825602, 0.078928...   \n",
              "40  [0.1406437, 0.059035134, -0.25825602, 0.078928...   \n",
              "41  [0.14046656, 0.05899095, -0.25705475, 0.078448...   \n",
              "42  [0.14118998, 0.05887977, -0.2585953, 0.0790464...   \n",
              "43  [0.14062996, 0.059194397, -0.25772485, 0.07889...   \n",
              "\n",
              "                                      word2vec_unique  \n",
              "0   [0.14541845, 0.14433952, -0.2628474, 0.0949863...  \n",
              "1   [0.14474851, 0.14375794, -0.26114187, 0.094403...  \n",
              "2   [0.1458073, 0.1446048, -0.2633788, 0.09505808,...  \n",
              "3   [0.14447325, 0.14362164, -0.26079622, 0.09426,...  \n",
              "4   [0.14452372, 0.143514, -0.26078853, 0.09437076...  \n",
              "5   [0.1443788, 0.14305338, -0.26065725, 0.0943268...  \n",
              "6   [0.14485314, 0.14391343, -0.26140672, 0.094551...  \n",
              "7   [0.14524496, 0.14362551, -0.26194215, 0.094523...  \n",
              "8   [0.1447341, 0.14378907, -0.26139507, 0.0945219...  \n",
              "9   [0.14526984, 0.14369552, -0.2618245, 0.0946407...  \n",
              "10  [0.1454608, 0.1439828, -0.26190078, 0.09457393...  \n",
              "11  [0.14537899, 0.14437984, -0.26280743, 0.094993...  \n",
              "12  [0.14487895, 0.14393485, -0.26159424, 0.094601...  \n",
              "13  [0.1449477, 0.14386438, -0.2615598, 0.09446375...  \n",
              "14  [0.14448993, 0.1430934, -0.26096582, 0.0943334...  \n",
              "15  [0.14447086, 0.14299996, -0.2608001, 0.0941997...  \n",
              "16  [0.14473033, 0.1433457, -0.26124662, 0.0943533...  \n",
              "17  [0.14476287, 0.1438369, -0.2613539, 0.09448199...  \n",
              "18  [0.14448793, 0.14357662, -0.26084945, 0.094278...  \n",
              "19  [0.14489147, 0.14335364, -0.26133022, 0.094322...  \n",
              "20  [0.14447118, 0.14295736, -0.26063925, 0.094093...  \n",
              "21  [0.14577034, 0.14460495, -0.2632236, 0.0950559...  \n",
              "22  [0.1457981, 0.14459185, -0.2633051, 0.09514009...  \n",
              "23  [0.14506803, 0.14367878, -0.2615073, 0.0944647...  \n",
              "24  [0.14478451, 0.14344637, -0.26143292, 0.094440...  \n",
              "25  [0.14455599, 0.14319861, -0.2608493, 0.0942020...  \n",
              "26  [0.14452606, 0.14353317, -0.26100338, 0.094366...  \n",
              "27  [0.14479408, 0.14330629, -0.26122507, 0.094390...  \n",
              "28  [0.14553261, 0.14443377, -0.2630123, 0.0949816...  \n",
              "29  [0.14470187, 0.14364326, -0.26095006, 0.094293...  \n",
              "30  [0.14475694, 0.14352688, -0.26115912, 0.094351...  \n",
              "31  [0.14499734, 0.14357121, -0.261533, 0.09447750...  \n",
              "32  [0.1457706, 0.14467381, -0.26347363, 0.0951529...  \n",
              "33  [0.14555304, 0.14438562, -0.26285625, 0.094914...  \n",
              "34  [0.14478046, 0.14388445, -0.2613824, 0.0944885...  \n",
              "35  [0.14513102, 0.1435988, -0.26135588, 0.0943926...  \n",
              "36  [0.14475034, 0.14341593, -0.26128414, 0.094303...  \n",
              "37  [0.14465024, 0.14369726, -0.26088995, 0.094324...  \n",
              "38  [0.14472015, 0.14360072, -0.26098037, 0.094476...  \n",
              "39  [0.1453335, 0.14422806, -0.26251578, 0.0949183...  \n",
              "40  [0.14548248, 0.14426586, -0.26266184, 0.094859...  \n",
              "41  [0.14525996, 0.14377242, -0.2615865, 0.0945281...  \n",
              "42  [0.14456154, 0.14314689, -0.26105684, 0.094461...  \n",
              "43  [0.14454944, 0.1435038, -0.26077905, 0.0943211...  "
            ]
          },
          "execution_count": 37,
          "metadata": {},
          "output_type": "execute_result"
        }
      ],
      "source": [
        "data_test"
      ]
    },
    {
      "cell_type": "markdown",
      "metadata": {
        "id": "XQxZRYCROf0a"
      },
      "source": [
        "# Modeling Naive Bayes Multinomial [6]"
      ]
    },
    {
      "cell_type": "markdown",
      "metadata": {
        "id": "PbW9dOCeifh2"
      },
      "source": [
        "pada metode dibawah ini digunakan perhitungan pencarian probabilitas suatu kata Wj pada kelas Cj dengan mengacu penambahan variabel smooting alpha untuk menghindari pembagian 0. [6][8]\n",
        "\n",
        "> alpha = 1 -> Laplace Smooting\n",
        "\n",
        "> alpha < 0 -> Lidstone Smoothing\n",
        "\n",
        "\n",
        "![](https://drive.google.com/uc?export=view&id=14f7r-WUAuJZdLKgoRN4iH2eK8ZXzJTKn)"
      ]
    },
    {
      "cell_type": "code",
      "execution_count": null,
      "metadata": {
        "colab": {
          "base_uri": "https://localhost:8080/"
        },
        "id": "-B2FDLM2p-nl",
        "outputId": "c8490211-a6c8-4be1-fa93-9679bcfbad5c"
      },
      "outputs": [
        {
          "name": "stdout",
          "output_type": "stream",
          "text": [
            "Score Training dari hasil modeling Multinomial Naive Bayes (tanpa fine tuning): 0.42857142857142855\n"
          ]
        }
      ],
      "source": [
        "model = MultinomialNB()\n",
        "model.fit(x_train_fuse, y_train)\n",
        "\n",
        "print(\"Score Training dari hasil modeling Multinomial Naive Bayes (tanpa fine tuning):\", model.score(x_train_fuse, y_train))"
      ]
    },
    {
      "cell_type": "code",
      "execution_count": null,
      "metadata": {
        "colab": {
          "base_uri": "https://localhost:8080/"
        },
        "id": "LP_zFCFbUMq5",
        "outputId": "b0d84f0a-dee7-484e-eb37-1fdb4f18d1b0"
      },
      "outputs": [
        {
          "name": "stdout",
          "output_type": "stream",
          "text": [
            "              precision    recall  f1-score   support\n",
            "\n",
            "           0       0.00      0.00      0.00         1\n",
            "           1       0.00      0.00      0.00         1\n",
            "           2       0.00      0.00      0.00         1\n",
            "           3       0.00      0.00      0.00         2\n",
            "           4       0.00      0.00      0.00         3\n",
            "           5       0.00      0.00      0.00         1\n",
            "           6       0.25      0.33      0.29         3\n",
            "           7       0.00      0.00      0.00         1\n",
            "           8       0.32      0.89      0.47         9\n",
            "           9       0.30      0.33      0.32         9\n",
            "          10       0.20      0.08      0.11        13\n",
            "\n",
            "    accuracy                           0.30        44\n",
            "   macro avg       0.10      0.15      0.11        44\n",
            "weighted avg       0.20      0.30      0.21        44\n",
            "\n"
          ]
        }
      ],
      "source": [
        "yhat = model.predict(x_test_fuse)\n",
        "print(classification_report(y_test, yhat))"
      ]
    },
    {
      "cell_type": "markdown",
      "metadata": {
        "id": "15p5nhy5qB-j"
      },
      "source": [
        "## Tuning hyperparameter menggunakan grid search"
      ]
    },
    {
      "cell_type": "markdown",
      "metadata": {
        "id": "TGS9cMXsNY7g"
      },
      "source": [
        "disini diterapkan pencarian hyperparameter terbaik dengan grid search. pada grid search ini dilakukan mencapi parameter terhapdap 2 method, TfidfVectorizer dengan rentang max_df = 0.1 - 1 dan ngram-range dari (1,1) hingga (1,5) dan MultinomialNB untuk mencari nilai alpha(bobot smooting) dengan rentang nilai 0.0004 - 10. pada fine tuning ini juga dilakukan cross validation dengan 10 segmen training-testing.[11]"
      ]
    },
    {
      "cell_type": "code",
      "execution_count": null,
      "metadata": {
        "colab": {
          "base_uri": "https://localhost:8080/"
        },
        "id": "RYpBsC70jqCw",
        "outputId": "f882144e-0d83-4f75-bef9-d8ee4d53a136"
      },
      "outputs": [
        {
          "name": "stdout",
          "output_type": "stream",
          "text": [
            "Fitting 10 folds for each of 315 candidates, totalling 3150 fits\n",
            "Best parameters set:\n",
            "[('BagOfWOrdsMetd', TfidfVectorizer(max_df=0.3)), ('clf', OneVsRestClassifier(estimator=MultinomialNB(alpha=0.1)))]\n"
          ]
        }
      ],
      "source": [
        "X = data_train['unique_corpus'].to_numpy()\n",
        "Y = y_train\n",
        "\n",
        "pipeline = Pipeline([\n",
        "    ('BagOfWOrdsMetd', TfidfVectorizer()),\n",
        "    # ('BagOfWOrdsMetd', CountVectorizer()),\n",
        "    ('clf', OneVsRestClassifier(MultinomialNB(\n",
        "        fit_prior=True, class_prior=None))),\n",
        "])\n",
        "parameters = {\n",
        "    'BagOfWOrdsMetd__max_df': (0.1, 0.15, 0.2, 0.25, 0.3, 0.35, 0.4, 0.45, 0.5),\n",
        "    'BagOfWOrdsMetd__ngram_range': [(1, 1), (1, 2), (1, 3), (1, 4), (1,5)],\n",
        "    'clf__estimator__alpha': (1e+1, 2, 1, 1e-1, 1e-2, 1e-3, 1e-4)\n",
        "}\n",
        "\n",
        "grid_search_tune = GridSearchCV(pipeline, parameters, cv=10, n_jobs=2, verbose=3)\n",
        "grid_search_tune.fit(X, Y)\n",
        "\n",
        "print(\"Best parameters set:\")\n",
        "print(grid_search_tune.best_estimator_.steps)"
      ]
    },
    {
      "cell_type": "markdown",
      "metadata": {
        "id": "7uSrbfL1q30r"
      },
      "source": [
        "dari hasil tuning grid search didapat parameter Bag of Words adalah \n",
        "\n",
        "```\n",
        "max_df=0.15, ngram_range=(1, 2)\n",
        "```\n",
        "dan parameter Multinomial NaiveBayes adalah \n",
        "\n",
        "```\n",
        "alpha=1\n",
        "```\n",
        "dari nilai alpha yang didapat parameter terbaik jika menggunakan laplace smoothing karena alpha = 1, sedangkan jika alpha < 1 berarti menggunakan Lidstone smoothing\n",
        "\n"
      ]
    },
    {
      "cell_type": "markdown",
      "metadata": {
        "id": "179oiNqoqryH"
      },
      "source": [
        "## Menerapkan fine tuning bast parameter dari grid search"
      ]
    },
    {
      "cell_type": "code",
      "execution_count": null,
      "metadata": {
        "id": "3iRwtgnzqlFh"
      },
      "outputs": [],
      "source": [
        "# vec = CountVectorizer(max_df=0.3, ngram_range=(1, 2))\n",
        "vec_fuse_tune = TfidfVectorizer(max_df=0.1, ngram_range=(1, 2))\n",
        "x_train_fuse_tune = data_train['unique_corpus']\n",
        "x_test_fuse_tune = data_test['unique_corpus']\n",
        "\n",
        "vec_fuse_tune.fit(x_train_fuse_tune)\n",
        "x_train_fuse_tune = vec_fuse_tune.transform(x_train_fuse_tune).toarray()\n",
        "x_test_fuse_tune = vec_fuse_tune.transform(x_test_fuse_tune).toarray()"
      ]
    },
    {
      "cell_type": "code",
      "execution_count": null,
      "metadata": {
        "colab": {
          "base_uri": "https://localhost:8080/"
        },
        "id": "tSoEj5ngsfqD",
        "outputId": "2a82e521-e7d5-481b-bbca-8253a55cb057"
      },
      "outputs": [
        {
          "name": "stdout",
          "output_type": "stream",
          "text": [
            "Score Training dari hasil Multinomial Naive Bayes (fine tuning): 0.9828571428571429\n"
          ]
        }
      ],
      "source": [
        "model = MultinomialNB(alpha=0.0001)\n",
        "model.fit(x_train_fuse_tune, y_train)\n",
        "\n",
        "print(\"Score Training dari hasil Multinomial Naive Bayes (fine tuning):\", model.score(x_train_fuse_tune, y_train))"
      ]
    },
    {
      "cell_type": "markdown",
      "metadata": {
        "id": "H3eNtr6YNVdX"
      },
      "source": [
        "## classification report"
      ]
    },
    {
      "cell_type": "code",
      "execution_count": null,
      "metadata": {
        "colab": {
          "base_uri": "https://localhost:8080/"
        },
        "id": "YI6Km_W2clka",
        "outputId": "695903c5-2858-48b5-a164-902326ba24c1"
      },
      "outputs": [
        {
          "name": "stdout",
          "output_type": "stream",
          "text": [
            "              precision    recall  f1-score   support\n",
            "\n",
            "           0       0.00      0.00      0.00         1\n",
            "           1       0.00      0.00      0.00         1\n",
            "           2       0.00      0.00      0.00         1\n",
            "           3       1.00      0.50      0.67         2\n",
            "           4       0.00      0.00      0.00         3\n",
            "           5       0.00      0.00      0.00         1\n",
            "           6       0.25      0.33      0.29         3\n",
            "           7       0.00      0.00      0.00         1\n",
            "           8       0.33      0.33      0.33         9\n",
            "           9       0.50      0.44      0.47         9\n",
            "          10       0.56      0.69      0.62        13\n",
            "\n",
            "    accuracy                           0.41        44\n",
            "   macro avg       0.24      0.21      0.22        44\n",
            "weighted avg       0.40      0.41      0.40        44\n",
            "\n"
          ]
        }
      ],
      "source": [
        "yhat = model.predict(x_test_fuse_tune)\n",
        "print(classification_report(y_test, yhat))"
      ]
    },
    {
      "cell_type": "markdown",
      "metadata": {
        "id": "nN3hjgJEMTdK"
      },
      "source": [
        "mendapatkan mapping label encoder untuk memetakan label number ke label class ordinal untuk visualisasi confussion matrix"
      ]
    },
    {
      "cell_type": "code",
      "execution_count": null,
      "metadata": {
        "colab": {
          "base_uri": "https://localhost:8080/"
        },
        "id": "g35N9qbHa1pz",
        "outputId": "e6d9ba8d-c47a-42e4-fcd5-7d77f36acc62"
      },
      "outputs": [
        {
          "data": {
            "text/plain": [
              "{0: 0, 10: 1, 20: 2, 30: 3, 40: 4, 50: 5, 60: 6, 70: 7, 80: 8, 90: 9, 100: 10}"
            ]
          },
          "execution_count": 44,
          "metadata": {},
          "output_type": "execute_result"
        }
      ],
      "source": [
        "target_names = labelencode.classes_.tolist()\n",
        "label2index = dict(zip(labelencode.classes_,range(len(labelencode.classes_))))\n",
        "label2index"
      ]
    },
    {
      "cell_type": "code",
      "execution_count": null,
      "metadata": {
        "colab": {
          "base_uri": "https://localhost:8080/",
          "height": 286
        },
        "id": "H7gjV1ZDjfKx",
        "outputId": "f0ce5efa-2399-4c5b-c70d-97df9fcdd864"
      },
      "outputs": [
        {
          "data": {
            "text/plain": [
              "<matplotlib.axes._subplots.AxesSubplot at 0x7fc633e62990>"
            ]
          },
          "execution_count": 45,
          "metadata": {},
          "output_type": "execute_result"
        },
        {
          "data": {
            "image/png": "[encoded data removed]",
            "text/plain": [
              "<Figure size 432x288 with 2 Axes>"
            ]
          },
          "metadata": {
            "needs_background": "light"
          },
          "output_type": "display_data"
        }
      ],
      "source": [
        "from sklearn.metrics import confusion_matrix\n",
        "\n",
        "confusion_matrix = confusion_matrix(y_test, yhat)\n",
        "\n",
        "cm_array_df = pd.DataFrame(confusion_matrix, index=target_names, columns=target_names)\n",
        "sns.heatmap(cm_array_df, annot=True, annot_kws={\"size\": 12}) "
      ]
    },
    {
      "cell_type": "markdown",
      "metadata": {
        "id": "QduV49In5zmW"
      },
      "source": [
        "## Penjelasan\n",
        "\n",
        "hasil dari multinomial Naive Bayes bersifat overfitting karena nilai training tinggi > 95% sedangkan nilai testing rendah (30-40%). peningkatan akurasi terjadi setelah tuning hyperparameter. artinya hyperparameter yang didapat berkerja dengan baik. pada heatmap banyak terlihat false positif yang dihasilkan (nilai yang dilihat secara vertikal). kelas 100 memiliki nilai false positif yang paling banyak dari kelas lainnya. false negatif terdapat banyak pada kelas 80 dan 90. hasil recall (true positif rate) tertinggi ada pada kelas 100. semua hasil prediksi tertinggi ada pada kelas 100 dengan jumlah data test kelas 100 yang banyak. kelas 30 juga memiliki nilai prediksi tinggi tetapi bila dilihat heatmap, jumlah data kelas 30 berjumlah 1, ini berarti nilai prediksi kelas 30 belum tentu tepat. perbedaan nilai ini disebabkan karena adanya kelas imbalance."
      ]
    },
    {
      "cell_type": "markdown",
      "metadata": {
        "id": "h7_vTjmdSPOt"
      },
      "source": [
        "# Modeling secara Regresi dengan Decission Tree Regressor dan XGBoost Regressor"
      ]
    },
    {
      "cell_type": "markdown",
      "metadata": {
        "id": "Rd0qe5KEuBDw"
      },
      "source": [
        "pemilihan decission tree karena decission tree bisa menghasilkan nilai yang lebih baik pada fitur yang banyak. diharapkan dengan menggunakan decission tree ini dapat menghasilkan nilai yang lebih baik dari pada metode yang sebelumnya. pada metode ini digunakan regresi diharapkan dengan hasil yang mendekati nilai acuannya. data yang digunakan sebagai fiturnya adalah data similarity dan data targetnya adalah data human_rater [16]"
      ]
    },
    {
      "cell_type": "markdown",
      "metadata": {
        "id": "8GOACwliABbr"
      },
      "source": [
        "## Decission Tree Regressor [10]"
      ]
    },
    {
      "cell_type": "code",
      "execution_count": null,
      "metadata": {
        "id": "z7U1FAxkwKis"
      },
      "outputs": [],
      "source": [
        "y_train_num = data_train[\"human_rater\"]/100\n",
        "y_test_num = data_test[\"human_rater\"]/100"
      ]
    },
    {
      "cell_type": "code",
      "execution_count": null,
      "metadata": {
        "id": "ETXXIWxuxY2X"
      },
      "outputs": [],
      "source": [
        "x_train_sim = data_train[\"similarity\"].to_numpy().reshape(-1,1)\n",
        "x_test_sim = data_test[\"similarity\"].to_numpy().reshape(-1,1)"
      ]
    },
    {
      "cell_type": "code",
      "execution_count": null,
      "metadata": {
        "colab": {
          "base_uri": "https://localhost:8080/"
        },
        "id": "40wvcJXnk-uD",
        "outputId": "e705e291-ded4-49fc-f272-453708049831"
      },
      "outputs": [
        {
          "name": "stdout",
          "output_type": "stream",
          "text": [
            "0.010690449676496976\n",
            "0.9979417092046764\n"
          ]
        }
      ],
      "source": [
        "dtree = DecisionTreeRegressor(max_depth=100, random_state=3)\n",
        "\n",
        "dtree.fit(x_train_sim, y_train_num)\n",
        "\n",
        "pred_train_tree= dtree.predict(x_train_sim)\n",
        "print(np.sqrt(mean_squared_error(y_train_num,pred_train_tree)))\n",
        "print(r2_score(y_train_num, pred_train_tree))"
      ]
    },
    {
      "cell_type": "code",
      "execution_count": null,
      "metadata": {
        "colab": {
          "base_uri": "https://localhost:8080/"
        },
        "id": "WCYD4Zr1mx6b",
        "outputId": "5fe7e491-5439-4cb4-e115-b34825be8388"
      },
      "outputs": [
        {
          "name": "stdout",
          "output_type": "stream",
          "text": [
            "0.27675062617979584\n",
            "-0.044519582981121575\n"
          ]
        }
      ],
      "source": [
        "pred_test_tree= dtree.predict(x_test_sim)\n",
        "print(np.sqrt(mean_squared_error(y_test_num,pred_test_tree)))\n",
        "print(r2_score(y_test_num, pred_test_tree))"
      ]
    },
    {
      "cell_type": "code",
      "execution_count": null,
      "metadata": {
        "colab": {
          "base_uri": "https://localhost:8080/",
          "height": 1000
        },
        "id": "ZnraBFDCxNtS",
        "outputId": "a339d945-92b3-4519-cf6c-5ad8c506a927"
      },
      "outputs": [
        {
          "data": {
            "text/html": [
              "\n",
              "  <div id=\"df-709a2e32-0dcd-4fb4-865e-6b3670a561fc\">\n",
              "    <div class=\"colab-df-container\">\n",
              "      <div>\n",
              "<style scoped>\n",
              "    .dataframe tbody tr th:only-of-type {\n",
              "        vertical-align: middle;\n",
              "    }\n",
              "\n",
              "    .dataframe tbody tr th {\n",
              "        vertical-align: top;\n",
              "    }\n",
              "\n",
              "    .dataframe thead th {\n",
              "        text-align: right;\n",
              "    }\n",
              "</style>\n",
              "<table border=\"1\" class=\"dataframe\">\n",
              "  <thead>\n",
              "    <tr style=\"text-align: right;\">\n",
              "      <th></th>\n",
              "      <th>true</th>\n",
              "      <th>predict</th>\n",
              "      <th>mse</th>\n",
              "    </tr>\n",
              "  </thead>\n",
              "  <tbody>\n",
              "    <tr>\n",
              "      <th>0</th>\n",
              "      <td>90.0</td>\n",
              "      <td>90.0</td>\n",
              "      <td>0.00</td>\n",
              "    </tr>\n",
              "    <tr>\n",
              "      <th>1</th>\n",
              "      <td>40.0</td>\n",
              "      <td>90.0</td>\n",
              "      <td>0.25</td>\n",
              "    </tr>\n",
              "    <tr>\n",
              "      <th>2</th>\n",
              "      <td>30.0</td>\n",
              "      <td>100.0</td>\n",
              "      <td>0.49</td>\n",
              "    </tr>\n",
              "    <tr>\n",
              "      <th>3</th>\n",
              "      <td>20.0</td>\n",
              "      <td>80.0</td>\n",
              "      <td>0.36</td>\n",
              "    </tr>\n",
              "    <tr>\n",
              "      <th>4</th>\n",
              "      <td>80.0</td>\n",
              "      <td>100.0</td>\n",
              "      <td>0.04</td>\n",
              "    </tr>\n",
              "    <tr>\n",
              "      <th>5</th>\n",
              "      <td>90.0</td>\n",
              "      <td>60.0</td>\n",
              "      <td>0.09</td>\n",
              "    </tr>\n",
              "    <tr>\n",
              "      <th>6</th>\n",
              "      <td>50.0</td>\n",
              "      <td>70.0</td>\n",
              "      <td>0.04</td>\n",
              "    </tr>\n",
              "    <tr>\n",
              "      <th>7</th>\n",
              "      <td>90.0</td>\n",
              "      <td>70.0</td>\n",
              "      <td>0.04</td>\n",
              "    </tr>\n",
              "    <tr>\n",
              "      <th>8</th>\n",
              "      <td>90.0</td>\n",
              "      <td>80.0</td>\n",
              "      <td>0.01</td>\n",
              "    </tr>\n",
              "    <tr>\n",
              "      <th>9</th>\n",
              "      <td>100.0</td>\n",
              "      <td>100.0</td>\n",
              "      <td>0.00</td>\n",
              "    </tr>\n",
              "    <tr>\n",
              "      <th>10</th>\n",
              "      <td>0.0</td>\n",
              "      <td>30.0</td>\n",
              "      <td>0.09</td>\n",
              "    </tr>\n",
              "    <tr>\n",
              "      <th>11</th>\n",
              "      <td>100.0</td>\n",
              "      <td>100.0</td>\n",
              "      <td>0.00</td>\n",
              "    </tr>\n",
              "    <tr>\n",
              "      <th>12</th>\n",
              "      <td>100.0</td>\n",
              "      <td>90.0</td>\n",
              "      <td>0.01</td>\n",
              "    </tr>\n",
              "    <tr>\n",
              "      <th>13</th>\n",
              "      <td>100.0</td>\n",
              "      <td>80.0</td>\n",
              "      <td>0.04</td>\n",
              "    </tr>\n",
              "    <tr>\n",
              "      <th>14</th>\n",
              "      <td>100.0</td>\n",
              "      <td>80.0</td>\n",
              "      <td>0.04</td>\n",
              "    </tr>\n",
              "    <tr>\n",
              "      <th>15</th>\n",
              "      <td>90.0</td>\n",
              "      <td>80.0</td>\n",
              "      <td>0.01</td>\n",
              "    </tr>\n",
              "    <tr>\n",
              "      <th>16</th>\n",
              "      <td>80.0</td>\n",
              "      <td>90.0</td>\n",
              "      <td>0.01</td>\n",
              "    </tr>\n",
              "    <tr>\n",
              "      <th>17</th>\n",
              "      <td>80.0</td>\n",
              "      <td>80.0</td>\n",
              "      <td>0.00</td>\n",
              "    </tr>\n",
              "    <tr>\n",
              "      <th>18</th>\n",
              "      <td>100.0</td>\n",
              "      <td>90.0</td>\n",
              "      <td>0.01</td>\n",
              "    </tr>\n",
              "    <tr>\n",
              "      <th>19</th>\n",
              "      <td>60.0</td>\n",
              "      <td>100.0</td>\n",
              "      <td>0.16</td>\n",
              "    </tr>\n",
              "    <tr>\n",
              "      <th>20</th>\n",
              "      <td>70.0</td>\n",
              "      <td>100.0</td>\n",
              "      <td>0.09</td>\n",
              "    </tr>\n",
              "    <tr>\n",
              "      <th>21</th>\n",
              "      <td>100.0</td>\n",
              "      <td>90.0</td>\n",
              "      <td>0.01</td>\n",
              "    </tr>\n",
              "    <tr>\n",
              "      <th>22</th>\n",
              "      <td>90.0</td>\n",
              "      <td>80.0</td>\n",
              "      <td>0.01</td>\n",
              "    </tr>\n",
              "    <tr>\n",
              "      <th>23</th>\n",
              "      <td>100.0</td>\n",
              "      <td>100.0</td>\n",
              "      <td>0.00</td>\n",
              "    </tr>\n",
              "    <tr>\n",
              "      <th>24</th>\n",
              "      <td>80.0</td>\n",
              "      <td>100.0</td>\n",
              "      <td>0.04</td>\n",
              "    </tr>\n",
              "    <tr>\n",
              "      <th>25</th>\n",
              "      <td>40.0</td>\n",
              "      <td>80.0</td>\n",
              "      <td>0.16</td>\n",
              "    </tr>\n",
              "    <tr>\n",
              "      <th>26</th>\n",
              "      <td>100.0</td>\n",
              "      <td>60.0</td>\n",
              "      <td>0.16</td>\n",
              "    </tr>\n",
              "    <tr>\n",
              "      <th>27</th>\n",
              "      <td>40.0</td>\n",
              "      <td>80.0</td>\n",
              "      <td>0.16</td>\n",
              "    </tr>\n",
              "    <tr>\n",
              "      <th>28</th>\n",
              "      <td>30.0</td>\n",
              "      <td>60.0</td>\n",
              "      <td>0.09</td>\n",
              "    </tr>\n",
              "    <tr>\n",
              "      <th>29</th>\n",
              "      <td>80.0</td>\n",
              "      <td>50.0</td>\n",
              "      <td>0.09</td>\n",
              "    </tr>\n",
              "    <tr>\n",
              "      <th>30</th>\n",
              "      <td>60.0</td>\n",
              "      <td>10.0</td>\n",
              "      <td>0.25</td>\n",
              "    </tr>\n",
              "    <tr>\n",
              "      <th>31</th>\n",
              "      <td>100.0</td>\n",
              "      <td>80.0</td>\n",
              "      <td>0.04</td>\n",
              "    </tr>\n",
              "    <tr>\n",
              "      <th>32</th>\n",
              "      <td>10.0</td>\n",
              "      <td>70.0</td>\n",
              "      <td>0.36</td>\n",
              "    </tr>\n",
              "    <tr>\n",
              "      <th>33</th>\n",
              "      <td>100.0</td>\n",
              "      <td>70.0</td>\n",
              "      <td>0.09</td>\n",
              "    </tr>\n",
              "    <tr>\n",
              "      <th>34</th>\n",
              "      <td>90.0</td>\n",
              "      <td>100.0</td>\n",
              "      <td>0.01</td>\n",
              "    </tr>\n",
              "    <tr>\n",
              "      <th>35</th>\n",
              "      <td>60.0</td>\n",
              "      <td>60.0</td>\n",
              "      <td>0.00</td>\n",
              "    </tr>\n",
              "    <tr>\n",
              "      <th>36</th>\n",
              "      <td>90.0</td>\n",
              "      <td>80.0</td>\n",
              "      <td>0.01</td>\n",
              "    </tr>\n",
              "    <tr>\n",
              "      <th>37</th>\n",
              "      <td>80.0</td>\n",
              "      <td>90.0</td>\n",
              "      <td>0.01</td>\n",
              "    </tr>\n",
              "    <tr>\n",
              "      <th>38</th>\n",
              "      <td>80.0</td>\n",
              "      <td>60.0</td>\n",
              "      <td>0.04</td>\n",
              "    </tr>\n",
              "    <tr>\n",
              "      <th>39</th>\n",
              "      <td>100.0</td>\n",
              "      <td>80.0</td>\n",
              "      <td>0.04</td>\n",
              "    </tr>\n",
              "    <tr>\n",
              "      <th>40</th>\n",
              "      <td>90.0</td>\n",
              "      <td>100.0</td>\n",
              "      <td>0.01</td>\n",
              "    </tr>\n",
              "    <tr>\n",
              "      <th>41</th>\n",
              "      <td>80.0</td>\n",
              "      <td>90.0</td>\n",
              "      <td>0.01</td>\n",
              "    </tr>\n",
              "    <tr>\n",
              "      <th>42</th>\n",
              "      <td>80.0</td>\n",
              "      <td>80.0</td>\n",
              "      <td>0.00</td>\n",
              "    </tr>\n",
              "    <tr>\n",
              "      <th>43</th>\n",
              "      <td>100.0</td>\n",
              "      <td>100.0</td>\n",
              "      <td>0.00</td>\n",
              "    </tr>\n",
              "  </tbody>\n",
              "</table>\n",
              "</div>\n",
              "      <button class=\"colab-df-convert\" onclick=\"convertToInteractive('df-709a2e32-0dcd-4fb4-865e-6b3670a561fc')\"\n",
              "              title=\"Convert this dataframe to an interactive table.\"\n",
              "              style=\"display:none;\">\n",
              "        \n",
              "  <svg xmlns=\"http://www.w3.org/2000/svg\" height=\"24px\"viewBox=\"0 0 24 24\"\n",
              "       width=\"24px\">\n",
              "    <path d=\"M0 0h24v24H0V0z\" fill=\"none\"/>\n",
              "    <path d=\"M18.56 5.44l.94 2.06.94-2.06 2.06-.94-2.06-.94-.94-2.06-.94 2.06-2.06.94zm-11 1L8.5 8.5l.94-2.06 2.06-.94-2.06-.94L8.5 2.5l-.94 2.06-2.06.94zm10 10l.94 2.06.94-2.06 2.06-.94-2.06-.94-.94-2.06-.94 2.06-2.06.94z\"/><path d=\"M17.41 7.96l-1.37-1.37c-.4-.4-.92-.59-1.43-.59-.52 0-1.04.2-1.43.59L10.3 9.45l-7.72 7.72c-.78.78-.78 2.05 0 2.83L4 21.41c.39.39.9.59 1.41.59.51 0 1.02-.2 1.41-.59l7.78-7.78 2.81-2.81c.8-.78.8-2.07 0-2.86zM5.41 20L4 18.59l7.72-7.72 1.47 1.35L5.41 20z\"/>\n",
              "  </svg>\n",
              "      </button>\n",
              "      \n",
              "  <style>\n",
              "    .colab-df-container {\n",
              "      display:flex;\n",
              "      flex-wrap:wrap;\n",
              "      gap: 12px;\n",
              "    }\n",
              "\n",
              "    .colab-df-convert {\n",
              "      background-color: #E8F0FE;\n",
              "      border: none;\n",
              "      border-radius: 50%;\n",
              "      cursor: pointer;\n",
              "      display: none;\n",
              "      fill: #1967D2;\n",
              "      height: 32px;\n",
              "      padding: 0 0 0 0;\n",
              "      width: 32px;\n",
              "    }\n",
              "\n",
              "    .colab-df-convert:hover {\n",
              "      background-color: #E2EBFA;\n",
              "      box-shadow: 0px 1px 2px rgba(60, 64, 67, 0.3), 0px 1px 3px 1px rgba(60, 64, 67, 0.15);\n",
              "      fill: #174EA6;\n",
              "    }\n",
              "\n",
              "    [theme=dark] .colab-df-convert {\n",
              "      background-color: #3B4455;\n",
              "      fill: #D2E3FC;\n",
              "    }\n",
              "\n",
              "    [theme=dark] .colab-df-convert:hover {\n",
              "      background-color: #434B5C;\n",
              "      box-shadow: 0px 1px 3px 1px rgba(0, 0, 0, 0.15);\n",
              "      filter: drop-shadow(0px 1px 2px rgba(0, 0, 0, 0.3));\n",
              "      fill: #FFFFFF;\n",
              "    }\n",
              "  </style>\n",
              "\n",
              "      <script>\n",
              "        const buttonEl =\n",
              "          document.querySelector('#df-709a2e32-0dcd-4fb4-865e-6b3670a561fc button.colab-df-convert');\n",
              "        buttonEl.style.display =\n",
              "          google.colab.kernel.accessAllowed ? 'block' : 'none';\n",
              "\n",
              "        async function convertToInteractive(key) {\n",
              "          const element = document.querySelector('#df-709a2e32-0dcd-4fb4-865e-6b3670a561fc');\n",
              "          const dataTable =\n",
              "            await google.colab.kernel.invokeFunction('convertToInteractive',\n",
              "                                                     [key], {});\n",
              "          if (!dataTable) return;\n",
              "\n",
              "          const docLinkHtml = 'Like what you see? Visit the ' +\n",
              "            '<a target=\"_blank\" href=https://colab.research.google.com/notebooks/data_table.ipynb>data table notebook</a>'\n",
              "            + ' to learn more about interactive tables.';\n",
              "          element.innerHTML = '';\n",
              "          dataTable['output_type'] = 'display_data';\n",
              "          await google.colab.output.renderOutput(dataTable, element);\n",
              "          const docLink = document.createElement('div');\n",
              "          docLink.innerHTML = docLinkHtml;\n",
              "          element.appendChild(docLink);\n",
              "        }\n",
              "      </script>\n",
              "    </div>\n",
              "  </div>\n",
              "  "
            ],
            "text/plain": [
              "     true  predict   mse\n",
              "0    90.0     90.0  0.00\n",
              "1    40.0     90.0  0.25\n",
              "2    30.0    100.0  0.49\n",
              "3    20.0     80.0  0.36\n",
              "4    80.0    100.0  0.04\n",
              "5    90.0     60.0  0.09\n",
              "6    50.0     70.0  0.04\n",
              "7    90.0     70.0  0.04\n",
              "8    90.0     80.0  0.01\n",
              "9   100.0    100.0  0.00\n",
              "10    0.0     30.0  0.09\n",
              "11  100.0    100.0  0.00\n",
              "12  100.0     90.0  0.01\n",
              "13  100.0     80.0  0.04\n",
              "14  100.0     80.0  0.04\n",
              "15   90.0     80.0  0.01\n",
              "16   80.0     90.0  0.01\n",
              "17   80.0     80.0  0.00\n",
              "18  100.0     90.0  0.01\n",
              "19   60.0    100.0  0.16\n",
              "20   70.0    100.0  0.09\n",
              "21  100.0     90.0  0.01\n",
              "22   90.0     80.0  0.01\n",
              "23  100.0    100.0  0.00\n",
              "24   80.0    100.0  0.04\n",
              "25   40.0     80.0  0.16\n",
              "26  100.0     60.0  0.16\n",
              "27   40.0     80.0  0.16\n",
              "28   30.0     60.0  0.09\n",
              "29   80.0     50.0  0.09\n",
              "30   60.0     10.0  0.25\n",
              "31  100.0     80.0  0.04\n",
              "32   10.0     70.0  0.36\n",
              "33  100.0     70.0  0.09\n",
              "34   90.0    100.0  0.01\n",
              "35   60.0     60.0  0.00\n",
              "36   90.0     80.0  0.01\n",
              "37   80.0     90.0  0.01\n",
              "38   80.0     60.0  0.04\n",
              "39  100.0     80.0  0.04\n",
              "40   90.0    100.0  0.01\n",
              "41   80.0     90.0  0.01\n",
              "42   80.0     80.0  0.00\n",
              "43  100.0    100.0  0.00"
            ]
          },
          "execution_count": 50,
          "metadata": {},
          "output_type": "execute_result"
        }
      ],
      "source": [
        "pd.DataFrame({'true':y_test_num*100, 'predict':pred_test_tree*100, 'mse':[mean_squared_error([i[0]],[i[1]]) for i in list(zip(y_test_num,pred_test_tree))]})"
      ]
    },
    {
      "cell_type": "code",
      "execution_count": null,
      "metadata": {
        "colab": {
          "base_uri": "https://localhost:8080/",
          "height": 378
        },
        "id": "VPyP3dWf9FvX",
        "outputId": "707ae747-1860-4668-e050-830e9a6fa50d"
      },
      "outputs": [
        {
          "name": "stdout",
          "output_type": "stream",
          "text": [
            "-------------FITTING MODELS-------------\n"
          ]
        },
        {
          "name": "stderr",
          "output_type": "stream",
          "text": [
            "[Parallel(n_jobs=-1)]: Using backend LokyBackend with 2 concurrent workers.\n",
            "[Parallel(n_jobs=-1)]: Done   1 tasks      | elapsed:    1.6s\n",
            "[Parallel(n_jobs=-1)]: Done   4 tasks      | elapsed:    1.6s\n",
            "[Parallel(n_jobs=-1)]: Done   9 tasks      | elapsed:    1.6s\n",
            "[Parallel(n_jobs=-1)]: Done  12 out of  12 | elapsed:    1.6s finished\n",
            "[Parallel(n_jobs=-1)]: Using backend LokyBackend with 2 concurrent workers.\n",
            "[Parallel(n_jobs=-1)]: Done  12 out of  12 | elapsed:    0.0s finished\n"
          ]
        },
        {
          "name": "stdout",
          "output_type": "stream",
          "text": [
            "-------------SCORING MODELS-------------\n"
          ]
        },
        {
          "data": {
            "image/png": "[encoded data removed]",
            "text/plain": [
              "<Figure size 144x216 with 2 Axes>"
            ]
          },
          "metadata": {
            "needs_background": "light"
          },
          "output_type": "display_data"
        },
        {
          "name": "stdout",
          "output_type": "stream",
          "text": [
            "DecisionTreeRegressor(max_depth=100) 0.21136363636363634\n"
          ]
        }
      ],
      "source": [
        "grid = {\n",
        "    'max_depth': [100, 1000, 10000],\n",
        "    'criterion'  : ['squared_error', 'friedman_mse', 'absolute_error', 'poisson'],\n",
        "}\n",
        "paramGrid = ParameterGrid(grid)\n",
        "bestModel, bestScore, allModels, allScores = pf.bestFit(DecisionTreeRegressor, paramGrid,\n",
        "           x_train_sim, y_train_num, \n",
        "           X_val=x_test_sim, y_val=y_test_num,  \n",
        "           metric = mean_absolute_error,\n",
        "           )\n",
        "print(bestModel, bestScore)"
      ]
    },
    {
      "cell_type": "markdown",
      "metadata": {
        "id": "_3VXZ9c_sIL9"
      },
      "source": [
        "tidak ada improvisasi dari hasil grid search, artinya semua parameter akan menghasilkan nilai prediksi yang sama"
      ]
    },
    {
      "cell_type": "code",
      "execution_count": null,
      "metadata": {
        "colab": {
          "base_uri": "https://localhost:8080/"
        },
        "id": "S9D9Kvrm-uoG",
        "outputId": "4e075c5c-62e4-47ac-c4e3-79d56b68042b"
      },
      "outputs": [
        {
          "name": "stdout",
          "output_type": "stream",
          "text": [
            "0.010690449676496976\n",
            "0.9979417092046764\n"
          ]
        }
      ],
      "source": [
        "dtree = DecisionTreeRegressor(max_depth=100, criterion='absolute_error', random_state=3)\n",
        "\n",
        "dtree.fit(x_train_sim, y_train_num)\n",
        "\n",
        "pred_train_tree= dtree.predict(x_train_sim)\n",
        "print(np.sqrt(mean_squared_error(y_train_num,pred_train_tree)))\n",
        "print(r2_score(y_train_num, pred_train_tree))"
      ]
    },
    {
      "cell_type": "code",
      "execution_count": null,
      "metadata": {
        "colab": {
          "base_uri": "https://localhost:8080/"
        },
        "id": "yTqB3hVx_WAK",
        "outputId": "5e5bcd86-f23e-4d75-9b51-00511eabe923"
      },
      "outputs": [
        {
          "name": "stdout",
          "output_type": "stream",
          "text": [
            "0.27675062617979584\n",
            "-0.044519582981121575\n"
          ]
        }
      ],
      "source": [
        "pred_test_tree= dtree.predict(x_test_sim)\n",
        "print(np.sqrt(mean_squared_error(y_test_num,pred_test_tree)))\n",
        "print(r2_score(y_test_num, pred_test_tree))"
      ]
    },
    {
      "cell_type": "markdown",
      "metadata": {
        "id": "E-cdidnhcTiQ"
      },
      "source": [
        "### regression report"
      ]
    },
    {
      "cell_type": "code",
      "execution_count": null,
      "metadata": {
        "colab": {
          "base_uri": "https://localhost:8080/",
          "height": 1000
        },
        "id": "LauxZqnI_i1A",
        "outputId": "dcf8a65c-6c52-475a-c5d7-ff138f86c021"
      },
      "outputs": [
        {
          "data": {
            "text/html": [
              "\n",
              "  <div id=\"df-d59176a9-7b47-4d62-ac53-221039f34f21\">\n",
              "    <div class=\"colab-df-container\">\n",
              "      <div>\n",
              "<style scoped>\n",
              "    .dataframe tbody tr th:only-of-type {\n",
              "        vertical-align: middle;\n",
              "    }\n",
              "\n",
              "    .dataframe tbody tr th {\n",
              "        vertical-align: top;\n",
              "    }\n",
              "\n",
              "    .dataframe thead th {\n",
              "        text-align: right;\n",
              "    }\n",
              "</style>\n",
              "<table border=\"1\" class=\"dataframe\">\n",
              "  <thead>\n",
              "    <tr style=\"text-align: right;\">\n",
              "      <th></th>\n",
              "      <th>true</th>\n",
              "      <th>predict</th>\n",
              "      <th>mae</th>\n",
              "    </tr>\n",
              "  </thead>\n",
              "  <tbody>\n",
              "    <tr>\n",
              "      <th>0</th>\n",
              "      <td>90.0</td>\n",
              "      <td>90.0</td>\n",
              "      <td>0.0</td>\n",
              "    </tr>\n",
              "    <tr>\n",
              "      <th>1</th>\n",
              "      <td>40.0</td>\n",
              "      <td>90.0</td>\n",
              "      <td>0.5</td>\n",
              "    </tr>\n",
              "    <tr>\n",
              "      <th>2</th>\n",
              "      <td>30.0</td>\n",
              "      <td>100.0</td>\n",
              "      <td>0.7</td>\n",
              "    </tr>\n",
              "    <tr>\n",
              "      <th>3</th>\n",
              "      <td>20.0</td>\n",
              "      <td>80.0</td>\n",
              "      <td>0.6</td>\n",
              "    </tr>\n",
              "    <tr>\n",
              "      <th>4</th>\n",
              "      <td>80.0</td>\n",
              "      <td>100.0</td>\n",
              "      <td>0.2</td>\n",
              "    </tr>\n",
              "    <tr>\n",
              "      <th>5</th>\n",
              "      <td>90.0</td>\n",
              "      <td>60.0</td>\n",
              "      <td>0.3</td>\n",
              "    </tr>\n",
              "    <tr>\n",
              "      <th>6</th>\n",
              "      <td>50.0</td>\n",
              "      <td>70.0</td>\n",
              "      <td>0.2</td>\n",
              "    </tr>\n",
              "    <tr>\n",
              "      <th>7</th>\n",
              "      <td>90.0</td>\n",
              "      <td>70.0</td>\n",
              "      <td>0.2</td>\n",
              "    </tr>\n",
              "    <tr>\n",
              "      <th>8</th>\n",
              "      <td>90.0</td>\n",
              "      <td>80.0</td>\n",
              "      <td>0.1</td>\n",
              "    </tr>\n",
              "    <tr>\n",
              "      <th>9</th>\n",
              "      <td>100.0</td>\n",
              "      <td>100.0</td>\n",
              "      <td>0.0</td>\n",
              "    </tr>\n",
              "    <tr>\n",
              "      <th>10</th>\n",
              "      <td>0.0</td>\n",
              "      <td>30.0</td>\n",
              "      <td>0.3</td>\n",
              "    </tr>\n",
              "    <tr>\n",
              "      <th>11</th>\n",
              "      <td>100.0</td>\n",
              "      <td>100.0</td>\n",
              "      <td>0.0</td>\n",
              "    </tr>\n",
              "    <tr>\n",
              "      <th>12</th>\n",
              "      <td>100.0</td>\n",
              "      <td>90.0</td>\n",
              "      <td>0.1</td>\n",
              "    </tr>\n",
              "    <tr>\n",
              "      <th>13</th>\n",
              "      <td>100.0</td>\n",
              "      <td>80.0</td>\n",
              "      <td>0.2</td>\n",
              "    </tr>\n",
              "    <tr>\n",
              "      <th>14</th>\n",
              "      <td>100.0</td>\n",
              "      <td>80.0</td>\n",
              "      <td>0.2</td>\n",
              "    </tr>\n",
              "    <tr>\n",
              "      <th>15</th>\n",
              "      <td>90.0</td>\n",
              "      <td>80.0</td>\n",
              "      <td>0.1</td>\n",
              "    </tr>\n",
              "    <tr>\n",
              "      <th>16</th>\n",
              "      <td>80.0</td>\n",
              "      <td>90.0</td>\n",
              "      <td>0.1</td>\n",
              "    </tr>\n",
              "    <tr>\n",
              "      <th>17</th>\n",
              "      <td>80.0</td>\n",
              "      <td>80.0</td>\n",
              "      <td>0.0</td>\n",
              "    </tr>\n",
              "    <tr>\n",
              "      <th>18</th>\n",
              "      <td>100.0</td>\n",
              "      <td>90.0</td>\n",
              "      <td>0.1</td>\n",
              "    </tr>\n",
              "    <tr>\n",
              "      <th>19</th>\n",
              "      <td>60.0</td>\n",
              "      <td>100.0</td>\n",
              "      <td>0.4</td>\n",
              "    </tr>\n",
              "    <tr>\n",
              "      <th>20</th>\n",
              "      <td>70.0</td>\n",
              "      <td>100.0</td>\n",
              "      <td>0.3</td>\n",
              "    </tr>\n",
              "    <tr>\n",
              "      <th>21</th>\n",
              "      <td>100.0</td>\n",
              "      <td>90.0</td>\n",
              "      <td>0.1</td>\n",
              "    </tr>\n",
              "    <tr>\n",
              "      <th>22</th>\n",
              "      <td>90.0</td>\n",
              "      <td>80.0</td>\n",
              "      <td>0.1</td>\n",
              "    </tr>\n",
              "    <tr>\n",
              "      <th>23</th>\n",
              "      <td>100.0</td>\n",
              "      <td>100.0</td>\n",
              "      <td>0.0</td>\n",
              "    </tr>\n",
              "    <tr>\n",
              "      <th>24</th>\n",
              "      <td>80.0</td>\n",
              "      <td>100.0</td>\n",
              "      <td>0.2</td>\n",
              "    </tr>\n",
              "    <tr>\n",
              "      <th>25</th>\n",
              "      <td>40.0</td>\n",
              "      <td>80.0</td>\n",
              "      <td>0.4</td>\n",
              "    </tr>\n",
              "    <tr>\n",
              "      <th>26</th>\n",
              "      <td>100.0</td>\n",
              "      <td>60.0</td>\n",
              "      <td>0.4</td>\n",
              "    </tr>\n",
              "    <tr>\n",
              "      <th>27</th>\n",
              "      <td>40.0</td>\n",
              "      <td>80.0</td>\n",
              "      <td>0.4</td>\n",
              "    </tr>\n",
              "    <tr>\n",
              "      <th>28</th>\n",
              "      <td>30.0</td>\n",
              "      <td>60.0</td>\n",
              "      <td>0.3</td>\n",
              "    </tr>\n",
              "    <tr>\n",
              "      <th>29</th>\n",
              "      <td>80.0</td>\n",
              "      <td>50.0</td>\n",
              "      <td>0.3</td>\n",
              "    </tr>\n",
              "    <tr>\n",
              "      <th>30</th>\n",
              "      <td>60.0</td>\n",
              "      <td>10.0</td>\n",
              "      <td>0.5</td>\n",
              "    </tr>\n",
              "    <tr>\n",
              "      <th>31</th>\n",
              "      <td>100.0</td>\n",
              "      <td>80.0</td>\n",
              "      <td>0.2</td>\n",
              "    </tr>\n",
              "    <tr>\n",
              "      <th>32</th>\n",
              "      <td>10.0</td>\n",
              "      <td>70.0</td>\n",
              "      <td>0.6</td>\n",
              "    </tr>\n",
              "    <tr>\n",
              "      <th>33</th>\n",
              "      <td>100.0</td>\n",
              "      <td>70.0</td>\n",
              "      <td>0.3</td>\n",
              "    </tr>\n",
              "    <tr>\n",
              "      <th>34</th>\n",
              "      <td>90.0</td>\n",
              "      <td>100.0</td>\n",
              "      <td>0.1</td>\n",
              "    </tr>\n",
              "    <tr>\n",
              "      <th>35</th>\n",
              "      <td>60.0</td>\n",
              "      <td>60.0</td>\n",
              "      <td>0.0</td>\n",
              "    </tr>\n",
              "    <tr>\n",
              "      <th>36</th>\n",
              "      <td>90.0</td>\n",
              "      <td>80.0</td>\n",
              "      <td>0.1</td>\n",
              "    </tr>\n",
              "    <tr>\n",
              "      <th>37</th>\n",
              "      <td>80.0</td>\n",
              "      <td>90.0</td>\n",
              "      <td>0.1</td>\n",
              "    </tr>\n",
              "    <tr>\n",
              "      <th>38</th>\n",
              "      <td>80.0</td>\n",
              "      <td>60.0</td>\n",
              "      <td>0.2</td>\n",
              "    </tr>\n",
              "    <tr>\n",
              "      <th>39</th>\n",
              "      <td>100.0</td>\n",
              "      <td>80.0</td>\n",
              "      <td>0.2</td>\n",
              "    </tr>\n",
              "    <tr>\n",
              "      <th>40</th>\n",
              "      <td>90.0</td>\n",
              "      <td>100.0</td>\n",
              "      <td>0.1</td>\n",
              "    </tr>\n",
              "    <tr>\n",
              "      <th>41</th>\n",
              "      <td>80.0</td>\n",
              "      <td>90.0</td>\n",
              "      <td>0.1</td>\n",
              "    </tr>\n",
              "    <tr>\n",
              "      <th>42</th>\n",
              "      <td>80.0</td>\n",
              "      <td>80.0</td>\n",
              "      <td>0.0</td>\n",
              "    </tr>\n",
              "    <tr>\n",
              "      <th>43</th>\n",
              "      <td>100.0</td>\n",
              "      <td>100.0</td>\n",
              "      <td>0.0</td>\n",
              "    </tr>\n",
              "  </tbody>\n",
              "</table>\n",
              "</div>\n",
              "      <button class=\"colab-df-convert\" onclick=\"convertToInteractive('df-d59176a9-7b47-4d62-ac53-221039f34f21')\"\n",
              "              title=\"Convert this dataframe to an interactive table.\"\n",
              "              style=\"display:none;\">\n",
              "        \n",
              "  <svg xmlns=\"http://www.w3.org/2000/svg\" height=\"24px\"viewBox=\"0 0 24 24\"\n",
              "       width=\"24px\">\n",
              "    <path d=\"M0 0h24v24H0V0z\" fill=\"none\"/>\n",
              "    <path d=\"M18.56 5.44l.94 2.06.94-2.06 2.06-.94-2.06-.94-.94-2.06-.94 2.06-2.06.94zm-11 1L8.5 8.5l.94-2.06 2.06-.94-2.06-.94L8.5 2.5l-.94 2.06-2.06.94zm10 10l.94 2.06.94-2.06 2.06-.94-2.06-.94-.94-2.06-.94 2.06-2.06.94z\"/><path d=\"M17.41 7.96l-1.37-1.37c-.4-.4-.92-.59-1.43-.59-.52 0-1.04.2-1.43.59L10.3 9.45l-7.72 7.72c-.78.78-.78 2.05 0 2.83L4 21.41c.39.39.9.59 1.41.59.51 0 1.02-.2 1.41-.59l7.78-7.78 2.81-2.81c.8-.78.8-2.07 0-2.86zM5.41 20L4 18.59l7.72-7.72 1.47 1.35L5.41 20z\"/>\n",
              "  </svg>\n",
              "      </button>\n",
              "      \n",
              "  <style>\n",
              "    .colab-df-container {\n",
              "      display:flex;\n",
              "      flex-wrap:wrap;\n",
              "      gap: 12px;\n",
              "    }\n",
              "\n",
              "    .colab-df-convert {\n",
              "      background-color: #E8F0FE;\n",
              "      border: none;\n",
              "      border-radius: 50%;\n",
              "      cursor: pointer;\n",
              "      display: none;\n",
              "      fill: #1967D2;\n",
              "      height: 32px;\n",
              "      padding: 0 0 0 0;\n",
              "      width: 32px;\n",
              "    }\n",
              "\n",
              "    .colab-df-convert:hover {\n",
              "      background-color: #E2EBFA;\n",
              "      box-shadow: 0px 1px 2px rgba(60, 64, 67, 0.3), 0px 1px 3px 1px rgba(60, 64, 67, 0.15);\n",
              "      fill: #174EA6;\n",
              "    }\n",
              "\n",
              "    [theme=dark] .colab-df-convert {\n",
              "      background-color: #3B4455;\n",
              "      fill: #D2E3FC;\n",
              "    }\n",
              "\n",
              "    [theme=dark] .colab-df-convert:hover {\n",
              "      background-color: #434B5C;\n",
              "      box-shadow: 0px 1px 3px 1px rgba(0, 0, 0, 0.15);\n",
              "      filter: drop-shadow(0px 1px 2px rgba(0, 0, 0, 0.3));\n",
              "      fill: #FFFFFF;\n",
              "    }\n",
              "  </style>\n",
              "\n",
              "      <script>\n",
              "        const buttonEl =\n",
              "          document.querySelector('#df-d59176a9-7b47-4d62-ac53-221039f34f21 button.colab-df-convert');\n",
              "        buttonEl.style.display =\n",
              "          google.colab.kernel.accessAllowed ? 'block' : 'none';\n",
              "\n",
              "        async function convertToInteractive(key) {\n",
              "          const element = document.querySelector('#df-d59176a9-7b47-4d62-ac53-221039f34f21');\n",
              "          const dataTable =\n",
              "            await google.colab.kernel.invokeFunction('convertToInteractive',\n",
              "                                                     [key], {});\n",
              "          if (!dataTable) return;\n",
              "\n",
              "          const docLinkHtml = 'Like what you see? Visit the ' +\n",
              "            '<a target=\"_blank\" href=https://colab.research.google.com/notebooks/data_table.ipynb>data table notebook</a>'\n",
              "            + ' to learn more about interactive tables.';\n",
              "          element.innerHTML = '';\n",
              "          dataTable['output_type'] = 'display_data';\n",
              "          await google.colab.output.renderOutput(dataTable, element);\n",
              "          const docLink = document.createElement('div');\n",
              "          docLink.innerHTML = docLinkHtml;\n",
              "          element.appendChild(docLink);\n",
              "        }\n",
              "      </script>\n",
              "    </div>\n",
              "  </div>\n",
              "  "
            ],
            "text/plain": [
              "     true  predict  mae\n",
              "0    90.0     90.0  0.0\n",
              "1    40.0     90.0  0.5\n",
              "2    30.0    100.0  0.7\n",
              "3    20.0     80.0  0.6\n",
              "4    80.0    100.0  0.2\n",
              "5    90.0     60.0  0.3\n",
              "6    50.0     70.0  0.2\n",
              "7    90.0     70.0  0.2\n",
              "8    90.0     80.0  0.1\n",
              "9   100.0    100.0  0.0\n",
              "10    0.0     30.0  0.3\n",
              "11  100.0    100.0  0.0\n",
              "12  100.0     90.0  0.1\n",
              "13  100.0     80.0  0.2\n",
              "14  100.0     80.0  0.2\n",
              "15   90.0     80.0  0.1\n",
              "16   80.0     90.0  0.1\n",
              "17   80.0     80.0  0.0\n",
              "18  100.0     90.0  0.1\n",
              "19   60.0    100.0  0.4\n",
              "20   70.0    100.0  0.3\n",
              "21  100.0     90.0  0.1\n",
              "22   90.0     80.0  0.1\n",
              "23  100.0    100.0  0.0\n",
              "24   80.0    100.0  0.2\n",
              "25   40.0     80.0  0.4\n",
              "26  100.0     60.0  0.4\n",
              "27   40.0     80.0  0.4\n",
              "28   30.0     60.0  0.3\n",
              "29   80.0     50.0  0.3\n",
              "30   60.0     10.0  0.5\n",
              "31  100.0     80.0  0.2\n",
              "32   10.0     70.0  0.6\n",
              "33  100.0     70.0  0.3\n",
              "34   90.0    100.0  0.1\n",
              "35   60.0     60.0  0.0\n",
              "36   90.0     80.0  0.1\n",
              "37   80.0     90.0  0.1\n",
              "38   80.0     60.0  0.2\n",
              "39  100.0     80.0  0.2\n",
              "40   90.0    100.0  0.1\n",
              "41   80.0     90.0  0.1\n",
              "42   80.0     80.0  0.0\n",
              "43  100.0    100.0  0.0"
            ]
          },
          "execution_count": 54,
          "metadata": {},
          "output_type": "execute_result"
        }
      ],
      "source": [
        "pd.DataFrame({'true':y_test_num*100, 'predict':pred_test_tree*100, 'mae':[mean_absolute_error([i[0]],[i[1]]) for i in list(zip(y_test_num,pred_test_tree))]})"
      ]
    },
    {
      "cell_type": "markdown",
      "metadata": {
        "id": "evS2cs49AVc_"
      },
      "source": [
        "## XGBoost Regressor [13]"
      ]
    },
    {
      "cell_type": "code",
      "execution_count": null,
      "metadata": {
        "colab": {
          "base_uri": "https://localhost:8080/"
        },
        "id": "1KgR_JdbAVc_",
        "outputId": "9e3a124c-c0c5-471f-ab2c-ef3580ea9655"
      },
      "outputs": [
        {
          "name": "stdout",
          "output_type": "stream",
          "text": [
            "0.10076519071193578\n",
            "0.8171327864767992\n"
          ]
        }
      ],
      "source": [
        "xgb_r = xgboost.XGBRegressor(objective=\"reg:tweedie\",\n",
        "                  n_estimators = 1000)\n",
        "\n",
        "xgb_r.fit(x_train_sim, y_train_num)\n",
        "\n",
        "pred_train_tree= xgb_r.predict(x_train_sim)\n",
        "print(np.sqrt(mean_squared_error(y_train_num,pred_train_tree)))\n",
        "print(r2_score(y_train_num, pred_train_tree))"
      ]
    },
    {
      "cell_type": "code",
      "execution_count": null,
      "metadata": {
        "colab": {
          "base_uri": "https://localhost:8080/"
        },
        "id": "nj7jV_klAVc_",
        "outputId": "bfd180c3-fd3c-4949-af8a-fd1877dcb54a"
      },
      "outputs": [
        {
          "name": "stdout",
          "output_type": "stream",
          "text": [
            "0.25206166751691905\n",
            "0.13353111389117012\n"
          ]
        }
      ],
      "source": [
        "pred_test_tree= xgb_r.predict(x_test_sim)\n",
        "print(np.sqrt(mean_squared_error(y_test_num,pred_test_tree)))\n",
        "print(r2_score(y_test_num, pred_test_tree))"
      ]
    },
    {
      "cell_type": "code",
      "execution_count": null,
      "metadata": {
        "colab": {
          "base_uri": "https://localhost:8080/",
          "height": 1000
        },
        "id": "s57ZmRQyAVdA",
        "outputId": "8f9d72a2-f265-4050-b881-8fdc95cda95e"
      },
      "outputs": [
        {
          "data": {
            "text/html": [
              "\n",
              "  <div id=\"df-88fe9b8b-193d-4519-8103-17c8b3facf68\">\n",
              "    <div class=\"colab-df-container\">\n",
              "      <div>\n",
              "<style scoped>\n",
              "    .dataframe tbody tr th:only-of-type {\n",
              "        vertical-align: middle;\n",
              "    }\n",
              "\n",
              "    .dataframe tbody tr th {\n",
              "        vertical-align: top;\n",
              "    }\n",
              "\n",
              "    .dataframe thead th {\n",
              "        text-align: right;\n",
              "    }\n",
              "</style>\n",
              "<table border=\"1\" class=\"dataframe\">\n",
              "  <thead>\n",
              "    <tr style=\"text-align: right;\">\n",
              "      <th></th>\n",
              "      <th>true</th>\n",
              "      <th>predict</th>\n",
              "      <th>mse</th>\n",
              "    </tr>\n",
              "  </thead>\n",
              "  <tbody>\n",
              "    <tr>\n",
              "      <th>0</th>\n",
              "      <td>90.0</td>\n",
              "      <td>72.906555</td>\n",
              "      <td>0.170934</td>\n",
              "    </tr>\n",
              "    <tr>\n",
              "      <th>1</th>\n",
              "      <td>40.0</td>\n",
              "      <td>89.910767</td>\n",
              "      <td>0.499108</td>\n",
              "    </tr>\n",
              "    <tr>\n",
              "      <th>2</th>\n",
              "      <td>30.0</td>\n",
              "      <td>89.795906</td>\n",
              "      <td>0.597959</td>\n",
              "    </tr>\n",
              "    <tr>\n",
              "      <th>3</th>\n",
              "      <td>20.0</td>\n",
              "      <td>77.022896</td>\n",
              "      <td>0.570229</td>\n",
              "    </tr>\n",
              "    <tr>\n",
              "      <th>4</th>\n",
              "      <td>80.0</td>\n",
              "      <td>96.703430</td>\n",
              "      <td>0.167034</td>\n",
              "    </tr>\n",
              "    <tr>\n",
              "      <th>5</th>\n",
              "      <td>90.0</td>\n",
              "      <td>83.140564</td>\n",
              "      <td>0.068594</td>\n",
              "    </tr>\n",
              "    <tr>\n",
              "      <th>6</th>\n",
              "      <td>50.0</td>\n",
              "      <td>72.665825</td>\n",
              "      <td>0.226658</td>\n",
              "    </tr>\n",
              "    <tr>\n",
              "      <th>7</th>\n",
              "      <td>90.0</td>\n",
              "      <td>78.129593</td>\n",
              "      <td>0.118704</td>\n",
              "    </tr>\n",
              "    <tr>\n",
              "      <th>8</th>\n",
              "      <td>90.0</td>\n",
              "      <td>81.367912</td>\n",
              "      <td>0.086321</td>\n",
              "    </tr>\n",
              "    <tr>\n",
              "      <th>9</th>\n",
              "      <td>100.0</td>\n",
              "      <td>90.145805</td>\n",
              "      <td>0.098542</td>\n",
              "    </tr>\n",
              "    <tr>\n",
              "      <th>10</th>\n",
              "      <td>0.0</td>\n",
              "      <td>29.988607</td>\n",
              "      <td>0.299886</td>\n",
              "    </tr>\n",
              "    <tr>\n",
              "      <th>11</th>\n",
              "      <td>100.0</td>\n",
              "      <td>86.322960</td>\n",
              "      <td>0.136770</td>\n",
              "    </tr>\n",
              "    <tr>\n",
              "      <th>12</th>\n",
              "      <td>100.0</td>\n",
              "      <td>87.559120</td>\n",
              "      <td>0.124409</td>\n",
              "    </tr>\n",
              "    <tr>\n",
              "      <th>13</th>\n",
              "      <td>100.0</td>\n",
              "      <td>84.835777</td>\n",
              "      <td>0.151642</td>\n",
              "    </tr>\n",
              "    <tr>\n",
              "      <th>14</th>\n",
              "      <td>100.0</td>\n",
              "      <td>83.632034</td>\n",
              "      <td>0.163680</td>\n",
              "    </tr>\n",
              "    <tr>\n",
              "      <th>15</th>\n",
              "      <td>90.0</td>\n",
              "      <td>81.698349</td>\n",
              "      <td>0.083016</td>\n",
              "    </tr>\n",
              "    <tr>\n",
              "      <th>16</th>\n",
              "      <td>80.0</td>\n",
              "      <td>72.906555</td>\n",
              "      <td>0.070934</td>\n",
              "    </tr>\n",
              "    <tr>\n",
              "      <th>17</th>\n",
              "      <td>80.0</td>\n",
              "      <td>81.280121</td>\n",
              "      <td>0.012801</td>\n",
              "    </tr>\n",
              "    <tr>\n",
              "      <th>18</th>\n",
              "      <td>100.0</td>\n",
              "      <td>85.672340</td>\n",
              "      <td>0.143277</td>\n",
              "    </tr>\n",
              "    <tr>\n",
              "      <th>19</th>\n",
              "      <td>60.0</td>\n",
              "      <td>89.091766</td>\n",
              "      <td>0.290918</td>\n",
              "    </tr>\n",
              "    <tr>\n",
              "      <th>20</th>\n",
              "      <td>70.0</td>\n",
              "      <td>82.848579</td>\n",
              "      <td>0.128486</td>\n",
              "    </tr>\n",
              "    <tr>\n",
              "      <th>21</th>\n",
              "      <td>100.0</td>\n",
              "      <td>83.632034</td>\n",
              "      <td>0.163680</td>\n",
              "    </tr>\n",
              "    <tr>\n",
              "      <th>22</th>\n",
              "      <td>90.0</td>\n",
              "      <td>86.322960</td>\n",
              "      <td>0.036770</td>\n",
              "    </tr>\n",
              "    <tr>\n",
              "      <th>23</th>\n",
              "      <td>100.0</td>\n",
              "      <td>97.647102</td>\n",
              "      <td>0.023529</td>\n",
              "    </tr>\n",
              "    <tr>\n",
              "      <th>24</th>\n",
              "      <td>80.0</td>\n",
              "      <td>88.591248</td>\n",
              "      <td>0.085912</td>\n",
              "    </tr>\n",
              "    <tr>\n",
              "      <th>25</th>\n",
              "      <td>40.0</td>\n",
              "      <td>70.952225</td>\n",
              "      <td>0.309522</td>\n",
              "    </tr>\n",
              "    <tr>\n",
              "      <th>26</th>\n",
              "      <td>100.0</td>\n",
              "      <td>75.319885</td>\n",
              "      <td>0.246801</td>\n",
              "    </tr>\n",
              "    <tr>\n",
              "      <th>27</th>\n",
              "      <td>40.0</td>\n",
              "      <td>87.840935</td>\n",
              "      <td>0.478409</td>\n",
              "    </tr>\n",
              "    <tr>\n",
              "      <th>28</th>\n",
              "      <td>30.0</td>\n",
              "      <td>67.984856</td>\n",
              "      <td>0.379849</td>\n",
              "    </tr>\n",
              "    <tr>\n",
              "      <th>29</th>\n",
              "      <td>80.0</td>\n",
              "      <td>55.876820</td>\n",
              "      <td>0.241232</td>\n",
              "    </tr>\n",
              "    <tr>\n",
              "      <th>30</th>\n",
              "      <td>60.0</td>\n",
              "      <td>12.875385</td>\n",
              "      <td>0.471246</td>\n",
              "    </tr>\n",
              "    <tr>\n",
              "      <th>31</th>\n",
              "      <td>100.0</td>\n",
              "      <td>75.139687</td>\n",
              "      <td>0.248603</td>\n",
              "    </tr>\n",
              "    <tr>\n",
              "      <th>32</th>\n",
              "      <td>10.0</td>\n",
              "      <td>67.546501</td>\n",
              "      <td>0.575465</td>\n",
              "    </tr>\n",
              "    <tr>\n",
              "      <th>33</th>\n",
              "      <td>100.0</td>\n",
              "      <td>68.700584</td>\n",
              "      <td>0.312994</td>\n",
              "    </tr>\n",
              "    <tr>\n",
              "      <th>34</th>\n",
              "      <td>90.0</td>\n",
              "      <td>89.200661</td>\n",
              "      <td>0.007993</td>\n",
              "    </tr>\n",
              "    <tr>\n",
              "      <th>35</th>\n",
              "      <td>60.0</td>\n",
              "      <td>59.856873</td>\n",
              "      <td>0.001431</td>\n",
              "    </tr>\n",
              "    <tr>\n",
              "      <th>36</th>\n",
              "      <td>90.0</td>\n",
              "      <td>75.139687</td>\n",
              "      <td>0.148603</td>\n",
              "    </tr>\n",
              "    <tr>\n",
              "      <th>37</th>\n",
              "      <td>80.0</td>\n",
              "      <td>85.672340</td>\n",
              "      <td>0.056723</td>\n",
              "    </tr>\n",
              "    <tr>\n",
              "      <th>38</th>\n",
              "      <td>80.0</td>\n",
              "      <td>75.319885</td>\n",
              "      <td>0.046801</td>\n",
              "    </tr>\n",
              "    <tr>\n",
              "      <th>39</th>\n",
              "      <td>100.0</td>\n",
              "      <td>86.322960</td>\n",
              "      <td>0.136770</td>\n",
              "    </tr>\n",
              "    <tr>\n",
              "      <th>40</th>\n",
              "      <td>90.0</td>\n",
              "      <td>97.647102</td>\n",
              "      <td>0.076471</td>\n",
              "    </tr>\n",
              "    <tr>\n",
              "      <th>41</th>\n",
              "      <td>80.0</td>\n",
              "      <td>84.835777</td>\n",
              "      <td>0.048358</td>\n",
              "    </tr>\n",
              "    <tr>\n",
              "      <th>42</th>\n",
              "      <td>80.0</td>\n",
              "      <td>83.632034</td>\n",
              "      <td>0.036320</td>\n",
              "    </tr>\n",
              "    <tr>\n",
              "      <th>43</th>\n",
              "      <td>100.0</td>\n",
              "      <td>86.327438</td>\n",
              "      <td>0.136726</td>\n",
              "    </tr>\n",
              "  </tbody>\n",
              "</table>\n",
              "</div>\n",
              "      <button class=\"colab-df-convert\" onclick=\"convertToInteractive('df-88fe9b8b-193d-4519-8103-17c8b3facf68')\"\n",
              "              title=\"Convert this dataframe to an interactive table.\"\n",
              "              style=\"display:none;\">\n",
              "        \n",
              "  <svg xmlns=\"http://www.w3.org/2000/svg\" height=\"24px\"viewBox=\"0 0 24 24\"\n",
              "       width=\"24px\">\n",
              "    <path d=\"M0 0h24v24H0V0z\" fill=\"none\"/>\n",
              "    <path d=\"M18.56 5.44l.94 2.06.94-2.06 2.06-.94-2.06-.94-.94-2.06-.94 2.06-2.06.94zm-11 1L8.5 8.5l.94-2.06 2.06-.94-2.06-.94L8.5 2.5l-.94 2.06-2.06.94zm10 10l.94 2.06.94-2.06 2.06-.94-2.06-.94-.94-2.06-.94 2.06-2.06.94z\"/><path d=\"M17.41 7.96l-1.37-1.37c-.4-.4-.92-.59-1.43-.59-.52 0-1.04.2-1.43.59L10.3 9.45l-7.72 7.72c-.78.78-.78 2.05 0 2.83L4 21.41c.39.39.9.59 1.41.59.51 0 1.02-.2 1.41-.59l7.78-7.78 2.81-2.81c.8-.78.8-2.07 0-2.86zM5.41 20L4 18.59l7.72-7.72 1.47 1.35L5.41 20z\"/>\n",
              "  </svg>\n",
              "      </button>\n",
              "      \n",
              "  <style>\n",
              "    .colab-df-container {\n",
              "      display:flex;\n",
              "      flex-wrap:wrap;\n",
              "      gap: 12px;\n",
              "    }\n",
              "\n",
              "    .colab-df-convert {\n",
              "      background-color: #E8F0FE;\n",
              "      border: none;\n",
              "      border-radius: 50%;\n",
              "      cursor: pointer;\n",
              "      display: none;\n",
              "      fill: #1967D2;\n",
              "      height: 32px;\n",
              "      padding: 0 0 0 0;\n",
              "      width: 32px;\n",
              "    }\n",
              "\n",
              "    .colab-df-convert:hover {\n",
              "      background-color: #E2EBFA;\n",
              "      box-shadow: 0px 1px 2px rgba(60, 64, 67, 0.3), 0px 1px 3px 1px rgba(60, 64, 67, 0.15);\n",
              "      fill: #174EA6;\n",
              "    }\n",
              "\n",
              "    [theme=dark] .colab-df-convert {\n",
              "      background-color: #3B4455;\n",
              "      fill: #D2E3FC;\n",
              "    }\n",
              "\n",
              "    [theme=dark] .colab-df-convert:hover {\n",
              "      background-color: #434B5C;\n",
              "      box-shadow: 0px 1px 3px 1px rgba(0, 0, 0, 0.15);\n",
              "      filter: drop-shadow(0px 1px 2px rgba(0, 0, 0, 0.3));\n",
              "      fill: #FFFFFF;\n",
              "    }\n",
              "  </style>\n",
              "\n",
              "      <script>\n",
              "        const buttonEl =\n",
              "          document.querySelector('#df-88fe9b8b-193d-4519-8103-17c8b3facf68 button.colab-df-convert');\n",
              "        buttonEl.style.display =\n",
              "          google.colab.kernel.accessAllowed ? 'block' : 'none';\n",
              "\n",
              "        async function convertToInteractive(key) {\n",
              "          const element = document.querySelector('#df-88fe9b8b-193d-4519-8103-17c8b3facf68');\n",
              "          const dataTable =\n",
              "            await google.colab.kernel.invokeFunction('convertToInteractive',\n",
              "                                                     [key], {});\n",
              "          if (!dataTable) return;\n",
              "\n",
              "          const docLinkHtml = 'Like what you see? Visit the ' +\n",
              "            '<a target=\"_blank\" href=https://colab.research.google.com/notebooks/data_table.ipynb>data table notebook</a>'\n",
              "            + ' to learn more about interactive tables.';\n",
              "          element.innerHTML = '';\n",
              "          dataTable['output_type'] = 'display_data';\n",
              "          await google.colab.output.renderOutput(dataTable, element);\n",
              "          const docLink = document.createElement('div');\n",
              "          docLink.innerHTML = docLinkHtml;\n",
              "          element.appendChild(docLink);\n",
              "        }\n",
              "      </script>\n",
              "    </div>\n",
              "  </div>\n",
              "  "
            ],
            "text/plain": [
              "     true    predict       mse\n",
              "0    90.0  72.906555  0.170934\n",
              "1    40.0  89.910767  0.499108\n",
              "2    30.0  89.795906  0.597959\n",
              "3    20.0  77.022896  0.570229\n",
              "4    80.0  96.703430  0.167034\n",
              "5    90.0  83.140564  0.068594\n",
              "6    50.0  72.665825  0.226658\n",
              "7    90.0  78.129593  0.118704\n",
              "8    90.0  81.367912  0.086321\n",
              "9   100.0  90.145805  0.098542\n",
              "10    0.0  29.988607  0.299886\n",
              "11  100.0  86.322960  0.136770\n",
              "12  100.0  87.559120  0.124409\n",
              "13  100.0  84.835777  0.151642\n",
              "14  100.0  83.632034  0.163680\n",
              "15   90.0  81.698349  0.083016\n",
              "16   80.0  72.906555  0.070934\n",
              "17   80.0  81.280121  0.012801\n",
              "18  100.0  85.672340  0.143277\n",
              "19   60.0  89.091766  0.290918\n",
              "20   70.0  82.848579  0.128486\n",
              "21  100.0  83.632034  0.163680\n",
              "22   90.0  86.322960  0.036770\n",
              "23  100.0  97.647102  0.023529\n",
              "24   80.0  88.591248  0.085912\n",
              "25   40.0  70.952225  0.309522\n",
              "26  100.0  75.319885  0.246801\n",
              "27   40.0  87.840935  0.478409\n",
              "28   30.0  67.984856  0.379849\n",
              "29   80.0  55.876820  0.241232\n",
              "30   60.0  12.875385  0.471246\n",
              "31  100.0  75.139687  0.248603\n",
              "32   10.0  67.546501  0.575465\n",
              "33  100.0  68.700584  0.312994\n",
              "34   90.0  89.200661  0.007993\n",
              "35   60.0  59.856873  0.001431\n",
              "36   90.0  75.139687  0.148603\n",
              "37   80.0  85.672340  0.056723\n",
              "38   80.0  75.319885  0.046801\n",
              "39  100.0  86.322960  0.136770\n",
              "40   90.0  97.647102  0.076471\n",
              "41   80.0  84.835777  0.048358\n",
              "42   80.0  83.632034  0.036320\n",
              "43  100.0  86.327438  0.136726"
            ]
          },
          "execution_count": 57,
          "metadata": {},
          "output_type": "execute_result"
        }
      ],
      "source": [
        "pd.DataFrame({'true':y_test_num*100, 'predict':pred_test_tree*100, 'mse':[mean_absolute_error([i[0]],[i[1]]) for i in list(zip(y_test_num,pred_test_tree))]})"
      ]
    },
    {
      "cell_type": "code",
      "execution_count": null,
      "metadata": {
        "colab": {
          "base_uri": "https://localhost:8080/",
          "height": 410
        },
        "id": "_3wrrQKEAVdA",
        "outputId": "0a109eec-f0f1-4a5c-88df-040c10941bcc"
      },
      "outputs": [
        {
          "name": "stdout",
          "output_type": "stream",
          "text": [
            "-------------FITTING MODELS-------------\n"
          ]
        },
        {
          "name": "stderr",
          "output_type": "stream",
          "text": [
            "[Parallel(n_jobs=-1)]: Using backend LokyBackend with 2 concurrent workers.\n",
            "[Parallel(n_jobs=-1)]: Done   1 tasks      | elapsed:    0.1s\n",
            "[Parallel(n_jobs=-1)]: Batch computation too fast (0.0560s.) Setting batch_size=2.\n",
            "[Parallel(n_jobs=-1)]: Done   4 tasks      | elapsed:    0.3s\n",
            "[Parallel(n_jobs=-1)]: Done   6 out of   9 | elapsed:    0.4s remaining:    0.2s\n",
            "[Parallel(n_jobs=-1)]: Done   7 out of   9 | elapsed:    2.0s remaining:    0.6s\n",
            "[Parallel(n_jobs=-1)]: Done   9 out of   9 | elapsed:    2.5s remaining:    0.0s\n",
            "[Parallel(n_jobs=-1)]: Done   9 out of   9 | elapsed:    2.5s finished\n",
            "[Parallel(n_jobs=-1)]: Using backend LokyBackend with 2 concurrent workers.\n",
            "[Parallel(n_jobs=-1)]: Done   6 out of   9 | elapsed:    0.1s remaining:    0.0s\n",
            "[Parallel(n_jobs=-1)]: Done   9 out of   9 | elapsed:    0.2s finished\n"
          ]
        },
        {
          "name": "stdout",
          "output_type": "stream",
          "text": [
            "-------------SCORING MODELS-------------\n"
          ]
        },
        {
          "data": {
            "image/png": "[encoded data removed]",
            "text/plain": [
              "<Figure size 144x144 with 2 Axes>"
            ]
          },
          "metadata": {
            "needs_background": "light"
          },
          "output_type": "display_data"
        },
        {
          "name": "stdout",
          "output_type": "stream",
          "text": [
            "XGBRegressor(missing=nan, n_estimators=10000, objective='reg:logistic') 0.21100114793940025\n"
          ]
        }
      ],
      "source": [
        "grid = {\n",
        "    'n_estimators': [100, 1000, 10000],\n",
        "    'objective'  : ['reg:logistic', 'reg:squarederror', 'reg:tweedie'],\n",
        "}\n",
        "\n",
        "paramGrid = ParameterGrid(grid)\n",
        "bestModel, bestScore, allModels, allScores = pf.bestFit(xgboost.XGBRegressor, paramGrid,\n",
        "           x_train_sim, y_train_num, \n",
        "           X_val=x_test_sim, y_val=y_test_num,  \n",
        "           metric = mean_absolute_error,\n",
        "           )\n",
        "print(bestModel, bestScore)"
      ]
    },
    {
      "cell_type": "code",
      "execution_count": null,
      "metadata": {
        "colab": {
          "base_uri": "https://localhost:8080/"
        },
        "id": "9hv02j-NAVdA",
        "outputId": "93403125-00a9-43a6-dd52-1c7c47501f64"
      },
      "outputs": [
        {
          "name": "stdout",
          "output_type": "stream",
          "text": [
            "0.1644536482101354\n",
            "0.5129183042067329\n"
          ]
        }
      ],
      "source": [
        "xgb_r = xgboost.XGBRegressor(objective=\"reg:tweedie\",\n",
        "                  n_estimators = 100)\n",
        "\n",
        "xgb_r.fit(x_train_sim, y_train_num)\n",
        "\n",
        "pred_train_tree= xgb_r.predict(x_train_sim)\n",
        "print(np.sqrt(mean_squared_error(y_train_num,pred_train_tree)))\n",
        "print(r2_score(y_train_num, pred_train_tree))"
      ]
    },
    {
      "cell_type": "code",
      "execution_count": null,
      "metadata": {
        "colab": {
          "base_uri": "https://localhost:8080/"
        },
        "id": "n80Tr6RJAVdA",
        "outputId": "29362d77-c69d-45ab-b3f3-dd322392c2f2"
      },
      "outputs": [
        {
          "name": "stdout",
          "output_type": "stream",
          "text": [
            "0.22474021263970487\n",
            "0.3111876309430136\n"
          ]
        }
      ],
      "source": [
        "pred_test_tree= xgb_r.predict(x_test_sim)\n",
        "print(np.sqrt(mean_squared_error(y_test_num,pred_test_tree)))\n",
        "print(r2_score(y_test_num, pred_test_tree))"
      ]
    },
    {
      "cell_type": "markdown",
      "metadata": {
        "id": "uU3-fbZRsevQ"
      },
      "source": [
        "nilai R2 data testing mengingkat tetapi R2 data train juga menurun. ini karena model sudah tidak overfit dan nilai prediksi rendah"
      ]
    },
    {
      "cell_type": "markdown",
      "metadata": {
        "id": "4uf5pnr-cOYq"
      },
      "source": [
        "### regression report"
      ]
    },
    {
      "cell_type": "code",
      "execution_count": null,
      "metadata": {
        "colab": {
          "base_uri": "https://localhost:8080/",
          "height": 1000
        },
        "id": "DlANCRnbAVdA",
        "outputId": "2340cc36-eba5-4e08-e9e5-24e40f70aaf6"
      },
      "outputs": [
        {
          "data": {
            "text/html": [
              "\n",
              "  <div id=\"df-ee68097b-7de8-49ef-93d4-421106ca17a4\">\n",
              "    <div class=\"colab-df-container\">\n",
              "      <div>\n",
              "<style scoped>\n",
              "    .dataframe tbody tr th:only-of-type {\n",
              "        vertical-align: middle;\n",
              "    }\n",
              "\n",
              "    .dataframe tbody tr th {\n",
              "        vertical-align: top;\n",
              "    }\n",
              "\n",
              "    .dataframe thead th {\n",
              "        text-align: right;\n",
              "    }\n",
              "</style>\n",
              "<table border=\"1\" class=\"dataframe\">\n",
              "  <thead>\n",
              "    <tr style=\"text-align: right;\">\n",
              "      <th></th>\n",
              "      <th>true</th>\n",
              "      <th>predict</th>\n",
              "      <th>mae</th>\n",
              "    </tr>\n",
              "  </thead>\n",
              "  <tbody>\n",
              "    <tr>\n",
              "      <th>0</th>\n",
              "      <td>90.0</td>\n",
              "      <td>84.809914</td>\n",
              "      <td>0.051901</td>\n",
              "    </tr>\n",
              "    <tr>\n",
              "      <th>1</th>\n",
              "      <td>40.0</td>\n",
              "      <td>79.251884</td>\n",
              "      <td>0.392519</td>\n",
              "    </tr>\n",
              "    <tr>\n",
              "      <th>2</th>\n",
              "      <td>30.0</td>\n",
              "      <td>76.694618</td>\n",
              "      <td>0.466946</td>\n",
              "    </tr>\n",
              "    <tr>\n",
              "      <th>3</th>\n",
              "      <td>20.0</td>\n",
              "      <td>77.569870</td>\n",
              "      <td>0.575699</td>\n",
              "    </tr>\n",
              "    <tr>\n",
              "      <th>4</th>\n",
              "      <td>80.0</td>\n",
              "      <td>86.481354</td>\n",
              "      <td>0.064814</td>\n",
              "    </tr>\n",
              "    <tr>\n",
              "      <th>5</th>\n",
              "      <td>90.0</td>\n",
              "      <td>83.746338</td>\n",
              "      <td>0.062537</td>\n",
              "    </tr>\n",
              "    <tr>\n",
              "      <th>6</th>\n",
              "      <td>50.0</td>\n",
              "      <td>78.234573</td>\n",
              "      <td>0.282346</td>\n",
              "    </tr>\n",
              "    <tr>\n",
              "      <th>7</th>\n",
              "      <td>90.0</td>\n",
              "      <td>83.581558</td>\n",
              "      <td>0.064184</td>\n",
              "    </tr>\n",
              "    <tr>\n",
              "      <th>8</th>\n",
              "      <td>90.0</td>\n",
              "      <td>80.356033</td>\n",
              "      <td>0.096440</td>\n",
              "    </tr>\n",
              "    <tr>\n",
              "      <th>9</th>\n",
              "      <td>100.0</td>\n",
              "      <td>86.103935</td>\n",
              "      <td>0.138961</td>\n",
              "    </tr>\n",
              "    <tr>\n",
              "      <th>10</th>\n",
              "      <td>0.0</td>\n",
              "      <td>30.271620</td>\n",
              "      <td>0.302716</td>\n",
              "    </tr>\n",
              "    <tr>\n",
              "      <th>11</th>\n",
              "      <td>100.0</td>\n",
              "      <td>83.746338</td>\n",
              "      <td>0.162537</td>\n",
              "    </tr>\n",
              "    <tr>\n",
              "      <th>12</th>\n",
              "      <td>100.0</td>\n",
              "      <td>82.130569</td>\n",
              "      <td>0.178694</td>\n",
              "    </tr>\n",
              "    <tr>\n",
              "      <th>13</th>\n",
              "      <td>100.0</td>\n",
              "      <td>80.356033</td>\n",
              "      <td>0.196440</td>\n",
              "    </tr>\n",
              "    <tr>\n",
              "      <th>14</th>\n",
              "      <td>100.0</td>\n",
              "      <td>83.700577</td>\n",
              "      <td>0.162994</td>\n",
              "    </tr>\n",
              "    <tr>\n",
              "      <th>15</th>\n",
              "      <td>90.0</td>\n",
              "      <td>82.162163</td>\n",
              "      <td>0.078378</td>\n",
              "    </tr>\n",
              "    <tr>\n",
              "      <th>16</th>\n",
              "      <td>80.0</td>\n",
              "      <td>84.809914</td>\n",
              "      <td>0.048099</td>\n",
              "    </tr>\n",
              "    <tr>\n",
              "      <th>17</th>\n",
              "      <td>80.0</td>\n",
              "      <td>80.563736</td>\n",
              "      <td>0.005637</td>\n",
              "    </tr>\n",
              "    <tr>\n",
              "      <th>18</th>\n",
              "      <td>100.0</td>\n",
              "      <td>82.162163</td>\n",
              "      <td>0.178378</td>\n",
              "    </tr>\n",
              "    <tr>\n",
              "      <th>19</th>\n",
              "      <td>60.0</td>\n",
              "      <td>79.251884</td>\n",
              "      <td>0.192519</td>\n",
              "    </tr>\n",
              "    <tr>\n",
              "      <th>20</th>\n",
              "      <td>70.0</td>\n",
              "      <td>81.979195</td>\n",
              "      <td>0.119792</td>\n",
              "    </tr>\n",
              "    <tr>\n",
              "      <th>21</th>\n",
              "      <td>100.0</td>\n",
              "      <td>83.700577</td>\n",
              "      <td>0.162994</td>\n",
              "    </tr>\n",
              "    <tr>\n",
              "      <th>22</th>\n",
              "      <td>90.0</td>\n",
              "      <td>83.746338</td>\n",
              "      <td>0.062537</td>\n",
              "    </tr>\n",
              "    <tr>\n",
              "      <th>23</th>\n",
              "      <td>100.0</td>\n",
              "      <td>84.809914</td>\n",
              "      <td>0.151901</td>\n",
              "    </tr>\n",
              "    <tr>\n",
              "      <th>24</th>\n",
              "      <td>80.0</td>\n",
              "      <td>83.700577</td>\n",
              "      <td>0.037006</td>\n",
              "    </tr>\n",
              "    <tr>\n",
              "      <th>25</th>\n",
              "      <td>40.0</td>\n",
              "      <td>77.037689</td>\n",
              "      <td>0.370377</td>\n",
              "    </tr>\n",
              "    <tr>\n",
              "      <th>26</th>\n",
              "      <td>100.0</td>\n",
              "      <td>77.569870</td>\n",
              "      <td>0.224301</td>\n",
              "    </tr>\n",
              "    <tr>\n",
              "      <th>27</th>\n",
              "      <td>40.0</td>\n",
              "      <td>83.700577</td>\n",
              "      <td>0.437006</td>\n",
              "    </tr>\n",
              "    <tr>\n",
              "      <th>28</th>\n",
              "      <td>30.0</td>\n",
              "      <td>63.657654</td>\n",
              "      <td>0.336577</td>\n",
              "    </tr>\n",
              "    <tr>\n",
              "      <th>29</th>\n",
              "      <td>80.0</td>\n",
              "      <td>70.374107</td>\n",
              "      <td>0.096259</td>\n",
              "    </tr>\n",
              "    <tr>\n",
              "      <th>30</th>\n",
              "      <td>60.0</td>\n",
              "      <td>30.436733</td>\n",
              "      <td>0.295633</td>\n",
              "    </tr>\n",
              "    <tr>\n",
              "      <th>31</th>\n",
              "      <td>100.0</td>\n",
              "      <td>79.251884</td>\n",
              "      <td>0.207481</td>\n",
              "    </tr>\n",
              "    <tr>\n",
              "      <th>32</th>\n",
              "      <td>10.0</td>\n",
              "      <td>62.547474</td>\n",
              "      <td>0.525475</td>\n",
              "    </tr>\n",
              "    <tr>\n",
              "      <th>33</th>\n",
              "      <td>100.0</td>\n",
              "      <td>78.746567</td>\n",
              "      <td>0.212534</td>\n",
              "    </tr>\n",
              "    <tr>\n",
              "      <th>34</th>\n",
              "      <td>90.0</td>\n",
              "      <td>79.251884</td>\n",
              "      <td>0.107481</td>\n",
              "    </tr>\n",
              "    <tr>\n",
              "      <th>35</th>\n",
              "      <td>60.0</td>\n",
              "      <td>58.632492</td>\n",
              "      <td>0.013675</td>\n",
              "    </tr>\n",
              "    <tr>\n",
              "      <th>36</th>\n",
              "      <td>90.0</td>\n",
              "      <td>79.251884</td>\n",
              "      <td>0.107481</td>\n",
              "    </tr>\n",
              "    <tr>\n",
              "      <th>37</th>\n",
              "      <td>80.0</td>\n",
              "      <td>82.162163</td>\n",
              "      <td>0.021622</td>\n",
              "    </tr>\n",
              "    <tr>\n",
              "      <th>38</th>\n",
              "      <td>80.0</td>\n",
              "      <td>77.569870</td>\n",
              "      <td>0.024301</td>\n",
              "    </tr>\n",
              "    <tr>\n",
              "      <th>39</th>\n",
              "      <td>100.0</td>\n",
              "      <td>83.746338</td>\n",
              "      <td>0.162537</td>\n",
              "    </tr>\n",
              "    <tr>\n",
              "      <th>40</th>\n",
              "      <td>90.0</td>\n",
              "      <td>84.809914</td>\n",
              "      <td>0.051901</td>\n",
              "    </tr>\n",
              "    <tr>\n",
              "      <th>41</th>\n",
              "      <td>80.0</td>\n",
              "      <td>80.356033</td>\n",
              "      <td>0.003560</td>\n",
              "    </tr>\n",
              "    <tr>\n",
              "      <th>42</th>\n",
              "      <td>80.0</td>\n",
              "      <td>83.700577</td>\n",
              "      <td>0.037006</td>\n",
              "    </tr>\n",
              "    <tr>\n",
              "      <th>43</th>\n",
              "      <td>100.0</td>\n",
              "      <td>83.819130</td>\n",
              "      <td>0.161809</td>\n",
              "    </tr>\n",
              "  </tbody>\n",
              "</table>\n",
              "</div>\n",
              "      <button class=\"colab-df-convert\" onclick=\"convertToInteractive('df-ee68097b-7de8-49ef-93d4-421106ca17a4')\"\n",
              "              title=\"Convert this dataframe to an interactive table.\"\n",
              "              style=\"display:none;\">\n",
              "        \n",
              "  <svg xmlns=\"http://www.w3.org/2000/svg\" height=\"24px\"viewBox=\"0 0 24 24\"\n",
              "       width=\"24px\">\n",
              "    <path d=\"M0 0h24v24H0V0z\" fill=\"none\"/>\n",
              "    <path d=\"M18.56 5.44l.94 2.06.94-2.06 2.06-.94-2.06-.94-.94-2.06-.94 2.06-2.06.94zm-11 1L8.5 8.5l.94-2.06 2.06-.94-2.06-.94L8.5 2.5l-.94 2.06-2.06.94zm10 10l.94 2.06.94-2.06 2.06-.94-2.06-.94-.94-2.06-.94 2.06-2.06.94z\"/><path d=\"M17.41 7.96l-1.37-1.37c-.4-.4-.92-.59-1.43-.59-.52 0-1.04.2-1.43.59L10.3 9.45l-7.72 7.72c-.78.78-.78 2.05 0 2.83L4 21.41c.39.39.9.59 1.41.59.51 0 1.02-.2 1.41-.59l7.78-7.78 2.81-2.81c.8-.78.8-2.07 0-2.86zM5.41 20L4 18.59l7.72-7.72 1.47 1.35L5.41 20z\"/>\n",
              "  </svg>\n",
              "      </button>\n",
              "      \n",
              "  <style>\n",
              "    .colab-df-container {\n",
              "      display:flex;\n",
              "      flex-wrap:wrap;\n",
              "      gap: 12px;\n",
              "    }\n",
              "\n",
              "    .colab-df-convert {\n",
              "      background-color: #E8F0FE;\n",
              "      border: none;\n",
              "      border-radius: 50%;\n",
              "      cursor: pointer;\n",
              "      display: none;\n",
              "      fill: #1967D2;\n",
              "      height: 32px;\n",
              "      padding: 0 0 0 0;\n",
              "      width: 32px;\n",
              "    }\n",
              "\n",
              "    .colab-df-convert:hover {\n",
              "      background-color: #E2EBFA;\n",
              "      box-shadow: 0px 1px 2px rgba(60, 64, 67, 0.3), 0px 1px 3px 1px rgba(60, 64, 67, 0.15);\n",
              "      fill: #174EA6;\n",
              "    }\n",
              "\n",
              "    [theme=dark] .colab-df-convert {\n",
              "      background-color: #3B4455;\n",
              "      fill: #D2E3FC;\n",
              "    }\n",
              "\n",
              "    [theme=dark] .colab-df-convert:hover {\n",
              "      background-color: #434B5C;\n",
              "      box-shadow: 0px 1px 3px 1px rgba(0, 0, 0, 0.15);\n",
              "      filter: drop-shadow(0px 1px 2px rgba(0, 0, 0, 0.3));\n",
              "      fill: #FFFFFF;\n",
              "    }\n",
              "  </style>\n",
              "\n",
              "      <script>\n",
              "        const buttonEl =\n",
              "          document.querySelector('#df-ee68097b-7de8-49ef-93d4-421106ca17a4 button.colab-df-convert');\n",
              "        buttonEl.style.display =\n",
              "          google.colab.kernel.accessAllowed ? 'block' : 'none';\n",
              "\n",
              "        async function convertToInteractive(key) {\n",
              "          const element = document.querySelector('#df-ee68097b-7de8-49ef-93d4-421106ca17a4');\n",
              "          const dataTable =\n",
              "            await google.colab.kernel.invokeFunction('convertToInteractive',\n",
              "                                                     [key], {});\n",
              "          if (!dataTable) return;\n",
              "\n",
              "          const docLinkHtml = 'Like what you see? Visit the ' +\n",
              "            '<a target=\"_blank\" href=https://colab.research.google.com/notebooks/data_table.ipynb>data table notebook</a>'\n",
              "            + ' to learn more about interactive tables.';\n",
              "          element.innerHTML = '';\n",
              "          dataTable['output_type'] = 'display_data';\n",
              "          await google.colab.output.renderOutput(dataTable, element);\n",
              "          const docLink = document.createElement('div');\n",
              "          docLink.innerHTML = docLinkHtml;\n",
              "          element.appendChild(docLink);\n",
              "        }\n",
              "      </script>\n",
              "    </div>\n",
              "  </div>\n",
              "  "
            ],
            "text/plain": [
              "     true    predict       mae\n",
              "0    90.0  84.809914  0.051901\n",
              "1    40.0  79.251884  0.392519\n",
              "2    30.0  76.694618  0.466946\n",
              "3    20.0  77.569870  0.575699\n",
              "4    80.0  86.481354  0.064814\n",
              "5    90.0  83.746338  0.062537\n",
              "6    50.0  78.234573  0.282346\n",
              "7    90.0  83.581558  0.064184\n",
              "8    90.0  80.356033  0.096440\n",
              "9   100.0  86.103935  0.138961\n",
              "10    0.0  30.271620  0.302716\n",
              "11  100.0  83.746338  0.162537\n",
              "12  100.0  82.130569  0.178694\n",
              "13  100.0  80.356033  0.196440\n",
              "14  100.0  83.700577  0.162994\n",
              "15   90.0  82.162163  0.078378\n",
              "16   80.0  84.809914  0.048099\n",
              "17   80.0  80.563736  0.005637\n",
              "18  100.0  82.162163  0.178378\n",
              "19   60.0  79.251884  0.192519\n",
              "20   70.0  81.979195  0.119792\n",
              "21  100.0  83.700577  0.162994\n",
              "22   90.0  83.746338  0.062537\n",
              "23  100.0  84.809914  0.151901\n",
              "24   80.0  83.700577  0.037006\n",
              "25   40.0  77.037689  0.370377\n",
              "26  100.0  77.569870  0.224301\n",
              "27   40.0  83.700577  0.437006\n",
              "28   30.0  63.657654  0.336577\n",
              "29   80.0  70.374107  0.096259\n",
              "30   60.0  30.436733  0.295633\n",
              "31  100.0  79.251884  0.207481\n",
              "32   10.0  62.547474  0.525475\n",
              "33  100.0  78.746567  0.212534\n",
              "34   90.0  79.251884  0.107481\n",
              "35   60.0  58.632492  0.013675\n",
              "36   90.0  79.251884  0.107481\n",
              "37   80.0  82.162163  0.021622\n",
              "38   80.0  77.569870  0.024301\n",
              "39  100.0  83.746338  0.162537\n",
              "40   90.0  84.809914  0.051901\n",
              "41   80.0  80.356033  0.003560\n",
              "42   80.0  83.700577  0.037006\n",
              "43  100.0  83.819130  0.161809"
            ]
          },
          "execution_count": 61,
          "metadata": {},
          "output_type": "execute_result"
        }
      ],
      "source": [
        "pd.DataFrame({'true':y_test_num*100, 'predict':pred_test_tree*100, 'mae':[mean_absolute_error([i[0]],[i[1]]) for i in list(zip(y_test_num,pred_test_tree))]})"
      ]
    },
    {
      "cell_type": "markdown",
      "metadata": {
        "id": "OtWuvWbJcaNn"
      },
      "source": [
        "## Penjelasan\n",
        "\n",
        "Decission Tree dan XGBost dipilih sebagai regressor karena keduanya cenderung bisa dipakai untuk data yang nonlinier dan firutnya banyak. Kedua regressor tidak dapat mengeneralisasi model. hasil R2 negatif berarti model tidak dapat mengikuti trend. R2 Negetif terjadi pada Decission Tree Regressor. ini berarti modeling bersifat overfitting. tapi ada juga nilai R2 yang menjadi lebih > 0 setelah fine tuning pada model XGBoost Regressor, walaupun begitu nilai R2 tidak lebih dari 50%, artinya model masih belum baik. nilai \"similarity\" tidak cocok untuk dijadikan fitur secara regresi untuk memprediksi human_rater. jika dilihat dari regression report nilai error kecil dan hasil prediksi cenderung mirip dengan target"
      ]
    },
    {
      "cell_type": "markdown",
      "metadata": {
        "id": "oTaQWuZR56iz"
      },
      "source": [
        "# Modeling dengan word2vec Random Forest Classifier [15]"
      ]
    },
    {
      "cell_type": "code",
      "execution_count": null,
      "metadata": {
        "colab": {
          "base_uri": "https://localhost:8080/"
        },
        "id": "lC_ffSYd6C5w",
        "outputId": "14e78fff-c4cb-4d40-9383-977b35e69a38"
      },
      "outputs": [
        {
          "name": "stdout",
          "output_type": "stream",
          "text": [
            "0.9942857142857143 \n",
            "\n",
            "accuracy training               precision    recall  f1-score   support\n",
            "\n",
            "           0       1.00      1.00      1.00         1\n",
            "           1       1.00      1.00      1.00         3\n",
            "           2       0.83      1.00      0.91         5\n",
            "           3       1.00      1.00      1.00         4\n",
            "           4       1.00      1.00      1.00         9\n",
            "           5       1.00      0.86      0.92         7\n",
            "           6       1.00      1.00      1.00        23\n",
            "           7       1.00      1.00      1.00        18\n",
            "           8       1.00      1.00      1.00        33\n",
            "           9       1.00      1.00      1.00        28\n",
            "          10       1.00      1.00      1.00        44\n",
            "\n",
            "    accuracy                           0.99       175\n",
            "   macro avg       0.98      0.99      0.98       175\n",
            "weighted avg       1.00      0.99      0.99       175\n",
            "\n"
          ]
        }
      ],
      "source": [
        "rf = RandomForestClassifier()\n",
        "rf_model = rf.fit(X_train_vect_avg_fuse, y_train)\n",
        "\n",
        "print(rf_model.score(X_train_vect_avg_fuse, y_train),\"\\n\")\n",
        "print(\"accuracy training\", classification_report(y_train, rf_model.predict(X_train_vect_avg_fuse)))"
      ]
    },
    {
      "cell_type": "code",
      "execution_count": null,
      "metadata": {
        "colab": {
          "base_uri": "https://localhost:8080/"
        },
        "id": "zuHNMhgJ6cW6",
        "outputId": "b971d24a-ee7b-4b28-d19a-eadfb6276091"
      },
      "outputs": [
        {
          "name": "stdout",
          "output_type": "stream",
          "text": [
            "              precision    recall  f1-score   support\n",
            "\n",
            "           0       0.00      0.00      0.00         1\n",
            "           1       0.00      0.00      0.00         1\n",
            "           2       0.00      0.00      0.00         1\n",
            "           3       0.00      0.00      0.00         2\n",
            "           4       0.00      0.00      0.00         3\n",
            "           5       0.00      0.00      0.00         1\n",
            "           6       0.00      0.00      0.00         3\n",
            "           7       0.00      0.00      0.00         1\n",
            "           8       0.20      1.00      0.34         9\n",
            "           9       0.00      0.00      0.00         9\n",
            "          10       0.00      0.00      0.00        13\n",
            "\n",
            "    accuracy                           0.20        44\n",
            "   macro avg       0.02      0.09      0.03        44\n",
            "weighted avg       0.04      0.20      0.07        44\n",
            "\n"
          ]
        }
      ],
      "source": [
        "y_pred = rf_model.predict(X_test_vect_avg_fuse)\n",
        "print(classification_report(y_test, y_pred))"
      ]
    },
    {
      "cell_type": "markdown",
      "metadata": {
        "id": "FP3JguE37Ovt"
      },
      "source": [
        "## hyperparameter tuning randomforest classifier [12]"
      ]
    },
    {
      "cell_type": "code",
      "execution_count": null,
      "metadata": {
        "colab": {
          "base_uri": "https://localhost:8080/",
          "height": 322
        },
        "id": "rDGwHiPv7V6J",
        "outputId": "43003047-9754-4b25-f35f-bcf0660ca3c5"
      },
      "outputs": [
        {
          "name": "stdout",
          "output_type": "stream",
          "text": [
            "-------------FITTING MODELS-------------\n"
          ]
        },
        {
          "name": "stderr",
          "output_type": "stream",
          "text": [
            "[Parallel(n_jobs=-1)]: Using backend LokyBackend with 2 concurrent workers.\n",
            "[Parallel(n_jobs=-1)]: Done   1 tasks      | elapsed:    0.7s\n",
            "[Parallel(n_jobs=-1)]: Done   4 out of   6 | elapsed:   14.3s remaining:    7.2s\n"
          ]
        },
        {
          "name": "stdout",
          "output_type": "stream",
          "text": [
            "-------------SCORING MODELS-------------\n"
          ]
        },
        {
          "name": "stderr",
          "output_type": "stream",
          "text": [
            "[Parallel(n_jobs=-1)]: Done   6 out of   6 | elapsed:  1.2min remaining:    0.0s\n",
            "[Parallel(n_jobs=-1)]: Done   6 out of   6 | elapsed:  1.2min finished\n",
            "[Parallel(n_jobs=-1)]: Using backend LokyBackend with 2 concurrent workers.\n",
            "[Parallel(n_jobs=-1)]: Done   6 out of   6 | elapsed:   24.4s finished\n"
          ]
        },
        {
          "data": {
            "image/png": "[encoded data removed]",
            "text/plain": [
              "<Figure size 144x144 with 2 Axes>"
            ]
          },
          "metadata": {
            "needs_background": "light"
          },
          "output_type": "display_data"
        },
        {
          "name": "stdout",
          "output_type": "stream",
          "text": [
            "RandomForestClassifier(n_estimators=1000, n_jobs=-1) 0.20454545454545456\n"
          ]
        }
      ],
      "source": [
        "grid = {\n",
        "    'n_estimators': [100, 1000, 10000],\n",
        "    'criterion'  : ['gini', 'entropy'],\n",
        "    'n_jobs': [-1],\n",
        "}\n",
        "paramGrid = ParameterGrid(grid)\n",
        "bestModel, bestScore, allModels, allScores = pf.bestFit(RandomForestClassifier, paramGrid,\n",
        "           X_train_vect_avg_fuse, y_train, \n",
        "           X_val=X_test_vect_avg_fuse, y_val=y_test,  \n",
        "           metric = accuracy_score,\n",
        "           )\n",
        "print(bestModel, bestScore)"
      ]
    },
    {
      "cell_type": "markdown",
      "metadata": {
        "id": "8wMvck2z72im"
      },
      "source": [
        "## menerapkan finetuning random forest classifier"
      ]
    },
    {
      "cell_type": "code",
      "execution_count": null,
      "metadata": {
        "colab": {
          "base_uri": "https://localhost:8080/"
        },
        "id": "68Uw0_vS7oQT",
        "outputId": "cfab5ce7-7407-4229-d1ca-943335f31d05"
      },
      "outputs": [
        {
          "name": "stdout",
          "output_type": "stream",
          "text": [
            "accuracy training 0.9942857142857143 \n",
            "\n"
          ]
        }
      ],
      "source": [
        "rf = RandomForestClassifier(n_estimators=1000)\n",
        "\n",
        "rf_model = rf.fit(X_train_vect_avg_fuse, y_train)\n",
        "\n",
        "print(\"accuracy training\", rf_model.score(X_train_vect_avg_fuse, y_train),\"\\n\")"
      ]
    },
    {
      "cell_type": "markdown",
      "metadata": {
        "id": "ohsO8B9RNLAb"
      },
      "source": [
        "## classification report"
      ]
    },
    {
      "cell_type": "code",
      "execution_count": null,
      "metadata": {
        "colab": {
          "base_uri": "https://localhost:8080/"
        },
        "id": "udVHU3fj7vXJ",
        "outputId": "bd948ef4-35df-42f9-e9bd-660bba6595a6"
      },
      "outputs": [
        {
          "name": "stdout",
          "output_type": "stream",
          "text": [
            "              precision    recall  f1-score   support\n",
            "\n",
            "           0       0.00      0.00      0.00         1\n",
            "           1       0.00      0.00      0.00         1\n",
            "           2       0.00      0.00      0.00         1\n",
            "           3       0.00      0.00      0.00         2\n",
            "           4       0.00      0.00      0.00         3\n",
            "           5       0.00      0.00      0.00         1\n",
            "           6       0.00      0.00      0.00         3\n",
            "           7       0.00      0.00      0.00         1\n",
            "           8       0.20      1.00      0.34         9\n",
            "           9       0.00      0.00      0.00         9\n",
            "          10       0.00      0.00      0.00        13\n",
            "\n",
            "    accuracy                           0.20        44\n",
            "   macro avg       0.02      0.09      0.03        44\n",
            "weighted avg       0.04      0.20      0.07        44\n",
            "\n"
          ]
        }
      ],
      "source": [
        "y_pred = rf_model.predict(X_test_vect_avg_fuse)\n",
        "print(classification_report(y_test, y_pred))"
      ]
    },
    {
      "cell_type": "code",
      "execution_count": null,
      "metadata": {
        "colab": {
          "base_uri": "https://localhost:8080/",
          "height": 282
        },
        "id": "wW5ID92l77Co",
        "outputId": "185fe9ad-1c00-42dc-c877-d71769382661"
      },
      "outputs": [
        {
          "data": {
            "text/plain": [
              "<matplotlib.axes._subplots.AxesSubplot at 0x7fc633aa8050>"
            ]
          },
          "execution_count": 87,
          "metadata": {},
          "output_type": "execute_result"
        },
        {
          "data": {
            "image/png": "[encoded data removed]",
            "text/plain": [
              "<Figure size 432x288 with 2 Axes>"
            ]
          },
          "metadata": {
            "needs_background": "light"
          },
          "output_type": "display_data"
        }
      ],
      "source": [
        "from sklearn.metrics import confusion_matrix\n",
        "\n",
        "confusion_matrix = confusion_matrix(y_test, y_pred)\n",
        "\n",
        "cm_array_df = pd.DataFrame(confusion_matrix, index=target_names, columns=target_names)\n",
        "sns.heatmap(cm_array_df, annot=True, annot_kws={\"size\": 12}) "
      ]
    },
    {
      "cell_type": "markdown",
      "metadata": {
        "id": "U_4H2uJqdF9g"
      },
      "source": [
        "## Penjelasan\n",
        "\n",
        "nilai akurasi yang didapat pada data testing terlalu kecil 20-30%. ini menyatakan model ini tidak baik. menggunaan word2vec dengan metode penggabunagn \"jawaban_dosen\" dan \"jawaban_mahasiswa\" tidak cocok. pada classification report terlihat model cenderung memprediksi pada kelas 80 saja. false positif dari kelas lain cenderung ke arah kelas 80. hal itu karena banyak word vector yang mirip dengan kelas lain ada pada kelas 80 dan ketidakseimbangan kelas. nilai recall tertinggi ada pada kelas 80 dan precissionnya bernilai 0.2. ini menandakan true positifnya paling besar diantara kelas lainnya. semua kelas nilai lain gagal diprediksi. true positif tidak ada pada kelas lain."
      ]
    },
    {
      "cell_type": "markdown",
      "metadata": {
        "id": "o4tMuVVJYbTD"
      },
      "source": [
        "# Modeling dengan Deep Learning LSTM Sederhana secara Categorical [14]"
      ]
    },
    {
      "cell_type": "markdown",
      "metadata": {
        "id": "2E75kOcjbCNY"
      },
      "source": [
        "generate label encoding ke categorical encoding untuk keperluan prediksi categorical"
      ]
    },
    {
      "cell_type": "code",
      "execution_count": null,
      "metadata": {
        "id": "0aAyH3yVyIbf"
      },
      "outputs": [],
      "source": [
        "y_train_cate = to_categorical(y_train)\n",
        "y_test_cate = to_categorical(y_test)"
      ]
    },
    {
      "cell_type": "markdown",
      "metadata": {
        "id": "Fmp2B4q8bMar"
      },
      "source": [
        "generate label encoding ke categorical encoding untuk keperluan prediksi regresi/continious"
      ]
    },
    {
      "cell_type": "code",
      "execution_count": null,
      "metadata": {
        "id": "i5r8p0I0F3Ev"
      },
      "outputs": [],
      "source": [
        "y_train_num = data_train[\"human_rater\"]/100\n",
        "y_test_num = data_test[\"human_rater\"]/100"
      ]
    },
    {
      "cell_type": "code",
      "execution_count": null,
      "metadata": {
        "id": "QzyJA5_-6Ah3"
      },
      "outputs": [],
      "source": [
        "tokenizer = Tokenizer(num_words=500)\n",
        "tokenizer.fit_on_texts(data_train['jawaban_mahasiswa'])\n",
        "\n",
        "X1_train = tokenizer.texts_to_sequences(data_train['jawaban_mahasiswa'])\n",
        "X1_test = tokenizer.texts_to_sequences(data_test['jawaban_mahasiswa'])\n",
        "\n",
        "vocab_size = len(tokenizer.word_index) + 1\n",
        "\n",
        "maxlen = 200\n",
        "\n",
        "X1_train = pad_sequences(X1_train, padding='post', maxlen=maxlen)\n",
        "X1_test = pad_sequences(X1_test, padding='post', maxlen=maxlen)"
      ]
    },
    {
      "cell_type": "code",
      "execution_count": null,
      "metadata": {
        "id": "7SgY6Ary8O-r"
      },
      "outputs": [],
      "source": [
        "embeddings_dictionary = dict()\n",
        "\n",
        "embedding_matrix = np.zeros((vocab_size, 100))\n",
        "for word, index in tokenizer.word_index.items():\n",
        "    embedding_vector = embeddings_dictionary.get(word)\n",
        "    if embedding_vector is not None:\n",
        "        embedding_matrix[index] = embedding_vector"
      ]
    },
    {
      "cell_type": "code",
      "execution_count": null,
      "metadata": {
        "id": "GqWs_imP7wGH"
      },
      "outputs": [],
      "source": [
        "tokenizer2 = Tokenizer(num_words=500)\n",
        "tokenizer2.fit_on_texts(data_train['jawaban_dosen'])\n",
        "\n",
        "X2_train = tokenizer2.texts_to_sequences(data_train['jawaban_dosen'])\n",
        "X2_test = tokenizer2.texts_to_sequences(data_test['jawaban_dosen'])\n",
        "\n",
        "vocab_size2 = len(tokenizer2.word_index) + 1\n",
        "\n",
        "maxlen = 200\n",
        "\n",
        "X2_train = pad_sequences(X2_train, padding='post', maxlen=maxlen)\n",
        "X2_test = pad_sequences(X2_test, padding='post', maxlen=maxlen)"
      ]
    },
    {
      "cell_type": "code",
      "execution_count": null,
      "metadata": {
        "id": "xQyZDqi_8ac4"
      },
      "outputs": [],
      "source": [
        "embeddings_dictionary2 = dict()\n",
        "\n",
        "embedding_matrix2 = np.zeros((vocab_size2, 100))\n",
        "for word, index in tokenizer2.word_index.items():\n",
        "    embedding_vector = embeddings_dictionary.get(word)\n",
        "    if embedding_vector is not None:\n",
        "        embedding_matrix2[index] = embedding_vector"
      ]
    },
    {
      "cell_type": "code",
      "execution_count": null,
      "metadata": {
        "id": "XyeGvYF18w9H"
      },
      "outputs": [],
      "source": [
        "X3_train = data_train[['similarity']].values\n",
        "X3_test = data_test[['similarity']].values"
      ]
    },
    {
      "cell_type": "markdown",
      "metadata": {
        "id": "RPJB7wFubVga"
      },
      "source": [
        "modeling deep learning dengan menggunakan 3 input (\"jawaban_mahasiswa\", \"jawaban_dosen\", \"similarity\" dan 1 output(\"human_rater\")"
      ]
    },
    {
      "cell_type": "code",
      "execution_count": null,
      "metadata": {
        "id": "XIJev3Oo8Gm-"
      },
      "outputs": [],
      "source": [
        "input_1 = Input(shape=(maxlen,))\n",
        "input_2 = Input(shape=(maxlen,))\n",
        "input_3 = Input(shape=(1,))"
      ]
    },
    {
      "cell_type": "code",
      "execution_count": null,
      "metadata": {
        "id": "rqfBlsRF9SNu"
      },
      "outputs": [],
      "source": [
        "embedding_layer1 = Embedding(vocab_size, 100, weights=[embedding_matrix], trainable=True)(input_1)\n",
        "LSTM_Layer_1 = LSTM(128)(embedding_layer1)\n",
        "\n",
        "embedding_layer2 = Embedding(vocab_size2, 100, weights=[embedding_matrix2], trainable=True)(input_2)\n",
        "LSTM_Layer_2 = LSTM(128)(embedding_layer2)\n",
        "\n",
        "dense_layer_1 = Dense(10, activation='relu')(input_3)\n",
        "dense_layer_2 = Dense(10, activation='relu')(dense_layer_1)"
      ]
    },
    {
      "cell_type": "code",
      "execution_count": null,
      "metadata": {
        "id": "JWI5X1GP-RDU"
      },
      "outputs": [],
      "source": [
        "concat_layer = Concatenate()([LSTM_Layer_1, LSTM_Layer_2, dense_layer_2])\n",
        "dense_layer_flat = Dense(128, activation='relu')(concat_layer)\n",
        "dense_layer_flat = tf.keras.layers.Dropout(0.2)(dense_layer_flat)\n",
        "dense_layer_flat = Dense(64, activation='relu')(dense_layer_flat)\n",
        "dense_layer_flat = tf.keras.layers.Dropout(0.2)(dense_layer_flat)\n",
        "dense_layer_flat = Dense(32, activation='relu')(dense_layer_flat)\n",
        "output = Dense(11, activation='softmax')(dense_layer_flat)\n",
        "model = Model(inputs=[input_1, input_2, input_3], outputs=output)"
      ]
    },
    {
      "cell_type": "code",
      "execution_count": null,
      "metadata": {
        "colab": {
          "base_uri": "https://localhost:8080/",
          "height": 1000
        },
        "id": "6VY36SAb-plF",
        "outputId": "c91d0bb9-24e8-4598-a698-1b840b850664"
      },
      "outputs": [
        {
          "name": "stdout",
          "output_type": "stream",
          "text": [
            "Model: \"model\"\n",
            "__________________________________________________________________________________________________\n",
            " Layer (type)                   Output Shape         Param #     Connected to                     \n",
            "==================================================================================================\n",
            " input_1 (InputLayer)           [(None, 200)]        0           []                               \n",
            "                                                                                                  \n",
            " input_2 (InputLayer)           [(None, 200)]        0           []                               \n",
            "                                                                                                  \n",
            " input_3 (InputLayer)           [(None, 1)]          0           []                               \n",
            "                                                                                                  \n",
            " embedding (Embedding)          (None, 200, 100)     67600       ['input_1[0][0]']                \n",
            "                                                                                                  \n",
            " embedding_1 (Embedding)        (None, 200, 100)     12300       ['input_2[0][0]']                \n",
            "                                                                                                  \n",
            " dense (Dense)                  (None, 10)           20          ['input_3[0][0]']                \n",
            "                                                                                                  \n",
            " lstm (LSTM)                    (None, 128)          117248      ['embedding[0][0]']              \n",
            "                                                                                                  \n",
            " lstm_1 (LSTM)                  (None, 128)          117248      ['embedding_1[0][0]']            \n",
            "                                                                                                  \n",
            " dense_1 (Dense)                (None, 10)           110         ['dense[0][0]']                  \n",
            "                                                                                                  \n",
            " concatenate (Concatenate)      (None, 266)          0           ['lstm[0][0]',                   \n",
            "                                                                  'lstm_1[0][0]',                 \n",
            "                                                                  'dense_1[0][0]']                \n",
            "                                                                                                  \n",
            " dense_2 (Dense)                (None, 128)          34176       ['concatenate[0][0]']            \n",
            "                                                                                                  \n",
            " dropout (Dropout)              (None, 128)          0           ['dense_2[0][0]']                \n",
            "                                                                                                  \n",
            " dense_3 (Dense)                (None, 64)           8256        ['dropout[0][0]']                \n",
            "                                                                                                  \n",
            " dropout_1 (Dropout)            (None, 64)           0           ['dense_3[0][0]']                \n",
            "                                                                                                  \n",
            " dense_4 (Dense)                (None, 32)           2080        ['dropout_1[0][0]']              \n",
            "                                                                                                  \n",
            " dense_5 (Dense)                (None, 11)           363         ['dense_4[0][0]']                \n",
            "                                                                                                  \n",
            "==================================================================================================\n",
            "Total params: 359,401\n",
            "Trainable params: 359,401\n",
            "Non-trainable params: 0\n",
            "__________________________________________________________________________________________________\n",
            "None\n"
          ]
        },
        {
          "data": {
            "image/png": "[encoded data removed]",
            "text/plain": [
              "<IPython.core.display.Image object>"
            ]
          },
          "execution_count": 78,
          "metadata": {},
          "output_type": "execute_result"
        }
      ],
      "source": [
        "opt = tf.keras.optimizers.Adam(learning_rate=0.0001)\n",
        "model.compile(loss='categorical_crossentropy', optimizer=opt, metrics=['acc'])\n",
        "print(model.summary())\n",
        "plot_model(model, to_file='model_plot.png', show_shapes=True, show_layer_names=True)"
      ]
    },
    {
      "cell_type": "code",
      "execution_count": null,
      "metadata": {
        "colab": {
          "base_uri": "https://localhost:8080/"
        },
        "id": "JlMMzkEg-675",
        "outputId": "412ce827-2edd-4d41-84e5-90b1e19a60e3"
      },
      "outputs": [
        {
          "name": "stdout",
          "output_type": "stream",
          "text": [
            "Epoch 1/100\n",
            "5/5 [==============================] - 8s 743ms/step - loss: 2.3963 - acc: 0.1783 - val_loss: 2.3933 - val_acc: 0.1667\n",
            "Epoch 2/100\n",
            "5/5 [==============================] - 2s 474ms/step - loss: 2.3937 - acc: 0.2420 - val_loss: 2.3888 - val_acc: 0.1667\n",
            "Epoch 3/100\n",
            "5/5 [==============================] - 2s 472ms/step - loss: 2.3905 - acc: 0.2484 - val_loss: 2.3849 - val_acc: 0.1667\n",
            "Epoch 4/100\n",
            "5/5 [==============================] - 2s 473ms/step - loss: 2.3876 - acc: 0.2038 - val_loss: 2.3809 - val_acc: 0.1667\n",
            "Epoch 5/100\n",
            "5/5 [==============================] - 2s 458ms/step - loss: 2.3838 - acc: 0.1975 - val_loss: 2.3766 - val_acc: 0.1667\n",
            "Epoch 6/100\n",
            "5/5 [==============================] - 2s 467ms/step - loss: 2.3798 - acc: 0.1720 - val_loss: 2.3711 - val_acc: 0.2778\n",
            "Epoch 7/100\n",
            "5/5 [==============================] - 2s 472ms/step - loss: 2.3757 - acc: 0.2229 - val_loss: 2.3636 - val_acc: 0.3333\n",
            "Epoch 8/100\n",
            "5/5 [==============================] - 2s 475ms/step - loss: 2.3704 - acc: 0.2102 - val_loss: 2.3532 - val_acc: 0.2778\n",
            "Epoch 9/100\n",
            "5/5 [==============================] - 2s 465ms/step - loss: 2.3633 - acc: 0.1592 - val_loss: 2.3369 - val_acc: 0.2778\n",
            "Epoch 10/100\n",
            "5/5 [==============================] - 2s 471ms/step - loss: 2.3469 - acc: 0.1847 - val_loss: 2.3079 - val_acc: 0.2222\n",
            "Epoch 11/100\n",
            "5/5 [==============================] - 2s 474ms/step - loss: 2.3175 - acc: 0.1783 - val_loss: 2.2424 - val_acc: 0.1667\n",
            "Epoch 12/100\n",
            "5/5 [==============================] - 2s 468ms/step - loss: 2.2449 - acc: 0.1847 - val_loss: 2.0637 - val_acc: 0.1667\n",
            "Epoch 13/100\n",
            "5/5 [==============================] - 2s 469ms/step - loss: 2.1540 - acc: 0.1975 - val_loss: 1.9360 - val_acc: 0.1667\n",
            "Epoch 14/100\n",
            "5/5 [==============================] - 2s 459ms/step - loss: 2.1106 - acc: 0.2675 - val_loss: 1.8888 - val_acc: 0.1667\n",
            "Epoch 15/100\n",
            "5/5 [==============================] - 2s 464ms/step - loss: 2.1247 - acc: 0.2293 - val_loss: 1.8850 - val_acc: 0.1667\n",
            "Epoch 16/100\n",
            "5/5 [==============================] - 2s 470ms/step - loss: 2.1684 - acc: 0.2611 - val_loss: 1.8963 - val_acc: 0.1667\n",
            "Epoch 17/100\n",
            "5/5 [==============================] - 2s 463ms/step - loss: 2.1162 - acc: 0.2357 - val_loss: 1.9149 - val_acc: 0.1667\n",
            "Epoch 18/100\n",
            "5/5 [==============================] - 2s 471ms/step - loss: 2.1304 - acc: 0.2229 - val_loss: 1.9309 - val_acc: 0.1667\n",
            "Epoch 19/100\n",
            "5/5 [==============================] - 2s 466ms/step - loss: 2.1094 - acc: 0.2102 - val_loss: 1.9309 - val_acc: 0.1667\n",
            "Epoch 20/100\n",
            "5/5 [==============================] - 2s 465ms/step - loss: 2.1027 - acc: 0.2357 - val_loss: 1.9258 - val_acc: 0.1667\n",
            "Epoch 21/100\n",
            "5/5 [==============================] - 2s 474ms/step - loss: 2.1365 - acc: 0.2038 - val_loss: 1.9258 - val_acc: 0.1667\n",
            "Epoch 22/100\n",
            "5/5 [==============================] - 2s 472ms/step - loss: 2.0912 - acc: 0.2420 - val_loss: 1.9221 - val_acc: 0.1667\n",
            "Epoch 23/100\n",
            "5/5 [==============================] - 2s 473ms/step - loss: 2.1110 - acc: 0.2420 - val_loss: 1.9165 - val_acc: 0.1667\n",
            "Epoch 24/100\n",
            "5/5 [==============================] - 2s 471ms/step - loss: 2.0953 - acc: 0.2166 - val_loss: 1.9156 - val_acc: 0.1667\n",
            "Epoch 25/100\n",
            "5/5 [==============================] - 2s 467ms/step - loss: 2.1203 - acc: 0.2229 - val_loss: 1.9166 - val_acc: 0.1667\n",
            "Epoch 26/100\n",
            "5/5 [==============================] - 2s 466ms/step - loss: 2.0877 - acc: 0.2675 - val_loss: 1.9141 - val_acc: 0.1667\n",
            "Epoch 27/100\n",
            "5/5 [==============================] - 2s 466ms/step - loss: 2.1262 - acc: 0.2038 - val_loss: 1.9062 - val_acc: 0.1667\n",
            "Epoch 28/100\n",
            "5/5 [==============================] - 2s 467ms/step - loss: 2.0980 - acc: 0.2166 - val_loss: 1.9010 - val_acc: 0.1667\n",
            "Epoch 29/100\n",
            "5/5 [==============================] - 2s 469ms/step - loss: 2.0738 - acc: 0.2611 - val_loss: 1.8968 - val_acc: 0.1667\n",
            "Epoch 30/100\n",
            "5/5 [==============================] - 2s 472ms/step - loss: 2.1095 - acc: 0.2548 - val_loss: 1.8947 - val_acc: 0.1667\n",
            "Epoch 31/100\n",
            "5/5 [==============================] - 2s 469ms/step - loss: 2.1181 - acc: 0.2166 - val_loss: 1.8970 - val_acc: 0.1667\n",
            "Epoch 32/100\n",
            "5/5 [==============================] - 2s 485ms/step - loss: 2.0850 - acc: 0.1911 - val_loss: 1.8979 - val_acc: 0.1667\n",
            "Epoch 33/100\n",
            "5/5 [==============================] - 2s 478ms/step - loss: 2.1279 - acc: 0.2420 - val_loss: 1.9018 - val_acc: 0.1667\n",
            "Epoch 34/100\n",
            "5/5 [==============================] - 2s 471ms/step - loss: 2.0860 - acc: 0.2548 - val_loss: 1.8996 - val_acc: 0.1667\n",
            "Epoch 35/100\n",
            "5/5 [==============================] - 2s 471ms/step - loss: 2.0928 - acc: 0.2357 - val_loss: 1.8988 - val_acc: 0.1667\n",
            "Epoch 36/100\n",
            "5/5 [==============================] - 2s 464ms/step - loss: 2.0934 - acc: 0.2357 - val_loss: 1.8929 - val_acc: 0.1667\n",
            "Epoch 37/100\n",
            "5/5 [==============================] - 2s 473ms/step - loss: 2.1211 - acc: 0.2293 - val_loss: 1.8919 - val_acc: 0.1667\n",
            "Epoch 38/100\n",
            "5/5 [==============================] - 2s 468ms/step - loss: 2.0870 - acc: 0.2420 - val_loss: 1.8939 - val_acc: 0.1667\n",
            "Epoch 39/100\n",
            "5/5 [==============================] - 2s 466ms/step - loss: 2.0621 - acc: 0.2548 - val_loss: 1.8920 - val_acc: 0.1667\n",
            "Epoch 40/100\n",
            "5/5 [==============================] - 2s 470ms/step - loss: 2.0899 - acc: 0.2484 - val_loss: 1.8845 - val_acc: 0.1667\n",
            "Epoch 41/100\n",
            "5/5 [==============================] - 2s 467ms/step - loss: 2.0937 - acc: 0.2229 - val_loss: 1.8822 - val_acc: 0.1667\n",
            "Epoch 42/100\n",
            "5/5 [==============================] - 2s 470ms/step - loss: 2.0582 - acc: 0.2357 - val_loss: 1.8808 - val_acc: 0.1667\n",
            "Epoch 43/100\n",
            "5/5 [==============================] - 2s 466ms/step - loss: 2.0935 - acc: 0.2293 - val_loss: 1.8822 - val_acc: 0.1667\n",
            "Epoch 44/100\n",
            "5/5 [==============================] - 2s 475ms/step - loss: 2.0392 - acc: 0.2675 - val_loss: 1.8800 - val_acc: 0.1667\n",
            "Epoch 45/100\n",
            "5/5 [==============================] - 2s 474ms/step - loss: 2.1097 - acc: 0.2357 - val_loss: 1.8844 - val_acc: 0.1667\n",
            "Epoch 46/100\n",
            "5/5 [==============================] - 2s 477ms/step - loss: 2.0897 - acc: 0.2548 - val_loss: 1.8921 - val_acc: 0.1667\n",
            "Epoch 47/100\n",
            "5/5 [==============================] - 2s 466ms/step - loss: 2.0931 - acc: 0.1911 - val_loss: 1.8959 - val_acc: 0.1667\n",
            "Epoch 48/100\n",
            "5/5 [==============================] - 2s 468ms/step - loss: 2.0752 - acc: 0.2611 - val_loss: 1.8955 - val_acc: 0.1667\n",
            "Epoch 49/100\n",
            "5/5 [==============================] - 2s 473ms/step - loss: 2.0957 - acc: 0.2484 - val_loss: 1.8947 - val_acc: 0.1667\n",
            "Epoch 50/100\n",
            "5/5 [==============================] - 2s 469ms/step - loss: 2.0683 - acc: 0.2548 - val_loss: 1.8914 - val_acc: 0.1667\n",
            "Epoch 51/100\n",
            "5/5 [==============================] - 3s 741ms/step - loss: 2.0890 - acc: 0.2420 - val_loss: 1.8879 - val_acc: 0.1667\n",
            "Epoch 52/100\n",
            "5/5 [==============================] - 2s 480ms/step - loss: 2.0924 - acc: 0.2611 - val_loss: 1.8892 - val_acc: 0.1667\n",
            "Epoch 53/100\n",
            "5/5 [==============================] - 2s 468ms/step - loss: 2.0868 - acc: 0.2166 - val_loss: 1.8838 - val_acc: 0.1667\n",
            "Epoch 54/100\n",
            "5/5 [==============================] - 2s 483ms/step - loss: 2.0979 - acc: 0.2293 - val_loss: 1.8808 - val_acc: 0.1667\n",
            "Epoch 55/100\n",
            "5/5 [==============================] - 2s 476ms/step - loss: 2.0708 - acc: 0.2229 - val_loss: 1.8800 - val_acc: 0.1667\n",
            "Epoch 56/100\n",
            "5/5 [==============================] - 2s 469ms/step - loss: 2.0956 - acc: 0.2420 - val_loss: 1.8848 - val_acc: 0.1667\n",
            "Epoch 57/100\n",
            "5/5 [==============================] - 2s 481ms/step - loss: 2.0558 - acc: 0.2420 - val_loss: 1.8856 - val_acc: 0.1667\n",
            "Epoch 58/100\n",
            "5/5 [==============================] - 2s 464ms/step - loss: 2.0573 - acc: 0.2611 - val_loss: 1.8794 - val_acc: 0.1667\n",
            "Epoch 59/100\n",
            "5/5 [==============================] - 2s 470ms/step - loss: 2.0880 - acc: 0.2229 - val_loss: 1.8735 - val_acc: 0.1667\n",
            "Epoch 60/100\n",
            "5/5 [==============================] - 2s 474ms/step - loss: 2.0923 - acc: 0.2420 - val_loss: 1.8732 - val_acc: 0.1667\n",
            "Epoch 61/100\n",
            "5/5 [==============================] - 2s 469ms/step - loss: 2.0568 - acc: 0.2739 - val_loss: 1.8768 - val_acc: 0.1667\n",
            "Epoch 62/100\n",
            "5/5 [==============================] - 2s 472ms/step - loss: 2.0738 - acc: 0.2420 - val_loss: 1.8756 - val_acc: 0.1667\n",
            "Epoch 63/100\n",
            "5/5 [==============================] - 2s 464ms/step - loss: 2.0585 - acc: 0.2675 - val_loss: 1.8723 - val_acc: 0.1667\n",
            "Epoch 64/100\n",
            "5/5 [==============================] - 2s 473ms/step - loss: 2.0806 - acc: 0.2420 - val_loss: 1.8732 - val_acc: 0.1667\n",
            "Epoch 65/100\n",
            "5/5 [==============================] - 2s 470ms/step - loss: 2.0693 - acc: 0.2548 - val_loss: 1.8753 - val_acc: 0.1667\n",
            "Epoch 66/100\n",
            "5/5 [==============================] - 2s 475ms/step - loss: 2.1020 - acc: 0.2229 - val_loss: 1.8756 - val_acc: 0.1667\n",
            "Epoch 67/100\n",
            "5/5 [==============================] - 2s 479ms/step - loss: 2.0943 - acc: 0.2293 - val_loss: 1.8824 - val_acc: 0.1667\n",
            "Epoch 68/100\n",
            "5/5 [==============================] - 2s 466ms/step - loss: 2.0741 - acc: 0.2548 - val_loss: 1.8829 - val_acc: 0.1667\n",
            "Epoch 69/100\n",
            "5/5 [==============================] - 2s 478ms/step - loss: 2.1093 - acc: 0.2293 - val_loss: 1.8858 - val_acc: 0.1667\n",
            "Epoch 70/100\n",
            "5/5 [==============================] - 2s 463ms/step - loss: 2.0585 - acc: 0.2803 - val_loss: 1.8864 - val_acc: 0.1667\n",
            "Epoch 71/100\n",
            "5/5 [==============================] - 2s 465ms/step - loss: 2.0901 - acc: 0.2611 - val_loss: 1.8809 - val_acc: 0.1667\n",
            "Epoch 72/100\n",
            "5/5 [==============================] - 2s 465ms/step - loss: 2.0836 - acc: 0.2420 - val_loss: 1.8796 - val_acc: 0.1667\n",
            "Epoch 73/100\n",
            "5/5 [==============================] - 2s 471ms/step - loss: 2.0682 - acc: 0.2803 - val_loss: 1.8798 - val_acc: 0.1667\n",
            "Epoch 74/100\n",
            "5/5 [==============================] - 2s 467ms/step - loss: 2.0975 - acc: 0.2611 - val_loss: 1.8817 - val_acc: 0.1667\n",
            "Epoch 75/100\n",
            "5/5 [==============================] - 2s 471ms/step - loss: 2.0894 - acc: 0.2866 - val_loss: 1.8831 - val_acc: 0.1667\n",
            "Epoch 76/100\n",
            "5/5 [==============================] - 2s 475ms/step - loss: 2.0649 - acc: 0.2484 - val_loss: 1.8889 - val_acc: 0.1667\n",
            "Epoch 77/100\n",
            "5/5 [==============================] - 2s 470ms/step - loss: 2.0955 - acc: 0.2229 - val_loss: 1.8927 - val_acc: 0.1667\n",
            "Epoch 78/100\n",
            "5/5 [==============================] - 2s 469ms/step - loss: 2.0600 - acc: 0.2484 - val_loss: 1.8917 - val_acc: 0.1667\n",
            "Epoch 79/100\n",
            "5/5 [==============================] - 2s 474ms/step - loss: 2.1204 - acc: 0.2293 - val_loss: 1.8905 - val_acc: 0.1667\n",
            "Epoch 80/100\n",
            "5/5 [==============================] - 2s 474ms/step - loss: 2.1016 - acc: 0.2420 - val_loss: 1.8951 - val_acc: 0.1667\n",
            "Epoch 81/100\n",
            "5/5 [==============================] - 2s 462ms/step - loss: 2.0576 - acc: 0.2611 - val_loss: 1.8931 - val_acc: 0.1667\n",
            "Epoch 82/100\n",
            "5/5 [==============================] - 2s 465ms/step - loss: 2.0662 - acc: 0.2357 - val_loss: 1.8905 - val_acc: 0.1667\n",
            "Epoch 83/100\n",
            "5/5 [==============================] - 2s 472ms/step - loss: 2.0898 - acc: 0.2484 - val_loss: 1.8936 - val_acc: 0.1667\n",
            "Epoch 84/100\n",
            "5/5 [==============================] - 2s 470ms/step - loss: 2.1012 - acc: 0.2611 - val_loss: 1.8922 - val_acc: 0.1667\n",
            "Epoch 85/100\n",
            "5/5 [==============================] - 2s 468ms/step - loss: 2.0789 - acc: 0.2357 - val_loss: 1.8889 - val_acc: 0.1667\n",
            "Epoch 86/100\n",
            "5/5 [==============================] - 2s 473ms/step - loss: 2.1293 - acc: 0.2293 - val_loss: 1.8884 - val_acc: 0.1667\n",
            "Epoch 87/100\n",
            "5/5 [==============================] - 2s 467ms/step - loss: 2.0630 - acc: 0.2548 - val_loss: 1.8885 - val_acc: 0.1667\n",
            "Epoch 88/100\n",
            "5/5 [==============================] - 2s 467ms/step - loss: 2.1005 - acc: 0.2930 - val_loss: 1.8856 - val_acc: 0.1667\n",
            "Epoch 89/100\n",
            "5/5 [==============================] - 2s 458ms/step - loss: 2.0781 - acc: 0.2420 - val_loss: 1.8822 - val_acc: 0.1667\n",
            "Epoch 90/100\n",
            "5/5 [==============================] - 2s 464ms/step - loss: 2.0738 - acc: 0.2484 - val_loss: 1.8802 - val_acc: 0.1667\n",
            "Epoch 91/100\n",
            "5/5 [==============================] - 2s 469ms/step - loss: 2.1033 - acc: 0.2102 - val_loss: 1.8796 - val_acc: 0.1667\n",
            "Epoch 92/100\n",
            "5/5 [==============================] - 2s 464ms/step - loss: 2.0920 - acc: 0.2484 - val_loss: 1.8807 - val_acc: 0.1667\n",
            "Epoch 93/100\n",
            "5/5 [==============================] - 2s 475ms/step - loss: 2.0783 - acc: 0.2420 - val_loss: 1.8837 - val_acc: 0.1667\n",
            "Epoch 94/100\n",
            "5/5 [==============================] - 2s 469ms/step - loss: 2.0669 - acc: 0.2293 - val_loss: 1.8845 - val_acc: 0.1667\n",
            "Epoch 95/100\n",
            "5/5 [==============================] - 2s 470ms/step - loss: 2.0764 - acc: 0.2611 - val_loss: 1.8850 - val_acc: 0.1667\n",
            "Epoch 96/100\n",
            "5/5 [==============================] - 2s 470ms/step - loss: 2.0904 - acc: 0.2420 - val_loss: 1.8865 - val_acc: 0.1667\n",
            "Epoch 97/100\n",
            "5/5 [==============================] - 2s 464ms/step - loss: 2.0833 - acc: 0.2229 - val_loss: 1.8874 - val_acc: 0.1667\n",
            "Epoch 98/100\n",
            "5/5 [==============================] - 2s 472ms/step - loss: 2.0649 - acc: 0.2611 - val_loss: 1.8810 - val_acc: 0.1667\n",
            "Epoch 99/100\n",
            "5/5 [==============================] - 2s 467ms/step - loss: 2.0595 - acc: 0.2357 - val_loss: 1.8702 - val_acc: 0.1667\n",
            "Epoch 100/100\n",
            "5/5 [==============================] - 2s 496ms/step - loss: 2.0478 - acc: 0.2611 - val_loss: 1.8649 - val_acc: 0.1667\n"
          ]
        }
      ],
      "source": [
        "history = model.fit(x=[X1_train, X2_train, X3_train], y=y_train_cate, batch_size=32, epochs=100, verbose=1, validation_split=0.1)"
      ]
    },
    {
      "cell_type": "code",
      "execution_count": null,
      "metadata": {
        "colab": {
          "base_uri": "https://localhost:8080/",
          "height": 295
        },
        "id": "GImKM-0iNmlP",
        "outputId": "84ecf25f-165e-45c7-dca1-d9278c22b06e"
      },
      "outputs": [
        {
          "data": {
            "image/png": "[encoded data removed]",
            "text/plain": [
              "<Figure size 432x288 with 1 Axes>"
            ]
          },
          "metadata": {
            "needs_background": "light"
          },
          "output_type": "display_data"
        }
      ],
      "source": [
        "plt.plot(history.history['acc'])\n",
        "plt.plot(history.history['val_acc'])\n",
        "plt.title('model accuracy')\n",
        "plt.ylabel('accuracy')\n",
        "plt.xlabel('epoch')\n",
        "plt.legend(['train', 'val'], loc='upper left')\n",
        "plt.show()"
      ]
    },
    {
      "cell_type": "code",
      "execution_count": null,
      "metadata": {
        "colab": {
          "base_uri": "https://localhost:8080/",
          "height": 295
        },
        "id": "K7Al7SLeNuFD",
        "outputId": "7e00ff94-7966-4759-d6aa-7319e534a980"
      },
      "outputs": [
        {
          "data": {
            "image/png": "[encoded data removed]",
            "text/plain": [
              "<Figure size 432x288 with 1 Axes>"
            ]
          },
          "metadata": {
            "needs_background": "light"
          },
          "output_type": "display_data"
        }
      ],
      "source": [
        "plt.plot(history.history['loss'])\n",
        "plt.plot(history.history['val_loss'])\n",
        "plt.title('model loss')\n",
        "plt.ylabel('loss')\n",
        "plt.xlabel('epoch')\n",
        "plt.legend(['train', 'val'], loc='upper left')\n",
        "plt.show()"
      ]
    },
    {
      "cell_type": "code",
      "execution_count": null,
      "metadata": {
        "id": "S2ml0Io9JDDO"
      },
      "outputs": [],
      "source": [
        "y_pred = model.predict([X1_test, X2_test, X3_test])"
      ]
    },
    {
      "cell_type": "code",
      "execution_count": null,
      "metadata": {
        "id": "MrhjUbMzLTgb"
      },
      "outputs": [],
      "source": [
        "y_pred = np.argmax(y_pred, axis=1)\n",
        "y_test_true = np.argmax(y_test_cate, axis=1)"
      ]
    },
    {
      "cell_type": "markdown",
      "metadata": {
        "id": "3vbS7IVlNaL2"
      },
      "source": [
        "## classification report"
      ]
    },
    {
      "cell_type": "code",
      "execution_count": null,
      "metadata": {
        "colab": {
          "base_uri": "https://localhost:8080/",
          "height": 595
        },
        "id": "juUs5NpZLASg",
        "outputId": "a830983c-386d-421c-d301-0822c28a40a8"
      },
      "outputs": [
        {
          "name": "stdout",
          "output_type": "stream",
          "text": [
            "              precision    recall  f1-score   support\n",
            "\n",
            "           0       0.00      0.00      0.00         1\n",
            "           1       0.00      0.00      0.00         1\n",
            "           2       0.00      0.00      0.00         1\n",
            "           3       0.00      0.00      0.00         2\n",
            "           4       0.00      0.00      0.00         3\n",
            "           5       0.00      0.00      0.00         1\n",
            "           6       0.00      0.00      0.00         3\n",
            "           7       0.00      0.00      0.00         1\n",
            "           8       0.00      0.00      0.00         9\n",
            "           9       0.00      0.00      0.00         9\n",
            "          10       0.30      1.00      0.46        13\n",
            "\n",
            "    accuracy                           0.30        44\n",
            "   macro avg       0.03      0.09      0.04        44\n",
            "weighted avg       0.09      0.30      0.13        44\n",
            "\n"
          ]
        },
        {
          "data": {
            "text/plain": [
              "<matplotlib.axes._subplots.AxesSubplot at 0x7fc630250510>"
            ]
          },
          "execution_count": 84,
          "metadata": {},
          "output_type": "execute_result"
        },
        {
          "data": {
            "image/png": "[encoded data removed]",
            "text/plain": [
              "<Figure size 432x288 with 2 Axes>"
            ]
          },
          "metadata": {
            "needs_background": "light"
          },
          "output_type": "display_data"
        }
      ],
      "source": [
        "from sklearn.metrics import confusion_matrix\n",
        "\n",
        "print(classification_report(y_test_true, y_pred))\n",
        "\n",
        "confusion_matrix = confusion_matrix(y_test_true, y_pred)\n",
        "\n",
        "cm_array_df = pd.DataFrame(confusion_matrix, index=target_names, columns=target_names)\n",
        "sns.heatmap(cm_array_df, annot=True, annot_kws={\"size\": 12}) "
      ]
    },
    {
      "cell_type": "markdown",
      "metadata": {
        "id": "kfC-WGDVkEGN"
      },
      "source": [
        "## penjelasan\n",
        "\n",
        "dari hasil plot history model training. data validasi konstan seiring dengan berjalannya iterasi training, artinya model overfit. model dengan deep learning gagal menggeneralisasi data. hasil prediksi selalu pada kelas nilai 100, artinya pada kelas 100 memiliki nilai false negatif 0 dan model overfitting. jika dilihat dari kelas lain, tidak ada kelas lain yang bisa diprediksi. true positif bernilai 0 pada kelas lain. gagal memprediksi kelas lain karena banyak model cenderung melihat pola data hasil model arsitektur terakhir pada layer dense yang hampir sama semua dan mirip dengan kelas 100. hal ini dikarenakan data yang digunakan tidak balance dan juga tidak berkorelasi. kelas lain gagal diprediksi akibat ketidakseimbangan dataset."
      ]
    },
    {
      "cell_type": "markdown",
      "metadata": {
        "id": "rUi_OAOWxh7S"
      },
      "source": [
        "# Kesimpulan\n",
        "\n",
        "*  tidak ada model yang baik dalam memprediksi dataset yang diberikan. semua model uyang digunakan mengalami overfitting. artinya dataset yang diberikan tidak mampu diprediksi dengan metode yang digunakan disini atau dataset yang diberikan terlalu sedikit untuk bisa digeneralisasi.\n",
        "\n",
        "*  hasil terbaik ada pada penggunaan penggabungan 2 fitur \"jawaban_dosen\" dan \"jawaban_mahasiswa\" menjadi \"unique_corpus\". dengan score 30-40% akurasi klasifikasi pada data test.\n",
        "\n",
        "* hasil klasifikasi cenderung kepada kelas human_rater 80, 90 dan 100. hal ini dikarenakan banyaknya data pada kelas tersebut dan dataset imbalance.\n",
        "\n",
        "* augmentasi tidak dilakukan karena pengacakan nilai dianggap berpengaruh pada juga pada perubahan nilai human_rater"
      ]
    },
    {
      "cell_type": "markdown",
      "metadata": {
        "id": "r2KVz0zm0Cu-"
      },
      "source": [
        "# Download data training dan testing hasil splitting dataset"
      ]
    },
    {
      "cell_type": "code",
      "execution_count": null,
      "metadata": {
        "colab": {
          "base_uri": "https://localhost:8080/",
          "height": 17
        },
        "id": "j_tG15nRzBKA",
        "outputId": "cad7d44a-2476-4c16-87ea-1455f9a5c449"
      },
      "outputs": [
        {
          "data": {
            "application/javascript": "\n    async function download(id, filename, size) {\n      if (!google.colab.kernel.accessAllowed) {\n        return;\n      }\n      const div = document.createElement('div');\n      const label = document.createElement('label');\n      label.textContent = `Downloading \"${filename}\": `;\n      div.appendChild(label);\n      const progress = document.createElement('progress');\n      progress.max = size;\n      div.appendChild(progress);\n      document.body.appendChild(div);\n\n      const buffers = [];\n      let downloaded = 0;\n\n      const channel = await google.colab.kernel.comms.open(id);\n      // Send a message to notify the kernel that we're ready.\n      channel.send({})\n\n      for await (const message of channel.messages) {\n        // Send a message to notify the kernel that we're ready.\n        channel.send({})\n        if (message.buffers) {\n          for (const buffer of message.buffers) {\n            buffers.push(buffer);\n            downloaded += buffer.byteLength;\n            progress.value = downloaded;\n          }\n        }\n      }\n      const blob = new Blob(buffers, {type: 'application/binary'});\n      const a = document.createElement('a');\n      a.href = window.URL.createObjectURL(blob);\n      a.download = filename;\n      div.appendChild(a);\n      a.click();\n      div.remove();\n    }\n  ",
            "text/plain": [
              "<IPython.core.display.Javascript object>"
            ]
          },
          "metadata": {},
          "output_type": "display_data"
        },
        {
          "data": {
            "application/javascript": "download(\"download_02f4fa4a-c831-4b17-8298-257771f8b233\", \"Azhari Haris Al Hamdi_train.csv\", 92768)",
            "text/plain": [
              "<IPython.core.display.Javascript object>"
            ]
          },
          "metadata": {},
          "output_type": "display_data"
        },
        {
          "data": {
            "application/javascript": "\n    async function download(id, filename, size) {\n      if (!google.colab.kernel.accessAllowed) {\n        return;\n      }\n      const div = document.createElement('div');\n      const label = document.createElement('label');\n      label.textContent = `Downloading \"${filename}\": `;\n      div.appendChild(label);\n      const progress = document.createElement('progress');\n      progress.max = size;\n      div.appendChild(progress);\n      document.body.appendChild(div);\n\n      const buffers = [];\n      let downloaded = 0;\n\n      const channel = await google.colab.kernel.comms.open(id);\n      // Send a message to notify the kernel that we're ready.\n      channel.send({})\n\n      for await (const message of channel.messages) {\n        // Send a message to notify the kernel that we're ready.\n        channel.send({})\n        if (message.buffers) {\n          for (const buffer of message.buffers) {\n            buffers.push(buffer);\n            downloaded += buffer.byteLength;\n            progress.value = downloaded;\n          }\n        }\n      }\n      const blob = new Blob(buffers, {type: 'application/binary'});\n      const a = document.createElement('a');\n      a.href = window.URL.createObjectURL(blob);\n      a.download = filename;\n      div.appendChild(a);\n      a.click();\n      div.remove();\n    }\n  ",
            "text/plain": [
              "<IPython.core.display.Javascript object>"
            ]
          },
          "metadata": {},
          "output_type": "display_data"
        },
        {
          "data": {
            "application/javascript": "download(\"download_04701558-45cc-4fba-b95f-afe53bc1ab2f\", \"Azhari Haris Al Hamdi_test.csv\", 22776)",
            "text/plain": [
              "<IPython.core.display.Javascript object>"
            ]
          },
          "metadata": {},
          "output_type": "display_data"
        }
      ],
      "source": [
        "from google.colab import files\n",
        "\n",
        "train_df.to_csv('Azhari Haris Al Hamdi_train.csv')\n",
        "test_df.to_csv('Azhari Haris Al Hamdi_test.csv')\n",
        "\n",
        "files.download('Azhari Haris Al Hamdi_train.csv')\n",
        "files.download('Azhari Haris Al Hamdi_test.csv')"
      ]
    },
    {
      "cell_type": "markdown",
      "metadata": {
        "id": "-xy-cYu8020-"
      },
      "source": [
        "# Referensi\n",
        "\n",
        "[1] https://tau-data.id/d/nlptm-02.html\n",
        "\n",
        "[2] https://ksnugroho.medium.com/dasar-text-preprocessing-dengan-python-a4fa52608ffe\n",
        "\n",
        "[3] Wei, Jason & Zou, Kai. (2019). EDA: Easy Data Augmentation Techniques for Boosting Performance on Text Classification Tasks.\n",
        "\n",
        "[4] https://maelfabien.github.io/machinelearning/NLP_8/#random-insertion-ri\n",
        "\n",
        "[5] https://scikit-learn.org/stable/modules/generated/sklearn.feature_extraction.text.TfidfVectorizer.html\n",
        "\n",
        "[6] https://scikit-learn.org/stable/modules/generated/sklearn.naive_bayes.MultinomialNB.html\n",
        "\n",
        "[7] https://scikit-learn.org/stable/modules/generated/sklearn.ensemble.RandomForestClassifier.html\n",
        "\n",
        "[8] Speech and Language Processing. Daniel Jurafsky & James H. Martin. Copyright © 2021. All rights reserved. Draft of December 29, 2021.\n",
        "\n",
        "[9] https://towardsdatascience.com/what-is-cosine-similarity-how-to-compare-text-and-images-in-python-d2bb6e411ef0\n",
        "\n",
        "[10] https://scikit-learn.org/stable/modules/generated/sklearn.tree.DecisionTreeRegressor.html\n",
        "\n",
        "[11] https://towardsdatascience.com/tuning-the-hyperparameters-of-your-machine-learning-model-using-gridsearchcv-7fc2bb76ff27\n",
        "\n",
        "[12] https://towardsdatascience.com/how-to-make-sgd-classifier-perform-as-well-as-logistic-regression-using-parfit-cc10bca2d3c4\n",
        "\n",
        "[13] https://xgboost.readthedocs.io/en/stable/parameter.html\n",
        "\n",
        "[14] https://stackabuse.com/python-for-nlp-creating-multi-data-type-classification-models-with-keras/\n",
        "\n",
        "[15] https://medium.com/swlh/sentiment-classification-using-word-embeddings-word2vec-aedf28fbb8ca\n",
        "\n",
        "[16] https://radimrehurek.com/gensim/\n"
      ]
    }
  ],
  "metadata": {
    "colab": {
      "collapsed_sections": [],
      "name": "Azhari Haris Al Hamdi - Project UAS- Rekayasa Analisis Terapan.ipynb",
      "provenance": [],
      "toc_visible": true
    },
    "kernelspec": {
      "display_name": "Python 3",
      "name": "python3"
    },
    "language_info": {
      "name": "python"
    }
  },
  "nbformat": 4,
  "nbformat_minor": 0
}
